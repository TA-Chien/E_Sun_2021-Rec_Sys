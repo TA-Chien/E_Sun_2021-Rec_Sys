{
 "cells": [
  {
   "cell_type": "code",
   "execution_count": 1,
   "id": "da4b7b29",
   "metadata": {
    "ExecuteTime": {
     "end_time": "2022-01-04T02:00:49.481117Z",
     "start_time": "2022-01-04T02:00:49.253615Z"
    }
   },
   "outputs": [],
   "source": [
    "import pandas as pd\n",
    "import numpy as np\n",
    "import time\n",
    "from tqdm import tqdm \n",
    "import os as os"
   ]
  },
  {
   "cell_type": "code",
   "execution_count": 2,
   "id": "60ae3049",
   "metadata": {
    "ExecuteTime": {
     "end_time": "2022-01-04T02:00:51.267026Z",
     "start_time": "2022-01-04T02:00:49.682769Z"
    }
   },
   "outputs": [
    {
     "name": "stdout",
     "output_type": "stream",
     "text": [
      "2.7.0\n"
     ]
    }
   ],
   "source": [
    "import tensorflow as tf\n",
    "print(tf.__version__)"
   ]
  },
  {
   "cell_type": "markdown",
   "id": "b16396d8",
   "metadata": {
    "ExecuteTime": {
     "end_time": "2021-12-23T06:59:39.087447Z",
     "start_time": "2021-12-23T06:59:39.069523Z"
    }
   },
   "source": [
    "Total 500000 customers "
   ]
  },
  {
   "cell_type": "markdown",
   "id": "2ae75bf1",
   "metadata": {},
   "source": [
    "### Create Specific Dataset"
   ]
  },
  {
   "cell_type": "code",
   "execution_count": 3,
   "id": "5c1c0ae2",
   "metadata": {
    "ExecuteTime": {
     "end_time": "2022-01-04T01:38:41.036111Z",
     "start_time": "2022-01-04T01:38:36.944731Z"
    }
   },
   "outputs": [],
   "source": [
    "# chunkdata = pd.read_csv(\"C:\\\\Users\\\\User\\\\Documents\\\\Cleaned_Data.csv\",usecols=fields ,chunksize = chunksize)\n",
    "\n",
    "chunksize = 10e5\n",
    "fields = ['dt', 'chid', 'shop_tag']\n",
    "# chunkdata = pd.read_csv('C:\\\\Users\\\\User\\\\Documents\\\\tbrain_cc_training_48tags_hash_final.csv',usecols=fields ,chunksize=chunksize)\n",
    "chunkdata = pd.read_csv('C:\\\\Users\\\\User\\\\Documents\\\\Cleaned_Shop_tag.csv',usecols=fields ,chunksize=chunksize)\n",
    "chunk_list = []  # append each chunk df here \n",
    "\n",
    "# Each chunk is in df format\n",
    "for chunk in chunkdata:  \n",
    "    # perform data filtering \n",
    "    # chunk_filter = chunk_preprocessing(chunk)\n",
    "    \n",
    "    # Once the data filtering is done, append the chunk to list\n",
    "    chunk_list.append(chunk)\n",
    "    \n",
    "# concat the list into dataframe \n",
    "df_concat = pd.concat(chunk_list)"
   ]
  },
  {
   "cell_type": "code",
   "execution_count": 4,
   "id": "0e96685c",
   "metadata": {
    "ExecuteTime": {
     "end_time": "2022-01-04T01:38:41.482723Z",
     "start_time": "2022-01-04T01:38:41.467711Z"
    }
   },
   "outputs": [],
   "source": [
    "del chunk"
   ]
  },
  {
   "cell_type": "code",
   "execution_count": 5,
   "id": "5e945524",
   "metadata": {
    "ExecuteTime": {
     "end_time": "2022-01-04T01:38:42.174399Z",
     "start_time": "2022-01-04T01:38:41.876173Z"
    }
   },
   "outputs": [
    {
     "data": {
      "text/plain": [
       "(498040,\n",
       " array([ 2,  6, 10, 12, 13, 15, 18, 19, 21, 22, 25, 26, 36, 37, 39, 48],\n",
       "       dtype=int64))"
      ]
     },
     "execution_count": 5,
     "metadata": {},
     "output_type": "execute_result"
    }
   ],
   "source": [
    "len(df_concat.chid.unique()), df_concat.shop_tag.unique()"
   ]
  },
  {
   "cell_type": "code",
   "execution_count": 6,
   "id": "bb56f66e",
   "metadata": {
    "ExecuteTime": {
     "end_time": "2022-01-04T01:38:52.542996Z",
     "start_time": "2022-01-04T01:38:52.534046Z"
    }
   },
   "outputs": [
    {
     "name": "stdout",
     "output_type": "stream",
     "text": [
      "<class 'pandas.core.frame.DataFrame'>\n",
      "RangeIndex: 22130579 entries, 0 to 22130578\n",
      "Data columns (total 3 columns):\n",
      " #   Column    Dtype\n",
      "---  ------    -----\n",
      " 0   dt        int64\n",
      " 1   chid      int64\n",
      " 2   shop_tag  int64\n",
      "dtypes: int64(3)\n",
      "memory usage: 506.5 MB\n"
     ]
    }
   ],
   "source": [
    "df_concat.info()"
   ]
  },
  {
   "cell_type": "code",
   "execution_count": 7,
   "id": "8b6b0049",
   "metadata": {
    "ExecuteTime": {
     "end_time": "2022-01-04T01:38:53.270030Z",
     "start_time": "2022-01-04T01:38:53.069452Z"
    }
   },
   "outputs": [],
   "source": [
    "ID_list = df_concat.chid.unique()"
   ]
  },
  {
   "cell_type": "code",
   "execution_count": 8,
   "id": "ff5957e6",
   "metadata": {
    "ExecuteTime": {
     "end_time": "2021-12-29T08:47:25.731941Z",
     "start_time": "2021-12-29T08:47:24.050210Z"
    }
   },
   "outputs": [
    {
     "data": {
      "text/html": [
       "<div>\n",
       "<style scoped>\n",
       "    .dataframe tbody tr th:only-of-type {\n",
       "        vertical-align: middle;\n",
       "    }\n",
       "\n",
       "    .dataframe tbody tr th {\n",
       "        vertical-align: top;\n",
       "    }\n",
       "\n",
       "    .dataframe thead th {\n",
       "        text-align: right;\n",
       "    }\n",
       "</style>\n",
       "<table border=\"1\" class=\"dataframe\">\n",
       "  <thead>\n",
       "    <tr style=\"text-align: right;\">\n",
       "      <th></th>\n",
       "      <th>dt</th>\n",
       "      <th>chid</th>\n",
       "      <th>shop_tag</th>\n",
       "    </tr>\n",
       "  </thead>\n",
       "  <tbody>\n",
       "    <tr>\n",
       "      <th>0</th>\n",
       "      <td>1</td>\n",
       "      <td>10267183</td>\n",
       "      <td>2</td>\n",
       "    </tr>\n",
       "    <tr>\n",
       "      <th>1199478</th>\n",
       "      <td>17</td>\n",
       "      <td>10267183</td>\n",
       "      <td>2</td>\n",
       "    </tr>\n",
       "    <tr>\n",
       "      <th>2727005</th>\n",
       "      <td>3</td>\n",
       "      <td>10267183</td>\n",
       "      <td>10</td>\n",
       "    </tr>\n",
       "    <tr>\n",
       "      <th>2790562</th>\n",
       "      <td>4</td>\n",
       "      <td>10267183</td>\n",
       "      <td>10</td>\n",
       "    </tr>\n",
       "    <tr>\n",
       "      <th>2855738</th>\n",
       "      <td>5</td>\n",
       "      <td>10267183</td>\n",
       "      <td>10</td>\n",
       "    </tr>\n",
       "    <tr>\n",
       "      <th>2923050</th>\n",
       "      <td>6</td>\n",
       "      <td>10267183</td>\n",
       "      <td>10</td>\n",
       "    </tr>\n",
       "    <tr>\n",
       "      <th>2997089</th>\n",
       "      <td>7</td>\n",
       "      <td>10267183</td>\n",
       "      <td>10</td>\n",
       "    </tr>\n",
       "    <tr>\n",
       "      <th>3076598</th>\n",
       "      <td>8</td>\n",
       "      <td>10267183</td>\n",
       "      <td>10</td>\n",
       "    </tr>\n",
       "    <tr>\n",
       "      <th>3159676</th>\n",
       "      <td>9</td>\n",
       "      <td>10267183</td>\n",
       "      <td>10</td>\n",
       "    </tr>\n",
       "    <tr>\n",
       "      <th>3256836</th>\n",
       "      <td>10</td>\n",
       "      <td>10267183</td>\n",
       "      <td>10</td>\n",
       "    </tr>\n",
       "    <tr>\n",
       "      <th>3352844</th>\n",
       "      <td>11</td>\n",
       "      <td>10267183</td>\n",
       "      <td>10</td>\n",
       "    </tr>\n",
       "    <tr>\n",
       "      <th>3446164</th>\n",
       "      <td>12</td>\n",
       "      <td>10267183</td>\n",
       "      <td>10</td>\n",
       "    </tr>\n",
       "    <tr>\n",
       "      <th>3543074</th>\n",
       "      <td>13</td>\n",
       "      <td>10267183</td>\n",
       "      <td>10</td>\n",
       "    </tr>\n",
       "    <tr>\n",
       "      <th>3647417</th>\n",
       "      <td>14</td>\n",
       "      <td>10267183</td>\n",
       "      <td>10</td>\n",
       "    </tr>\n",
       "    <tr>\n",
       "      <th>3751921</th>\n",
       "      <td>15</td>\n",
       "      <td>10267183</td>\n",
       "      <td>10</td>\n",
       "    </tr>\n",
       "    <tr>\n",
       "      <th>3859587</th>\n",
       "      <td>16</td>\n",
       "      <td>10267183</td>\n",
       "      <td>10</td>\n",
       "    </tr>\n",
       "    <tr>\n",
       "      <th>3967643</th>\n",
       "      <td>17</td>\n",
       "      <td>10267183</td>\n",
       "      <td>10</td>\n",
       "    </tr>\n",
       "    <tr>\n",
       "      <th>4072891</th>\n",
       "      <td>18</td>\n",
       "      <td>10267183</td>\n",
       "      <td>10</td>\n",
       "    </tr>\n",
       "    <tr>\n",
       "      <th>4180305</th>\n",
       "      <td>19</td>\n",
       "      <td>10267183</td>\n",
       "      <td>10</td>\n",
       "    </tr>\n",
       "    <tr>\n",
       "      <th>4285034</th>\n",
       "      <td>20</td>\n",
       "      <td>10267183</td>\n",
       "      <td>10</td>\n",
       "    </tr>\n",
       "    <tr>\n",
       "      <th>4390939</th>\n",
       "      <td>21</td>\n",
       "      <td>10267183</td>\n",
       "      <td>10</td>\n",
       "    </tr>\n",
       "    <tr>\n",
       "      <th>4514190</th>\n",
       "      <td>22</td>\n",
       "      <td>10267183</td>\n",
       "      <td>10</td>\n",
       "    </tr>\n",
       "    <tr>\n",
       "      <th>4633234</th>\n",
       "      <td>23</td>\n",
       "      <td>10267183</td>\n",
       "      <td>10</td>\n",
       "    </tr>\n",
       "    <tr>\n",
       "      <th>4749127</th>\n",
       "      <td>24</td>\n",
       "      <td>10267183</td>\n",
       "      <td>10</td>\n",
       "    </tr>\n",
       "    <tr>\n",
       "      <th>5025373</th>\n",
       "      <td>6</td>\n",
       "      <td>10267183</td>\n",
       "      <td>12</td>\n",
       "    </tr>\n",
       "    <tr>\n",
       "      <th>7367118</th>\n",
       "      <td>10</td>\n",
       "      <td>10267183</td>\n",
       "      <td>15</td>\n",
       "    </tr>\n",
       "    <tr>\n",
       "      <th>15948917</th>\n",
       "      <td>3</td>\n",
       "      <td>10267183</td>\n",
       "      <td>37</td>\n",
       "    </tr>\n",
       "    <tr>\n",
       "      <th>16222359</th>\n",
       "      <td>5</td>\n",
       "      <td>10267183</td>\n",
       "      <td>37</td>\n",
       "    </tr>\n",
       "    <tr>\n",
       "      <th>16369308</th>\n",
       "      <td>6</td>\n",
       "      <td>10267183</td>\n",
       "      <td>37</td>\n",
       "    </tr>\n",
       "    <tr>\n",
       "      <th>16681933</th>\n",
       "      <td>8</td>\n",
       "      <td>10267183</td>\n",
       "      <td>37</td>\n",
       "    </tr>\n",
       "    <tr>\n",
       "      <th>16838497</th>\n",
       "      <td>9</td>\n",
       "      <td>10267183</td>\n",
       "      <td>37</td>\n",
       "    </tr>\n",
       "    <tr>\n",
       "      <th>16999021</th>\n",
       "      <td>10</td>\n",
       "      <td>10267183</td>\n",
       "      <td>37</td>\n",
       "    </tr>\n",
       "    <tr>\n",
       "      <th>17719313</th>\n",
       "      <td>14</td>\n",
       "      <td>10267183</td>\n",
       "      <td>37</td>\n",
       "    </tr>\n",
       "    <tr>\n",
       "      <th>18459563</th>\n",
       "      <td>18</td>\n",
       "      <td>10267183</td>\n",
       "      <td>37</td>\n",
       "    </tr>\n",
       "  </tbody>\n",
       "</table>\n",
       "</div>"
      ],
      "text/plain": [
       "          dt      chid  shop_tag\n",
       "0          1  10267183         2\n",
       "1199478   17  10267183         2\n",
       "2727005    3  10267183        10\n",
       "2790562    4  10267183        10\n",
       "2855738    5  10267183        10\n",
       "2923050    6  10267183        10\n",
       "2997089    7  10267183        10\n",
       "3076598    8  10267183        10\n",
       "3159676    9  10267183        10\n",
       "3256836   10  10267183        10\n",
       "3352844   11  10267183        10\n",
       "3446164   12  10267183        10\n",
       "3543074   13  10267183        10\n",
       "3647417   14  10267183        10\n",
       "3751921   15  10267183        10\n",
       "3859587   16  10267183        10\n",
       "3967643   17  10267183        10\n",
       "4072891   18  10267183        10\n",
       "4180305   19  10267183        10\n",
       "4285034   20  10267183        10\n",
       "4390939   21  10267183        10\n",
       "4514190   22  10267183        10\n",
       "4633234   23  10267183        10\n",
       "4749127   24  10267183        10\n",
       "5025373    6  10267183        12\n",
       "7367118   10  10267183        15\n",
       "15948917   3  10267183        37\n",
       "16222359   5  10267183        37\n",
       "16369308   6  10267183        37\n",
       "16681933   8  10267183        37\n",
       "16838497   9  10267183        37\n",
       "16999021  10  10267183        37\n",
       "17719313  14  10267183        37\n",
       "18459563  18  10267183        37"
      ]
     },
     "execution_count": 8,
     "metadata": {},
     "output_type": "execute_result"
    }
   ],
   "source": [
    "sctor_ID = df_concat.groupby('chid')\n",
    "sctor_ID.get_group(ID_list[0])"
   ]
  },
  {
   "cell_type": "code",
   "execution_count": 11,
   "id": "44939d34",
   "metadata": {
    "ExecuteTime": {
     "end_time": "2021-12-29T08:48:06.020636Z",
     "start_time": "2021-12-29T08:48:05.985730Z"
    }
   },
   "outputs": [
    {
     "data": {
      "text/html": [
       "<div>\n",
       "<style scoped>\n",
       "    .dataframe tbody tr th:only-of-type {\n",
       "        vertical-align: middle;\n",
       "    }\n",
       "\n",
       "    .dataframe tbody tr th {\n",
       "        vertical-align: top;\n",
       "    }\n",
       "\n",
       "    .dataframe thead th {\n",
       "        text-align: right;\n",
       "    }\n",
       "</style>\n",
       "<table border=\"1\" class=\"dataframe\">\n",
       "  <thead>\n",
       "    <tr style=\"text-align: right;\">\n",
       "      <th></th>\n",
       "      <th>dt</th>\n",
       "      <th>chid</th>\n",
       "      <th>shop_tag</th>\n",
       "    </tr>\n",
       "  </thead>\n",
       "  <tbody>\n",
       "    <tr>\n",
       "      <th>0</th>\n",
       "      <td>1</td>\n",
       "      <td>10267183</td>\n",
       "      <td>2</td>\n",
       "    </tr>\n",
       "    <tr>\n",
       "      <th>2727005</th>\n",
       "      <td>3</td>\n",
       "      <td>10267183</td>\n",
       "      <td>10</td>\n",
       "    </tr>\n",
       "    <tr>\n",
       "      <th>2790562</th>\n",
       "      <td>4</td>\n",
       "      <td>10267183</td>\n",
       "      <td>10</td>\n",
       "    </tr>\n",
       "    <tr>\n",
       "      <th>2855738</th>\n",
       "      <td>5</td>\n",
       "      <td>10267183</td>\n",
       "      <td>10</td>\n",
       "    </tr>\n",
       "    <tr>\n",
       "      <th>2923050</th>\n",
       "      <td>6</td>\n",
       "      <td>10267183</td>\n",
       "      <td>10</td>\n",
       "    </tr>\n",
       "    <tr>\n",
       "      <th>2997089</th>\n",
       "      <td>7</td>\n",
       "      <td>10267183</td>\n",
       "      <td>10</td>\n",
       "    </tr>\n",
       "    <tr>\n",
       "      <th>3076598</th>\n",
       "      <td>8</td>\n",
       "      <td>10267183</td>\n",
       "      <td>10</td>\n",
       "    </tr>\n",
       "    <tr>\n",
       "      <th>3159676</th>\n",
       "      <td>9</td>\n",
       "      <td>10267183</td>\n",
       "      <td>10</td>\n",
       "    </tr>\n",
       "    <tr>\n",
       "      <th>3256836</th>\n",
       "      <td>10</td>\n",
       "      <td>10267183</td>\n",
       "      <td>10</td>\n",
       "    </tr>\n",
       "    <tr>\n",
       "      <th>3352844</th>\n",
       "      <td>11</td>\n",
       "      <td>10267183</td>\n",
       "      <td>10</td>\n",
       "    </tr>\n",
       "    <tr>\n",
       "      <th>3446164</th>\n",
       "      <td>12</td>\n",
       "      <td>10267183</td>\n",
       "      <td>10</td>\n",
       "    </tr>\n",
       "    <tr>\n",
       "      <th>3543074</th>\n",
       "      <td>13</td>\n",
       "      <td>10267183</td>\n",
       "      <td>10</td>\n",
       "    </tr>\n",
       "    <tr>\n",
       "      <th>5025373</th>\n",
       "      <td>6</td>\n",
       "      <td>10267183</td>\n",
       "      <td>12</td>\n",
       "    </tr>\n",
       "    <tr>\n",
       "      <th>7367118</th>\n",
       "      <td>10</td>\n",
       "      <td>10267183</td>\n",
       "      <td>15</td>\n",
       "    </tr>\n",
       "    <tr>\n",
       "      <th>15948917</th>\n",
       "      <td>3</td>\n",
       "      <td>10267183</td>\n",
       "      <td>37</td>\n",
       "    </tr>\n",
       "    <tr>\n",
       "      <th>16222359</th>\n",
       "      <td>5</td>\n",
       "      <td>10267183</td>\n",
       "      <td>37</td>\n",
       "    </tr>\n",
       "    <tr>\n",
       "      <th>16369308</th>\n",
       "      <td>6</td>\n",
       "      <td>10267183</td>\n",
       "      <td>37</td>\n",
       "    </tr>\n",
       "    <tr>\n",
       "      <th>16681933</th>\n",
       "      <td>8</td>\n",
       "      <td>10267183</td>\n",
       "      <td>37</td>\n",
       "    </tr>\n",
       "    <tr>\n",
       "      <th>16838497</th>\n",
       "      <td>9</td>\n",
       "      <td>10267183</td>\n",
       "      <td>37</td>\n",
       "    </tr>\n",
       "    <tr>\n",
       "      <th>16999021</th>\n",
       "      <td>10</td>\n",
       "      <td>10267183</td>\n",
       "      <td>37</td>\n",
       "    </tr>\n",
       "  </tbody>\n",
       "</table>\n",
       "</div>"
      ],
      "text/plain": [
       "          dt      chid  shop_tag\n",
       "0          1  10267183         2\n",
       "2727005    3  10267183        10\n",
       "2790562    4  10267183        10\n",
       "2855738    5  10267183        10\n",
       "2923050    6  10267183        10\n",
       "2997089    7  10267183        10\n",
       "3076598    8  10267183        10\n",
       "3159676    9  10267183        10\n",
       "3256836   10  10267183        10\n",
       "3352844   11  10267183        10\n",
       "3446164   12  10267183        10\n",
       "3543074   13  10267183        10\n",
       "5025373    6  10267183        12\n",
       "7367118   10  10267183        15\n",
       "15948917   3  10267183        37\n",
       "16222359   5  10267183        37\n",
       "16369308   6  10267183        37\n",
       "16681933   8  10267183        37\n",
       "16838497   9  10267183        37\n",
       "16999021  10  10267183        37"
      ]
     },
     "execution_count": 11,
     "metadata": {},
     "output_type": "execute_result"
    }
   ],
   "source": [
    "single_customer_dt_sequence = sctor_ID.get_group(ID_list[0]).dt.unique()\n",
    "sctor_ID.get_group(ID_list[0])[sctor_ID.get_group(ID_list[0]).dt.isin(np.sort(single_customer_dt_sequence)[:15])] "
   ]
  },
  {
   "cell_type": "code",
   "execution_count": 21,
   "id": "6128c570",
   "metadata": {
    "ExecuteTime": {
     "end_time": "2021-12-29T09:06:06.999280Z",
     "start_time": "2021-12-29T09:06:06.989304Z"
    }
   },
   "outputs": [],
   "source": [
    "df = sctor_ID.get_group(ID_list[0])\n",
    "single_customer_dt_sequence = np.unique(df.dt)"
   ]
  },
  {
   "cell_type": "code",
   "execution_count": 24,
   "id": "e65fa8fc",
   "metadata": {
    "ExecuteTime": {
     "end_time": "2021-12-29T09:06:35.797178Z",
     "start_time": "2021-12-29T09:06:35.778228Z"
    }
   },
   "outputs": [
    {
     "data": {
      "text/html": [
       "<div>\n",
       "<style scoped>\n",
       "    .dataframe tbody tr th:only-of-type {\n",
       "        vertical-align: middle;\n",
       "    }\n",
       "\n",
       "    .dataframe tbody tr th {\n",
       "        vertical-align: top;\n",
       "    }\n",
       "\n",
       "    .dataframe thead th {\n",
       "        text-align: right;\n",
       "    }\n",
       "</style>\n",
       "<table border=\"1\" class=\"dataframe\">\n",
       "  <thead>\n",
       "    <tr style=\"text-align: right;\">\n",
       "      <th></th>\n",
       "      <th>dt</th>\n",
       "      <th>chid</th>\n",
       "      <th>shop_tag</th>\n",
       "    </tr>\n",
       "  </thead>\n",
       "  <tbody>\n",
       "    <tr>\n",
       "      <th>0</th>\n",
       "      <td>1</td>\n",
       "      <td>10267183</td>\n",
       "      <td>2</td>\n",
       "    </tr>\n",
       "    <tr>\n",
       "      <th>1199478</th>\n",
       "      <td>17</td>\n",
       "      <td>10267183</td>\n",
       "      <td>2</td>\n",
       "    </tr>\n",
       "    <tr>\n",
       "      <th>2727005</th>\n",
       "      <td>3</td>\n",
       "      <td>10267183</td>\n",
       "      <td>10</td>\n",
       "    </tr>\n",
       "    <tr>\n",
       "      <th>2790562</th>\n",
       "      <td>4</td>\n",
       "      <td>10267183</td>\n",
       "      <td>10</td>\n",
       "    </tr>\n",
       "    <tr>\n",
       "      <th>2855738</th>\n",
       "      <td>5</td>\n",
       "      <td>10267183</td>\n",
       "      <td>10</td>\n",
       "    </tr>\n",
       "    <tr>\n",
       "      <th>2923050</th>\n",
       "      <td>6</td>\n",
       "      <td>10267183</td>\n",
       "      <td>10</td>\n",
       "    </tr>\n",
       "    <tr>\n",
       "      <th>2997089</th>\n",
       "      <td>7</td>\n",
       "      <td>10267183</td>\n",
       "      <td>10</td>\n",
       "    </tr>\n",
       "    <tr>\n",
       "      <th>3076598</th>\n",
       "      <td>8</td>\n",
       "      <td>10267183</td>\n",
       "      <td>10</td>\n",
       "    </tr>\n",
       "    <tr>\n",
       "      <th>3159676</th>\n",
       "      <td>9</td>\n",
       "      <td>10267183</td>\n",
       "      <td>10</td>\n",
       "    </tr>\n",
       "    <tr>\n",
       "      <th>3256836</th>\n",
       "      <td>10</td>\n",
       "      <td>10267183</td>\n",
       "      <td>10</td>\n",
       "    </tr>\n",
       "    <tr>\n",
       "      <th>3352844</th>\n",
       "      <td>11</td>\n",
       "      <td>10267183</td>\n",
       "      <td>10</td>\n",
       "    </tr>\n",
       "    <tr>\n",
       "      <th>3446164</th>\n",
       "      <td>12</td>\n",
       "      <td>10267183</td>\n",
       "      <td>10</td>\n",
       "    </tr>\n",
       "    <tr>\n",
       "      <th>3543074</th>\n",
       "      <td>13</td>\n",
       "      <td>10267183</td>\n",
       "      <td>10</td>\n",
       "    </tr>\n",
       "    <tr>\n",
       "      <th>3647417</th>\n",
       "      <td>14</td>\n",
       "      <td>10267183</td>\n",
       "      <td>10</td>\n",
       "    </tr>\n",
       "    <tr>\n",
       "      <th>3751921</th>\n",
       "      <td>15</td>\n",
       "      <td>10267183</td>\n",
       "      <td>10</td>\n",
       "    </tr>\n",
       "    <tr>\n",
       "      <th>3859587</th>\n",
       "      <td>16</td>\n",
       "      <td>10267183</td>\n",
       "      <td>10</td>\n",
       "    </tr>\n",
       "    <tr>\n",
       "      <th>3967643</th>\n",
       "      <td>17</td>\n",
       "      <td>10267183</td>\n",
       "      <td>10</td>\n",
       "    </tr>\n",
       "    <tr>\n",
       "      <th>4072891</th>\n",
       "      <td>18</td>\n",
       "      <td>10267183</td>\n",
       "      <td>10</td>\n",
       "    </tr>\n",
       "    <tr>\n",
       "      <th>4180305</th>\n",
       "      <td>19</td>\n",
       "      <td>10267183</td>\n",
       "      <td>10</td>\n",
       "    </tr>\n",
       "    <tr>\n",
       "      <th>4285034</th>\n",
       "      <td>20</td>\n",
       "      <td>10267183</td>\n",
       "      <td>10</td>\n",
       "    </tr>\n",
       "    <tr>\n",
       "      <th>4390939</th>\n",
       "      <td>21</td>\n",
       "      <td>10267183</td>\n",
       "      <td>10</td>\n",
       "    </tr>\n",
       "    <tr>\n",
       "      <th>4514190</th>\n",
       "      <td>22</td>\n",
       "      <td>10267183</td>\n",
       "      <td>10</td>\n",
       "    </tr>\n",
       "    <tr>\n",
       "      <th>4633234</th>\n",
       "      <td>23</td>\n",
       "      <td>10267183</td>\n",
       "      <td>10</td>\n",
       "    </tr>\n",
       "    <tr>\n",
       "      <th>4749127</th>\n",
       "      <td>24</td>\n",
       "      <td>10267183</td>\n",
       "      <td>10</td>\n",
       "    </tr>\n",
       "    <tr>\n",
       "      <th>5025373</th>\n",
       "      <td>6</td>\n",
       "      <td>10267183</td>\n",
       "      <td>12</td>\n",
       "    </tr>\n",
       "    <tr>\n",
       "      <th>7367118</th>\n",
       "      <td>10</td>\n",
       "      <td>10267183</td>\n",
       "      <td>15</td>\n",
       "    </tr>\n",
       "    <tr>\n",
       "      <th>15948917</th>\n",
       "      <td>3</td>\n",
       "      <td>10267183</td>\n",
       "      <td>37</td>\n",
       "    </tr>\n",
       "    <tr>\n",
       "      <th>16222359</th>\n",
       "      <td>5</td>\n",
       "      <td>10267183</td>\n",
       "      <td>37</td>\n",
       "    </tr>\n",
       "    <tr>\n",
       "      <th>16369308</th>\n",
       "      <td>6</td>\n",
       "      <td>10267183</td>\n",
       "      <td>37</td>\n",
       "    </tr>\n",
       "    <tr>\n",
       "      <th>16681933</th>\n",
       "      <td>8</td>\n",
       "      <td>10267183</td>\n",
       "      <td>37</td>\n",
       "    </tr>\n",
       "    <tr>\n",
       "      <th>16838497</th>\n",
       "      <td>9</td>\n",
       "      <td>10267183</td>\n",
       "      <td>37</td>\n",
       "    </tr>\n",
       "    <tr>\n",
       "      <th>16999021</th>\n",
       "      <td>10</td>\n",
       "      <td>10267183</td>\n",
       "      <td>37</td>\n",
       "    </tr>\n",
       "    <tr>\n",
       "      <th>17719313</th>\n",
       "      <td>14</td>\n",
       "      <td>10267183</td>\n",
       "      <td>37</td>\n",
       "    </tr>\n",
       "    <tr>\n",
       "      <th>18459563</th>\n",
       "      <td>18</td>\n",
       "      <td>10267183</td>\n",
       "      <td>37</td>\n",
       "    </tr>\n",
       "  </tbody>\n",
       "</table>\n",
       "</div>"
      ],
      "text/plain": [
       "          dt      chid  shop_tag\n",
       "0          1  10267183         2\n",
       "1199478   17  10267183         2\n",
       "2727005    3  10267183        10\n",
       "2790562    4  10267183        10\n",
       "2855738    5  10267183        10\n",
       "2923050    6  10267183        10\n",
       "2997089    7  10267183        10\n",
       "3076598    8  10267183        10\n",
       "3159676    9  10267183        10\n",
       "3256836   10  10267183        10\n",
       "3352844   11  10267183        10\n",
       "3446164   12  10267183        10\n",
       "3543074   13  10267183        10\n",
       "3647417   14  10267183        10\n",
       "3751921   15  10267183        10\n",
       "3859587   16  10267183        10\n",
       "3967643   17  10267183        10\n",
       "4072891   18  10267183        10\n",
       "4180305   19  10267183        10\n",
       "4285034   20  10267183        10\n",
       "4390939   21  10267183        10\n",
       "4514190   22  10267183        10\n",
       "4633234   23  10267183        10\n",
       "4749127   24  10267183        10\n",
       "5025373    6  10267183        12\n",
       "7367118   10  10267183        15\n",
       "15948917   3  10267183        37\n",
       "16222359   5  10267183        37\n",
       "16369308   6  10267183        37\n",
       "16681933   8  10267183        37\n",
       "16838497   9  10267183        37\n",
       "16999021  10  10267183        37\n",
       "17719313  14  10267183        37\n",
       "18459563  18  10267183        37"
      ]
     },
     "execution_count": 24,
     "metadata": {},
     "output_type": "execute_result"
    }
   ],
   "source": [
    "df"
   ]
  },
  {
   "cell_type": "code",
   "execution_count": 26,
   "id": "b0f149df",
   "metadata": {
    "ExecuteTime": {
     "end_time": "2021-12-29T09:07:37.197064Z",
     "start_time": "2021-12-29T09:07:37.183071Z"
    }
   },
   "outputs": [
    {
     "data": {
      "text/html": [
       "<div>\n",
       "<style scoped>\n",
       "    .dataframe tbody tr th:only-of-type {\n",
       "        vertical-align: middle;\n",
       "    }\n",
       "\n",
       "    .dataframe tbody tr th {\n",
       "        vertical-align: top;\n",
       "    }\n",
       "\n",
       "    .dataframe thead th {\n",
       "        text-align: right;\n",
       "    }\n",
       "</style>\n",
       "<table border=\"1\" class=\"dataframe\">\n",
       "  <thead>\n",
       "    <tr style=\"text-align: right;\">\n",
       "      <th></th>\n",
       "      <th>dt</th>\n",
       "      <th>chid</th>\n",
       "      <th>shop_tag</th>\n",
       "    </tr>\n",
       "  </thead>\n",
       "  <tbody>\n",
       "    <tr>\n",
       "      <th>0</th>\n",
       "      <td>1</td>\n",
       "      <td>10267183</td>\n",
       "      <td>2</td>\n",
       "    </tr>\n",
       "    <tr>\n",
       "      <th>2727005</th>\n",
       "      <td>3</td>\n",
       "      <td>10267183</td>\n",
       "      <td>10</td>\n",
       "    </tr>\n",
       "    <tr>\n",
       "      <th>2790562</th>\n",
       "      <td>4</td>\n",
       "      <td>10267183</td>\n",
       "      <td>10</td>\n",
       "    </tr>\n",
       "    <tr>\n",
       "      <th>2855738</th>\n",
       "      <td>5</td>\n",
       "      <td>10267183</td>\n",
       "      <td>10</td>\n",
       "    </tr>\n",
       "    <tr>\n",
       "      <th>2923050</th>\n",
       "      <td>6</td>\n",
       "      <td>10267183</td>\n",
       "      <td>10</td>\n",
       "    </tr>\n",
       "    <tr>\n",
       "      <th>2997089</th>\n",
       "      <td>7</td>\n",
       "      <td>10267183</td>\n",
       "      <td>10</td>\n",
       "    </tr>\n",
       "    <tr>\n",
       "      <th>3076598</th>\n",
       "      <td>8</td>\n",
       "      <td>10267183</td>\n",
       "      <td>10</td>\n",
       "    </tr>\n",
       "    <tr>\n",
       "      <th>3159676</th>\n",
       "      <td>9</td>\n",
       "      <td>10267183</td>\n",
       "      <td>10</td>\n",
       "    </tr>\n",
       "    <tr>\n",
       "      <th>3256836</th>\n",
       "      <td>10</td>\n",
       "      <td>10267183</td>\n",
       "      <td>10</td>\n",
       "    </tr>\n",
       "    <tr>\n",
       "      <th>3352844</th>\n",
       "      <td>11</td>\n",
       "      <td>10267183</td>\n",
       "      <td>10</td>\n",
       "    </tr>\n",
       "    <tr>\n",
       "      <th>3446164</th>\n",
       "      <td>12</td>\n",
       "      <td>10267183</td>\n",
       "      <td>10</td>\n",
       "    </tr>\n",
       "    <tr>\n",
       "      <th>3543074</th>\n",
       "      <td>13</td>\n",
       "      <td>10267183</td>\n",
       "      <td>10</td>\n",
       "    </tr>\n",
       "    <tr>\n",
       "      <th>5025373</th>\n",
       "      <td>6</td>\n",
       "      <td>10267183</td>\n",
       "      <td>12</td>\n",
       "    </tr>\n",
       "    <tr>\n",
       "      <th>7367118</th>\n",
       "      <td>10</td>\n",
       "      <td>10267183</td>\n",
       "      <td>15</td>\n",
       "    </tr>\n",
       "    <tr>\n",
       "      <th>15948917</th>\n",
       "      <td>3</td>\n",
       "      <td>10267183</td>\n",
       "      <td>37</td>\n",
       "    </tr>\n",
       "    <tr>\n",
       "      <th>16222359</th>\n",
       "      <td>5</td>\n",
       "      <td>10267183</td>\n",
       "      <td>37</td>\n",
       "    </tr>\n",
       "    <tr>\n",
       "      <th>16369308</th>\n",
       "      <td>6</td>\n",
       "      <td>10267183</td>\n",
       "      <td>37</td>\n",
       "    </tr>\n",
       "    <tr>\n",
       "      <th>16681933</th>\n",
       "      <td>8</td>\n",
       "      <td>10267183</td>\n",
       "      <td>37</td>\n",
       "    </tr>\n",
       "    <tr>\n",
       "      <th>16838497</th>\n",
       "      <td>9</td>\n",
       "      <td>10267183</td>\n",
       "      <td>37</td>\n",
       "    </tr>\n",
       "    <tr>\n",
       "      <th>16999021</th>\n",
       "      <td>10</td>\n",
       "      <td>10267183</td>\n",
       "      <td>37</td>\n",
       "    </tr>\n",
       "  </tbody>\n",
       "</table>\n",
       "</div>"
      ],
      "text/plain": [
       "          dt      chid  shop_tag\n",
       "0          1  10267183         2\n",
       "2727005    3  10267183        10\n",
       "2790562    4  10267183        10\n",
       "2855738    5  10267183        10\n",
       "2923050    6  10267183        10\n",
       "2997089    7  10267183        10\n",
       "3076598    8  10267183        10\n",
       "3159676    9  10267183        10\n",
       "3256836   10  10267183        10\n",
       "3352844   11  10267183        10\n",
       "3446164   12  10267183        10\n",
       "3543074   13  10267183        10\n",
       "5025373    6  10267183        12\n",
       "7367118   10  10267183        15\n",
       "15948917   3  10267183        37\n",
       "16222359   5  10267183        37\n",
       "16369308   6  10267183        37\n",
       "16681933   8  10267183        37\n",
       "16838497   9  10267183        37\n",
       "16999021  10  10267183        37"
      ]
     },
     "execution_count": 26,
     "metadata": {},
     "output_type": "execute_result"
    }
   ],
   "source": [
    "df[df.dt.isin(np.sort(single_customer_dt_sequence)[:12])] "
   ]
  },
  {
   "cell_type": "code",
   "execution_count": 8,
   "id": "05e21cbb",
   "metadata": {
    "ExecuteTime": {
     "end_time": "2022-01-04T01:43:22.752039Z",
     "start_time": "2022-01-04T01:41:09.599514Z"
    }
   },
   "outputs": [
    {
     "name": "stderr",
     "output_type": "stream",
     "text": [
      "100%|██████████| 498040/498040 [01:57<00:00, 4243.83it/s]\n"
     ]
    }
   ],
   "source": [
    "# Avoid using pd.concat in a for loop \n",
    "dt_df_concat = []\n",
    "for ID, df in tqdm(df_concat.groupby('chid')):\n",
    "    single_customer_dt_sequence = np.unique(df.dt)\n",
    "    df = df[df.dt.isin(np.sort(single_customer_dt_sequence)[:12])] \n",
    "    dt_df_concat.append(df)\n",
    "dt_df_concat = pd.concat(dt_df_concat, axis=0)\n",
    "# Ver 1 dt = 15\n",
    "# Ver 2 dt = 12 "
   ]
  },
  {
   "cell_type": "code",
   "execution_count": 9,
   "id": "fb4a470f",
   "metadata": {
    "ExecuteTime": {
     "end_time": "2022-01-04T01:43:23.398831Z",
     "start_time": "2022-01-04T01:43:23.308069Z"
    }
   },
   "outputs": [
    {
     "data": {
      "text/plain": [
       "498040"
      ]
     },
     "execution_count": 9,
     "metadata": {},
     "output_type": "execute_result"
    }
   ],
   "source": [
    "len(dt_df_concat.chid.unique())"
   ]
  },
  {
   "cell_type": "code",
   "execution_count": 10,
   "id": "68a741b9",
   "metadata": {
    "ExecuteTime": {
     "end_time": "2022-01-04T01:43:38.874963Z",
     "start_time": "2022-01-04T01:43:23.896952Z"
    }
   },
   "outputs": [],
   "source": [
    "dt_df_concat.to_csv(\"C:\\\\Users\\\\User\\\\Documents\\\\_Keep_12_dt_data.csv\")"
   ]
  },
  {
   "cell_type": "code",
   "execution_count": 9,
   "id": "01f15398",
   "metadata": {
    "ExecuteTime": {
     "end_time": "2021-12-28T09:23:46.142587Z",
     "start_time": "2021-12-28T09:23:46.137594Z"
    }
   },
   "outputs": [
    {
     "data": {
      "text/plain": [
       "[3, 4, 5, 6, 7, 8, 9, 10, 11, 12, 13, 14, 15, 16, 17, 18, 19, 20]"
      ]
     },
     "execution_count": 9,
     "metadata": {},
     "output_type": "execute_result"
    }
   ],
   "source": [
    "list(range(3,21))"
   ]
  },
  {
   "cell_type": "code",
   "execution_count": 12,
   "id": "74bbaf4d",
   "metadata": {
    "ExecuteTime": {
     "end_time": "2021-12-28T09:24:42.559129Z",
     "start_time": "2021-12-28T09:24:39.509616Z"
    }
   },
   "outputs": [],
   "source": [
    "sector_dt = df_concat.groupby('dt')\n",
    "dt_df_concat = pd.DataFrame(columns=['dt', 'chid', 'shop_tag'])\n",
    "for dt in range(3,21):\n",
    "    df = sector_dt.get_group((dt))\n",
    "    dt_df_concat = pd.concat([dt_df_concat, df])\n"
   ]
  },
  {
   "cell_type": "code",
   "execution_count": 14,
   "id": "92c313c0",
   "metadata": {
    "ExecuteTime": {
     "end_time": "2021-12-28T09:28:48.467698Z",
     "start_time": "2021-12-28T09:28:28.503628Z"
    }
   },
   "outputs": [],
   "source": [
    "dt_df_concat.to_csv(\"C:\\\\Users\\\\User\\\\Documents\\\\_dt_3_20_Shop_tag.csv\")"
   ]
  },
  {
   "cell_type": "code",
   "execution_count": 19,
   "id": "761b7697",
   "metadata": {
    "ExecuteTime": {
     "end_time": "2021-12-24T06:49:57.728335Z",
     "start_time": "2021-12-24T06:49:57.715375Z"
    }
   },
   "outputs": [],
   "source": [
    "sector_shop_tag = df_concat.groupby('shop_tag')"
   ]
  },
  {
   "cell_type": "code",
   "execution_count": 20,
   "id": "c13a4d3e",
   "metadata": {
    "ExecuteTime": {
     "end_time": "2021-12-24T06:49:58.322999Z",
     "start_time": "2021-12-24T06:49:58.305050Z"
    }
   },
   "outputs": [],
   "source": [
    "shop_tag_list = [2, 6, 10, 12, 13, 15, 18, 19, 21, 22, 25, 26, 36, 37, 39, 48]"
   ]
  },
  {
   "cell_type": "markdown",
   "id": "cd23db54",
   "metadata": {
    "ExecuteTime": {
     "end_time": "2021-12-24T06:50:35.630289Z",
     "start_time": "2021-12-24T06:50:30.764510Z"
    }
   },
   "source": [
    "tag_df_concat = pd.DataFrame(columns=['dt', 'chid', 'shop_tag'])\n",
    "for tag in shop_tag_list:\n",
    "    df = sector_shop_tag.get_group(str(tag))\n",
    "    tag_df_concat = pd.concat([tag_df_concat, df])\n",
    "    \n"
   ]
  },
  {
   "cell_type": "markdown",
   "id": "f4740171",
   "metadata": {
    "ExecuteTime": {
     "end_time": "2021-12-24T06:51:12.160475Z",
     "start_time": "2021-12-24T06:50:46.449129Z"
    }
   },
   "source": [
    "tag_df_concat.to_csv(\"C:\\\\Users\\\\User\\\\Documents\\\\Cleaned_Shop_tag.csv\")"
   ]
  },
  {
   "cell_type": "code",
   "execution_count": 7,
   "id": "6d7e93be",
   "metadata": {
    "ExecuteTime": {
     "end_time": "2021-12-23T07:38:44.900083Z",
     "start_time": "2021-12-23T07:38:44.080703Z"
    },
    "scrolled": true
   },
   "outputs": [
    {
     "ename": "AttributeError",
     "evalue": "'DataFrame' object has no attribute 'txn_amt'",
     "output_type": "error",
     "traceback": [
      "\u001b[1;31m---------------------------------------------------------------------------\u001b[0m",
      "\u001b[1;31mAttributeError\u001b[0m                            Traceback (most recent call last)",
      "\u001b[1;32m~\\AppData\\Local\\Temp/ipykernel_16716/193812859.py\u001b[0m in \u001b[0;36m<module>\u001b[1;34m\u001b[0m\n\u001b[0;32m      3\u001b[0m \u001b[1;32mfor\u001b[0m \u001b[0mcat\u001b[0m\u001b[1;33m,\u001b[0m \u001b[0mdf\u001b[0m \u001b[1;32min\u001b[0m \u001b[0mCate_ID_sector\u001b[0m\u001b[1;33m:\u001b[0m\u001b[1;33m\u001b[0m\u001b[1;33m\u001b[0m\u001b[0m\n\u001b[0;32m      4\u001b[0m     \u001b[0mAOV_t\u001b[0m \u001b[1;33m=\u001b[0m \u001b[0mcat\u001b[0m\u001b[1;33m\u001b[0m\u001b[1;33m\u001b[0m\u001b[0m\n\u001b[1;32m----> 5\u001b[1;33m     \u001b[0mAOV_value\u001b[0m \u001b[1;33m=\u001b[0m \u001b[0mnp\u001b[0m\u001b[1;33m.\u001b[0m\u001b[0msum\u001b[0m\u001b[1;33m(\u001b[0m\u001b[0mdf\u001b[0m\u001b[1;33m.\u001b[0m\u001b[0mtxn_amt\u001b[0m\u001b[1;33m)\u001b[0m \u001b[1;33m/\u001b[0m \u001b[0mnp\u001b[0m\u001b[1;33m.\u001b[0m\u001b[0msum\u001b[0m\u001b[1;33m(\u001b[0m\u001b[0mdf\u001b[0m\u001b[1;33m.\u001b[0m\u001b[0mtxn_cnt\u001b[0m\u001b[1;33m)\u001b[0m\u001b[1;33m\u001b[0m\u001b[1;33m\u001b[0m\u001b[0m\n\u001b[0m\u001b[0;32m      6\u001b[0m     \u001b[0mAOV\u001b[0m\u001b[1;33m[\u001b[0m\u001b[0mcat\u001b[0m\u001b[1;33m]\u001b[0m \u001b[1;33m=\u001b[0m \u001b[0mAOV_value\u001b[0m\u001b[1;33m\u001b[0m\u001b[1;33m\u001b[0m\u001b[0m\n",
      "\u001b[1;32m~\\.conda\\envs\\reco_base\\lib\\site-packages\\pandas\\core\\generic.py\u001b[0m in \u001b[0;36m__getattr__\u001b[1;34m(self, name)\u001b[0m\n\u001b[0;32m   5485\u001b[0m         ):\n\u001b[0;32m   5486\u001b[0m             \u001b[1;32mreturn\u001b[0m \u001b[0mself\u001b[0m\u001b[1;33m[\u001b[0m\u001b[0mname\u001b[0m\u001b[1;33m]\u001b[0m\u001b[1;33m\u001b[0m\u001b[1;33m\u001b[0m\u001b[0m\n\u001b[1;32m-> 5487\u001b[1;33m         \u001b[1;32mreturn\u001b[0m \u001b[0mobject\u001b[0m\u001b[1;33m.\u001b[0m\u001b[0m__getattribute__\u001b[0m\u001b[1;33m(\u001b[0m\u001b[0mself\u001b[0m\u001b[1;33m,\u001b[0m \u001b[0mname\u001b[0m\u001b[1;33m)\u001b[0m\u001b[1;33m\u001b[0m\u001b[1;33m\u001b[0m\u001b[0m\n\u001b[0m\u001b[0;32m   5488\u001b[0m \u001b[1;33m\u001b[0m\u001b[0m\n\u001b[0;32m   5489\u001b[0m     \u001b[1;32mdef\u001b[0m \u001b[0m__setattr__\u001b[0m\u001b[1;33m(\u001b[0m\u001b[0mself\u001b[0m\u001b[1;33m,\u001b[0m \u001b[0mname\u001b[0m\u001b[1;33m:\u001b[0m \u001b[0mstr\u001b[0m\u001b[1;33m,\u001b[0m \u001b[0mvalue\u001b[0m\u001b[1;33m)\u001b[0m \u001b[1;33m->\u001b[0m \u001b[1;32mNone\u001b[0m\u001b[1;33m:\u001b[0m\u001b[1;33m\u001b[0m\u001b[1;33m\u001b[0m\u001b[0m\n",
      "\u001b[1;31mAttributeError\u001b[0m: 'DataFrame' object has no attribute 'txn_amt'"
     ]
    }
   ],
   "source": [
    "Cate_ID_sector = df_concat.groupby('shop_tag')\n",
    "AOV = {}\n",
    "for cat, df in Cate_ID_sector:\n",
    "    AOV_t = cat\n",
    "    AOV_value = np.sum(df.txn_amt) / np.sum(df.txn_cnt)\n",
    "    AOV[cat] = AOV_value"
   ]
  },
  {
   "cell_type": "code",
   "execution_count": null,
   "id": "ac39f6e8",
   "metadata": {
    "ExecuteTime": {
     "end_time": "2021-12-23T07:38:44.905042Z",
     "start_time": "2021-12-23T07:38:44.905042Z"
    }
   },
   "outputs": [],
   "source": [
    "{k: v for k, v in sorted(AOV.items(), key = lambda item: item[1])} #sort a dict by values"
   ]
  },
  {
   "cell_type": "code",
   "execution_count": 47,
   "id": "ca0d75ca",
   "metadata": {
    "ExecuteTime": {
     "end_time": "2021-12-21T04:08:16.335768Z",
     "start_time": "2021-12-21T04:08:16.328755Z"
    }
   },
   "outputs": [],
   "source": [
    "high_valued_category = set([49, 2, 10, 46, 39, 28, 16, 34])"
   ]
  },
  {
   "cell_type": "code",
   "execution_count": 48,
   "id": "b35222f3",
   "metadata": {
    "ExecuteTime": {
     "end_time": "2021-12-21T04:08:18.890895Z",
     "start_time": "2021-12-21T04:08:18.880867Z"
    }
   },
   "outputs": [],
   "source": [
    "temp_AOV = {}\n",
    "for k, v in enumerate(AOV.values()):\n",
    "    k +=1\n",
    "    if k in high_valued_category:\n",
    "        continue\n",
    "    else:\n",
    "        temp_AOV[k] = v\n",
    "    "
   ]
  },
  {
   "cell_type": "code",
   "execution_count": 49,
   "id": "0ccf7594",
   "metadata": {
    "ExecuteTime": {
     "end_time": "2021-12-21T04:08:19.420694Z",
     "start_time": "2021-12-21T04:08:19.407729Z"
    }
   },
   "outputs": [],
   "source": [
    "temp_AOV_q1 = np.quantile(np.array(list(temp_AOV.values())), .2)\n",
    "temp_AOV_q2 = np.quantile(np.array(list(temp_AOV.values())), .4)\n",
    "temp_AOV_q3 = np.quantile(np.array(list(temp_AOV.values())), .6)\n",
    "temp_AOV_q4 = np.quantile(np.array(list(temp_AOV.values())), .8)"
   ]
  },
  {
   "cell_type": "code",
   "execution_count": 50,
   "id": "fc007f85",
   "metadata": {
    "ExecuteTime": {
     "end_time": "2021-12-21T04:08:20.976450Z",
     "start_time": "2021-12-21T04:08:20.968452Z"
    }
   },
   "outputs": [],
   "source": [
    "def find_valued_rank(value):\n",
    "    x1 = temp_AOV_q1\n",
    "    x2 = temp_AOV_q2\n",
    "    x3 = temp_AOV_q3\n",
    "    x4 = temp_AOV_q4\n",
    "    if value < x1:\n",
    "        rank = 1\n",
    "    elif x1<=value<x2:\n",
    "        rank = 2\n",
    "    elif x2<=value<x3:\n",
    "        rank = 3\n",
    "    elif x3<=value<x4:\n",
    "        rank = 4\n",
    "    else:\n",
    "        rank = 5\n",
    "    return rank"
   ]
  },
  {
   "cell_type": "code",
   "execution_count": 51,
   "id": "ed8bdec6",
   "metadata": {
    "ExecuteTime": {
     "end_time": "2021-12-21T04:08:21.431922Z",
     "start_time": "2021-12-21T04:08:21.417010Z"
    }
   },
   "outputs": [],
   "source": [
    "lv1_valued_catgory = {}\n",
    "lv2_valued_catgory = {}\n",
    "lv3_valued_catgory = {}\n",
    "lv4_valued_catgory = {}\n",
    "lv5_valued_catgory = {}\n",
    "for k, v in temp_AOV.items():\n",
    "    rank = find_valued_rank(v)\n",
    "    if rank == 1:\n",
    "        lv1_valued_catgory[k] = rank\n",
    "    elif rank == 2:\n",
    "        lv2_valued_catgory[k] = rank\n",
    "    elif rank == 3:\n",
    "        lv3_valued_catgory[k] = rank\n",
    "    elif rank == 4:\n",
    "        lv4_valued_catgory[k] = rank\n",
    "    else:\n",
    "        lv5_valued_catgory[k] = rank\n",
    "        "
   ]
  },
  {
   "cell_type": "code",
   "execution_count": 57,
   "id": "46caa3b9",
   "metadata": {
    "ExecuteTime": {
     "end_time": "2021-12-21T06:51:52.730065Z",
     "start_time": "2021-12-21T06:51:52.725078Z"
    }
   },
   "outputs": [],
   "source": [
    "high_valued_category_dict = {}\n",
    "for elements in high_valued_category:\n",
    "    high_valued_category_dict[elements] = 6\n"
   ]
  },
  {
   "cell_type": "code",
   "execution_count": 58,
   "id": "ae35fcb8",
   "metadata": {
    "ExecuteTime": {
     "end_time": "2021-12-21T06:51:57.408048Z",
     "start_time": "2021-12-21T06:51:57.401107Z"
    }
   },
   "outputs": [
    {
     "data": {
      "text/plain": [
       "{2: 6, 34: 6, 39: 6, 10: 6, 46: 6, 16: 6, 49: 6, 28: 6}"
      ]
     },
     "execution_count": 58,
     "metadata": {},
     "output_type": "execute_result"
    }
   ],
   "source": [
    "high_valued_category_dict"
   ]
  },
  {
   "cell_type": "code",
   "execution_count": 8,
   "id": "2683ff8f",
   "metadata": {
    "ExecuteTime": {
     "end_time": "2021-12-23T07:39:38.032158Z",
     "start_time": "2021-12-23T07:39:38.016232Z"
    }
   },
   "outputs": [],
   "source": [
    "def _create_item2cate(instance_file):\n",
    "    logger.info(\"creating item2cate dict\")\n",
    "    global item2cate\n",
    "    instance_df = pd.read_csv(\n",
    "        instance_file,\n",
    "        sep=\"\\t\",\n",
    "        names=[\"label\", \"user_id\", \"item_id\", \"timestamp\", \"cate_id\"],\n",
    "    )\n",
    "    item2cate = instance_df.set_index(\"item_id\")[\"cate_id\"].to_dict()\n",
    "    #set item_id as the key and category_id as value "
   ]
  },
  {
   "cell_type": "code",
   "execution_count": 7,
   "id": "7e88c503",
   "metadata": {
    "ExecuteTime": {
     "end_time": "2021-12-21T00:49:39.236505Z",
     "start_time": "2021-12-21T00:49:38.869889Z"
    }
   },
   "outputs": [],
   "source": [
    "reviewed_pd_file = df_concat.copy()\n",
    "reviewed_pd_file = reviewed_pd_file[['chid', 'shop_tag', 'dt']]"
   ]
  },
  {
   "cell_type": "code",
   "execution_count": 8,
   "id": "458eed59",
   "metadata": {
    "ExecuteTime": {
     "end_time": "2021-12-21T00:49:39.315207Z",
     "start_time": "2021-12-21T00:49:39.300250Z"
    }
   },
   "outputs": [
    {
     "data": {
      "text/html": [
       "<div>\n",
       "<style scoped>\n",
       "    .dataframe tbody tr th:only-of-type {\n",
       "        vertical-align: middle;\n",
       "    }\n",
       "\n",
       "    .dataframe tbody tr th {\n",
       "        vertical-align: top;\n",
       "    }\n",
       "\n",
       "    .dataframe thead th {\n",
       "        text-align: right;\n",
       "    }\n",
       "</style>\n",
       "<table border=\"1\" class=\"dataframe\">\n",
       "  <thead>\n",
       "    <tr style=\"text-align: right;\">\n",
       "      <th></th>\n",
       "      <th>chid</th>\n",
       "      <th>shop_tag</th>\n",
       "      <th>dt</th>\n",
       "    </tr>\n",
       "  </thead>\n",
       "  <tbody>\n",
       "    <tr>\n",
       "      <th>0</th>\n",
       "      <td>10321418</td>\n",
       "      <td>45</td>\n",
       "      <td>1</td>\n",
       "    </tr>\n",
       "    <tr>\n",
       "      <th>1</th>\n",
       "      <td>10414574</td>\n",
       "      <td>15</td>\n",
       "      <td>1</td>\n",
       "    </tr>\n",
       "    <tr>\n",
       "      <th>2</th>\n",
       "      <td>10134567</td>\n",
       "      <td>48</td>\n",
       "      <td>1</td>\n",
       "    </tr>\n",
       "    <tr>\n",
       "      <th>3</th>\n",
       "      <td>10001003</td>\n",
       "      <td>48</td>\n",
       "      <td>1</td>\n",
       "    </tr>\n",
       "    <tr>\n",
       "      <th>4</th>\n",
       "      <td>10256467</td>\n",
       "      <td>12</td>\n",
       "      <td>1</td>\n",
       "    </tr>\n",
       "  </tbody>\n",
       "</table>\n",
       "</div>"
      ],
      "text/plain": [
       "       chid  shop_tag  dt\n",
       "0  10321418        45   1\n",
       "1  10414574        15   1\n",
       "2  10134567        48   1\n",
       "3  10001003        48   1\n",
       "4  10256467        12   1"
      ]
     },
     "execution_count": 8,
     "metadata": {},
     "output_type": "execute_result"
    }
   ],
   "source": [
    "reviewed_pd_file.head()"
   ]
  },
  {
   "cell_type": "code",
   "execution_count": null,
   "id": "580aff3f",
   "metadata": {},
   "outputs": [],
   "source": [
    "def _meta_preprocessing(meta_readfile):\n",
    "    logger.info(\"start meta preprocessing...\")\n",
    "    meta_writefile = meta_readfile + \"_output\"\n",
    "    meta_r = open(meta_readfile, \"r\")\n",
    "    meta_w = open(meta_writefile, \"w\")\n",
    "    for line in meta_r:\n",
    "        line_new = eval(line)\n",
    "        meta_w.write(line_new[\"asin\"] + \"\\t\" + line_new[\"categories\"][0][-1] + \"\\n\")\n",
    "    meta_r.close()\n",
    "    meta_w.close()\n",
    "    return meta_writefile\n",
    "\n",
    "\n",
    "def _reviews_preprocessing(reviews_readfile):\n",
    "    logger.info(\"start reviews preprocessing...\")\n",
    "    reviews_writefile = reviews_readfile + \"_output\"\n",
    "    reviews_r = open(reviews_readfile, \"r\")\n",
    "    reviews_w = open(reviews_writefile, \"w\")\n",
    "    for line in reviews_r:\n",
    "        line_new = eval(line.strip())\n",
    "        reviews_w.write(\n",
    "            str(line_new[\"reviewerID\"])\n",
    "            + \"\\t\"\n",
    "            + str(line_new[\"asin\"])\n",
    "            + \"\\t\"\n",
    "            + str(line_new[\"unixReviewTime\"])\n",
    "            + \"\\n\"\n",
    "        )\n",
    "    reviews_r.close()\n",
    "    reviews_w.close()\n",
    "    return reviews_writefile"
   ]
  },
  {
   "cell_type": "code",
   "execution_count": 64,
   "id": "6646d163",
   "metadata": {
    "ExecuteTime": {
     "end_time": "2021-12-20T09:22:30.908956Z",
     "start_time": "2021-12-20T09:22:30.901007Z"
    }
   },
   "outputs": [],
   "source": [
    "def _create_instance(reviews_file, meta_file):\n",
    "    logger.info(\"start create instances...\")\n",
    "    dirs, _ = os.path.split(reviews_file)\n",
    "    output_file = os.path.join(dirs, \"instance_output\")\n",
    "\n",
    "    f_reviews = open(reviews_file, \"r\")\n",
    "    user_dict = {}\n",
    "    item_list = []\n",
    "    for line in f_reviews:\n",
    "        line = line.strip()\n",
    "        reviews_things = line.split(\"\\t\")\n",
    "        if reviews_things[0] not in user_dict:\n",
    "            user_dict[reviews_things[0]] = []\n",
    "        user_dict[reviews_things[0]].append((line, float(reviews_things[-1])))\n",
    "        item_list.append(reviews_things[1])\n",
    "\n",
    "    f_meta = open(meta_file, \"r\")\n",
    "    meta_dict = {}\n",
    "    for line in f_meta:\n",
    "        line = line.strip()\n",
    "        meta_things = line.split(\"\\t\")\n",
    "        if meta_things[0] not in meta_dict:\n",
    "            meta_dict[meta_things[0]] = meta_things[1]\n",
    "\n",
    "    f_output = open(output_file, \"w\")\n",
    "    for user_behavior in user_dict:\n",
    "        sorted_user_behavior = sorted(user_dict[user_behavior], key=lambda x: x[1])\n",
    "        for line, _ in sorted_user_behavior:\n",
    "            user_things = line.split(\"\\t\")\n",
    "            asin = user_things[1]\n",
    "            if asin in meta_dict:\n",
    "                f_output.write(\"1\" + \"\\t\" + line + \"\\t\" + meta_dict[asin] + \"\\n\")\n",
    "            else:\n",
    "                f_output.write(\"1\" + \"\\t\" + line + \"\\t\" + \"default_cat\" + \"\\n\")\n",
    "\n",
    "    f_reviews.close()\n",
    "    f_meta.close()\n",
    "    f_output.close()\n",
    "    return output_file"
   ]
  },
  {
   "cell_type": "code",
   "execution_count": null,
   "id": "d77e1d15",
   "metadata": {},
   "outputs": [],
   "source": [
    "def _reviews_preprocessing(reviews_readfile):\n",
    "    logger.info(\"start reviews preprocessing...\")\n",
    "    reviews_writefile = reviews_readfile + \"_output\"\n",
    "    reviews_r = open(reviews_readfile, \"r\")\n",
    "    reviews_w = open(reviews_writefile, \"w\")\n",
    "    for line in reviews_r:\n",
    "        line_new = eval(line.strip())\n",
    "        reviews_w.write(\n",
    "            str(line_new[\"reviewerID\"])\n",
    "            + \"\\t\"\n",
    "            + str(line_new[\"asin\"])\n",
    "            + \"\\t\"\n",
    "            + str(line_new[\"unixReviewTime\"])\n",
    "            + \"\\n\"\n",
    "        )\n",
    "    reviews_r.close()\n",
    "    reviews_w.close()\n",
    "    return reviews_writefile"
   ]
  },
  {
   "cell_type": "code",
   "execution_count": null,
   "id": "869656e6",
   "metadata": {},
   "outputs": [],
   "source": [
    "def _meta_preprocessing(meta_readfile):\n",
    "    logger.info(\"start meta preprocessing...\")\n",
    "    meta_writefile = meta_readfile + \"_output\"\n",
    "    meta_r = open(meta_readfile, \"r\")\n",
    "    meta_w = open(meta_writefile, \"w\")\n",
    "    for line in meta_r:\n",
    "        line_new = eval(line)\n",
    "        meta_w.write(line_new[\"asin\"] + \"\\t\" + line_new[\"categories\"][0][-1] + \"\\n\")\n",
    "    meta_r.close()\n",
    "    meta_w.close()\n",
    "    return meta_writefile\n"
   ]
  },
  {
   "cell_type": "markdown",
   "id": "1ef57b5e",
   "metadata": {},
   "source": [
    "### Time Stamp Process"
   ]
  },
  {
   "cell_type": "code",
   "execution_count": 11,
   "id": "1988c2fb",
   "metadata": {
    "ExecuteTime": {
     "end_time": "2022-01-04T01:43:39.413048Z",
     "start_time": "2022-01-04T01:43:39.398915Z"
    }
   },
   "outputs": [],
   "source": [
    "time_String_list = ['2019-01-01 00:00:00', '2019-02-01 00:00:00', '2019-03-01 00:00:00', '2019-04-01 00:00:00',\n",
    "          '2019-05-01 00:00:00', '2019-06-01 00:00:00', '2019-07-01 00:00:00', '2019-08-01 00:00:00',\n",
    "          '2019-09-01 00:00:00', '2019-10-01 00:00:00', '2019-11-01 00:00:00', '2019-12-01 00:00:00',\n",
    "          '2020-01-01 00:00:00', '2020-02-01 00:00:00', '2020-03-01 00:00:00', '2020-04-01 00:00:00',\n",
    "          '2020-05-01 00:00:00', '2020-06-01 00:00:00', '2020-07-01 00:00:00', '2020-08-01 00:00:00',\n",
    "          '2020-09-01 00:00:00', '2020-10-01 00:00:00', '2020-11-01 00:00:00', '2020-12-01 00:00:00',]\n",
    "dt_string_list = list(range(1, 25))"
   ]
  },
  {
   "cell_type": "code",
   "execution_count": 12,
   "id": "6b364ff1",
   "metadata": {
    "ExecuteTime": {
     "end_time": "2022-01-04T01:43:39.878277Z",
     "start_time": "2022-01-04T01:43:39.863315Z"
    }
   },
   "outputs": [],
   "source": [
    "time_stamp_list =[]\n",
    "for ts in time_String_list:\n",
    "    struct_time = time.strptime(ts, \"%Y-%m-%d %H:%M:%S\")\n",
    "    time_stamp = int(time.mktime(struct_time))\n",
    "    time_stamp_list.append(time_stamp)\n"
   ]
  },
  {
   "cell_type": "code",
   "execution_count": 14,
   "id": "05590d5f",
   "metadata": {
    "ExecuteTime": {
     "end_time": "2022-01-04T01:44:13.675972Z",
     "start_time": "2022-01-04T01:44:13.063939Z"
    }
   },
   "outputs": [],
   "source": [
    "df_concat = dt_df_concat\n",
    "df_concat['dt'] = df_concat['dt'].replace(dt_string_list, time_stamp_list)"
   ]
  },
  {
   "cell_type": "markdown",
   "id": "c696e607",
   "metadata": {},
   "source": [
    "### Create review file "
   ]
  },
  {
   "cell_type": "code",
   "execution_count": 16,
   "id": "e55ecf82",
   "metadata": {
    "ExecuteTime": {
     "end_time": "2022-01-04T01:55:58.342670Z",
     "start_time": "2022-01-04T01:44:46.352908Z"
    }
   },
   "outputs": [
    {
     "name": "stderr",
     "output_type": "stream",
     "text": [
      "100%|██████████| 13282918/13282918 [11:11<00:00, 19766.87it/s]\n"
     ]
    }
   ],
   "source": [
    "reviews_w = open(\"_v2_SLi_reviews_rating.txt\", \"w\")\n",
    "# df_concat = dt_df_concat\n",
    "for i in tqdm(range(len(df_concat))):\n",
    "    reviews_w.write(\n",
    "            str(df_concat.iloc[i,1])\n",
    "            + \"\\t\"\n",
    "            + str(df_concat.iloc[i,2])\n",
    "            + \"\\t\"\n",
    "            + str(df_concat.iloc[i,0])\n",
    "            + \"\\n\"  )\n",
    "\n",
    "reviews_w.close()\n",
    "    "
   ]
  },
  {
   "cell_type": "markdown",
   "id": "95646a04",
   "metadata": {},
   "source": [
    "### Create meta file"
   ]
  },
  {
   "cell_type": "code",
   "execution_count": 68,
   "id": "8b3c6650",
   "metadata": {
    "ExecuteTime": {
     "end_time": "2021-12-21T06:55:43.502860Z",
     "start_time": "2021-12-21T06:55:43.494881Z"
    }
   },
   "outputs": [
    {
     "name": "stderr",
     "output_type": "stream",
     "text": [
      "100%|██████████| 6/6 [00:00<?, ?it/s]\n"
     ]
    }
   ],
   "source": [
    "meta_w = open(\"meta_rating.txt\", \"w\")\n",
    "\n",
    "list_of_lv_shop_tag = [lv1_valued_catgory, lv2_valued_catgory, \n",
    "                       lv3_valued_catgory, lv5_valued_catgory, \n",
    "                       lv4_valued_catgory, high_valued_category_dict]\n",
    "\n",
    "for lv_cat in tqdm(list_of_lv_shop_tag):\n",
    "    for k, v in lv_cat.items():\n",
    "        meta_w.write(str(k) + \"\\t\" + str(v) + \"\\n\")\n",
    "\n",
    "meta_w.close()"
   ]
  },
  {
   "cell_type": "markdown",
   "id": "6dbed6f4",
   "metadata": {},
   "source": [
    "## Global Setting"
   ]
  },
  {
   "cell_type": "code",
   "execution_count": 3,
   "id": "977f1c68",
   "metadata": {
    "ExecuteTime": {
     "end_time": "2022-01-04T02:01:00.968219Z",
     "start_time": "2022-01-04T02:01:00.588969Z"
    }
   },
   "outputs": [
    {
     "name": "stderr",
     "output_type": "stream",
     "text": [
      "C:\\Users\\User\\.conda\\envs\\reco_base\\lib\\site-packages\\papermill\\iorw.py:50: FutureWarning: pyarrow.HadoopFileSystem is deprecated as of 2.0.0, please use pyarrow.fs.HadoopFileSystem instead.\n",
      "  from pyarrow import HadoopFileSystem\n"
     ]
    },
    {
     "name": "stdout",
     "output_type": "stream",
     "text": [
      "System version: 3.7.11 (default, Jul 27 2021, 09:42:29) [MSC v.1916 64 bit (AMD64)]\n",
      "Tensorflow version: 2.7.0\n"
     ]
    }
   ],
   "source": [
    "import sys\n",
    "import os\n",
    "import logging\n",
    "import papermill as pm\n",
    "import scrapbook as sb\n",
    "from tempfile import TemporaryDirectory\n",
    "import numpy as np\n",
    "import tensorflow.compat.v1 as tf\n",
    "tf.get_logger().setLevel('ERROR') # only show error messages\n",
    "\n",
    "from recommenders.utils.timer import Timer\n",
    "from recommenders.utils.constants import SEED\n",
    "from recommenders.models.deeprec.deeprec_utils import (\n",
    "    prepare_hparams\n",
    ")\n",
    "# from recommenders.datasets.amazon_reviews import download_and_extract, data_preprocessing\n",
    "from recommenders.datasets.download_utils import maybe_download\n",
    "\n",
    "\n",
    "####  to use the other model, use one of the following lines:\n",
    "# from recommenders.models.deeprec.models.sequential.asvd import A2SVDModel as SeqModel\n",
    "\n",
    "# from recommenders.models.deeprec.models.sequential.gru4rec import GRU4RecModel as SeqModel\n",
    "# from recommenders.models.deeprec.models.sequential.sum import SUMModel as SeqModel\n",
    "\n",
    "#from recommenders.models.deeprec.models.sequential.nextitnet import NextItNetModel\n",
    "\n",
    "from recommenders.models.deeprec.io.sequential_iterator import SequentialIterator\n",
    "#from recommenders.models.deeprec.io.nextitnet_iterator import NextItNetIterator\n",
    "\n",
    "print(\"System version: {}\".format(sys.version))\n",
    "print(\"Tensorflow version: {}\".format(tf.__version__))\n"
   ]
  },
  {
   "cell_type": "markdown",
   "id": "8c45b4dc",
   "metadata": {},
   "source": [
    "### Algorithm Selection"
   ]
  },
  {
   "cell_type": "code",
   "execution_count": 4,
   "id": "066f002f",
   "metadata": {
    "ExecuteTime": {
     "end_time": "2022-01-01T08:08:27.762453Z",
     "start_time": "2022-01-01T08:08:27.748494Z"
    }
   },
   "outputs": [],
   "source": [
    "from recommenders.models.deeprec.models.sequential.caser import CaserModel as SeqModel\n",
    "yaml_file = 'C:/Users/User/Documents/GitHub/Recommenders/recommenders/models/deeprec/config/caser.yaml' "
   ]
  },
  {
   "cell_type": "code",
   "execution_count": 4,
   "id": "031948cc",
   "metadata": {
    "ExecuteTime": {
     "end_time": "2022-01-04T02:01:04.573306Z",
     "start_time": "2022-01-04T02:01:04.558348Z"
    }
   },
   "outputs": [],
   "source": [
    "from recommenders.models.deeprec.models.sequential.sli_rec import SLI_RECModel as SeqModel\n",
    "yaml_file = 'C:/Users/User/Documents/GitHub/Recommenders/recommenders/models/deeprec/config/sli_rec.yaml'"
   ]
  },
  {
   "cell_type": "markdown",
   "id": "0d8936c9",
   "metadata": {},
   "source": [
    "### Parameter"
   ]
  },
  {
   "cell_type": "code",
   "execution_count": 5,
   "id": "58152005",
   "metadata": {
    "ExecuteTime": {
     "end_time": "2022-01-04T02:01:06.837792Z",
     "start_time": "2022-01-04T02:01:06.829809Z"
    }
   },
   "outputs": [],
   "source": [
    "EPOCHS = 4\n",
    "BATCH_SIZE = 400\n",
    "RANDOM_SEED = SEED  # Set None for non-deterministic result\n"
   ]
  },
  {
   "cell_type": "markdown",
   "id": "fd350520",
   "metadata": {},
   "source": [
    "## Data Pre Process"
   ]
  },
  {
   "cell_type": "code",
   "execution_count": 6,
   "id": "270c4cb7",
   "metadata": {
    "ExecuteTime": {
     "end_time": "2022-01-04T02:01:09.014526Z",
     "start_time": "2022-01-04T02:01:09.007545Z"
    }
   },
   "outputs": [],
   "source": [
    "reviews_file = \"C:\\\\Users\\\\User\\\\Documents\\\\GitHub\\\\E-Sun 2021\\\\_v2_SLi_reviews_rating.txt\"\n",
    "meta_file = \"C:\\\\Users\\\\User\\\\Documents\\\\GitHub\\\\E-Sun 2021\\\\new_meta_rating.txt\"\n",
    "data_path = \"C:\\\\Users\\\\User\\\\Documents\\\\GitHub\\\\E-Sun 2021\""
   ]
  },
  {
   "cell_type": "code",
   "execution_count": 7,
   "id": "dd0c240e",
   "metadata": {
    "ExecuteTime": {
     "end_time": "2022-01-04T02:01:10.770229Z",
     "start_time": "2022-01-04T02:01:10.761254Z"
    }
   },
   "outputs": [],
   "source": [
    "import os\n",
    "import shutil\n",
    "import pandas as pd\n",
    "import gzip\n",
    "import random\n",
    "import logging\n",
    "import _pickle as cPickle\n",
    "\n",
    "from recommenders.utils.constants import SEED\n",
    "from recommenders.datasets.download_utils import maybe_download\n",
    "\n",
    "\n",
    "random.seed(SEED)\n",
    "logger = logging.getLogger()"
   ]
  },
  {
   "cell_type": "code",
   "execution_count": 8,
   "id": "bb668313",
   "metadata": {
    "ExecuteTime": {
     "end_time": "2022-01-04T02:01:11.311793Z",
     "start_time": "2022-01-04T02:01:11.300817Z"
    }
   },
   "outputs": [],
   "source": [
    "# for test\n",
    "train_file = os.path.join(data_path, r'train_data.txt')\n",
    "valid_file = os.path.join(data_path, r'valid_data_SLi_v2.txt')\n",
    "test_file = os.path.join(data_path, r'test_data_SLi_v2.txt')\n",
    "user_vocab = os.path.join(data_path, r'user_vocab.pkl')\n",
    "item_vocab = os.path.join(data_path, r'item_vocab.pkl')\n",
    "cate_vocab = os.path.join(data_path, r'category_vocab.pkl')\n",
    "output_file = os.path.join(data_path, r'output.txt')\n",
    "\n",
    "E_sun_data_path = os.path.join(\"Users\", \"User\", \"Documents\", \"GitHub\", \"E-Sun 2021\")\n",
    "reviews_name = '_v2_SLi_reviews_rating.txt'\n",
    "meta_name = 'new_meta_rating.txt'\n",
    "# reviews_file = os.path.join(E_sun_data_path, reviews_name)\n",
    "# meta_file = os.path.join(E_sun_data_path, meta_name)\n",
    "\n",
    "train_num_ngs = 4 # number of negative instances with a positive instance for training\n",
    "valid_num_ngs = 4 # number of negative instances with a positive instance for validation\n",
    "test_num_ngs = 4 # number of negative instances with a positive instance for testing\n",
    "sample_rate = 0.01 # sample a small item set for training and testing here for fast example\n",
    "\n",
    "input_files = [reviews_file, meta_file, train_file, valid_file, test_file, user_vocab, item_vocab, cate_vocab]"
   ]
  },
  {
   "cell_type": "code",
   "execution_count": 21,
   "id": "c39b3398",
   "metadata": {
    "ExecuteTime": {
     "end_time": "2021-12-23T08:13:27.542354Z",
     "start_time": "2021-12-23T08:13:27.514426Z"
    }
   },
   "outputs": [
    {
     "ename": "NameError",
     "evalue": "name '_create_instance' is not defined",
     "output_type": "error",
     "traceback": [
      "\u001b[1;31m---------------------------------------------------------------------------\u001b[0m",
      "\u001b[1;31mNameError\u001b[0m                                 Traceback (most recent call last)",
      "\u001b[1;32m~\\AppData\\Local\\Temp/ipykernel_9612/1847899480.py\u001b[0m in \u001b[0;36m<module>\u001b[1;34m\u001b[0m\n\u001b[1;32m----> 1\u001b[1;33m \u001b[0mdata_preprocessing\u001b[0m\u001b[1;33m(\u001b[0m\u001b[1;33m*\u001b[0m\u001b[0minput_files\u001b[0m\u001b[1;33m,\u001b[0m \u001b[0msample_rate\u001b[0m\u001b[1;33m=\u001b[0m\u001b[0msample_rate\u001b[0m\u001b[1;33m,\u001b[0m \u001b[0mvalid_num_ngs\u001b[0m\u001b[1;33m=\u001b[0m\u001b[0mvalid_num_ngs\u001b[0m\u001b[1;33m,\u001b[0m \u001b[0mtest_num_ngs\u001b[0m\u001b[1;33m=\u001b[0m\u001b[0mtest_num_ngs\u001b[0m\u001b[1;33m)\u001b[0m\u001b[1;33m\u001b[0m\u001b[1;33m\u001b[0m\u001b[0m\n\u001b[0m\u001b[0;32m      2\u001b[0m \u001b[1;31m# if not os.path.exists(train_file):\u001b[0m\u001b[1;33m\u001b[0m\u001b[1;33m\u001b[0m\u001b[1;33m\u001b[0m\u001b[0m\n\u001b[0;32m      3\u001b[0m \u001b[1;31m#     download_and_extract(reviews_name, reviews_file)\u001b[0m\u001b[1;33m\u001b[0m\u001b[1;33m\u001b[0m\u001b[1;33m\u001b[0m\u001b[0m\n\u001b[0;32m      4\u001b[0m \u001b[1;31m#     download_and_extract(meta_name, meta_file)\u001b[0m\u001b[1;33m\u001b[0m\u001b[1;33m\u001b[0m\u001b[1;33m\u001b[0m\u001b[0m\n\u001b[0;32m      5\u001b[0m \u001b[1;33m\u001b[0m\u001b[0m\n",
      "\u001b[1;32m~\\AppData\\Local\\Temp/ipykernel_9612/2133900825.py\u001b[0m in \u001b[0;36mdata_preprocessing\u001b[1;34m(reviews_file, meta_file, train_file, valid_file, test_file, user_vocab, item_vocab, cate_vocab, sample_rate, valid_num_ngs, test_num_ngs, is_history_expanding)\u001b[0m\n\u001b[0;32m     21\u001b[0m     \u001b[0mreviews_output\u001b[0m \u001b[1;33m=\u001b[0m \u001b[0mreviews_file\u001b[0m\u001b[1;33m\u001b[0m\u001b[1;33m\u001b[0m\u001b[0m\n\u001b[0;32m     22\u001b[0m     \u001b[0mmeta_output\u001b[0m \u001b[1;33m=\u001b[0m \u001b[0mmeta_file\u001b[0m\u001b[1;33m\u001b[0m\u001b[1;33m\u001b[0m\u001b[0m\n\u001b[1;32m---> 23\u001b[1;33m     \u001b[0minstance_output\u001b[0m \u001b[1;33m=\u001b[0m \u001b[0m_create_instance\u001b[0m\u001b[1;33m(\u001b[0m\u001b[0mreviews_output\u001b[0m\u001b[1;33m,\u001b[0m \u001b[0mmeta_output\u001b[0m\u001b[1;33m)\u001b[0m\u001b[1;33m\u001b[0m\u001b[1;33m\u001b[0m\u001b[0m\n\u001b[0m\u001b[0;32m     24\u001b[0m     \u001b[0m_create_item2cate\u001b[0m\u001b[1;33m(\u001b[0m\u001b[0minstance_output\u001b[0m\u001b[1;33m)\u001b[0m\u001b[1;33m\u001b[0m\u001b[1;33m\u001b[0m\u001b[0m\n\u001b[0;32m     25\u001b[0m     \u001b[0msampled_instance_file\u001b[0m \u001b[1;33m=\u001b[0m \u001b[0m_get_sampled_data\u001b[0m\u001b[1;33m(\u001b[0m\u001b[0minstance_output\u001b[0m\u001b[1;33m,\u001b[0m \u001b[0msample_rate\u001b[0m\u001b[1;33m=\u001b[0m\u001b[0msample_rate\u001b[0m\u001b[1;33m)\u001b[0m\u001b[1;33m\u001b[0m\u001b[1;33m\u001b[0m\u001b[0m\n",
      "\u001b[1;31mNameError\u001b[0m: name '_create_instance' is not defined"
     ]
    }
   ],
   "source": [
    "data_preprocessing(*input_files, sample_rate=sample_rate, valid_num_ngs=valid_num_ngs, test_num_ngs=test_num_ngs)\n",
    "# if not os.path.exists(train_file):\n",
    "#     download_and_extract(reviews_name, reviews_file)\n",
    "#     download_and_extract(meta_name, meta_file)\n",
    "   \n",
    "    #### uncomment this for the NextItNet model, because it does not need to unfold the user history\n",
    "    # data_preprocessing(*input_files, sample_rate=sample_rate, valid_num_ngs=valid_num_ngs, test_num_ngs=test_num_ngs, is_history_expanding=False)\n"
   ]
  },
  {
   "cell_type": "code",
   "execution_count": 11,
   "id": "7f1ce6ab",
   "metadata": {
    "ExecuteTime": {
     "end_time": "2021-12-24T03:50:19.347119Z",
     "start_time": "2021-12-24T03:50:19.331135Z"
    }
   },
   "outputs": [],
   "source": [
    "def data_preprocessing(\n",
    "    reviews_file,\n",
    "    meta_file,\n",
    "    train_file,\n",
    "    valid_file,\n",
    "    test_file,\n",
    "    user_vocab,\n",
    "    item_vocab,\n",
    "    cate_vocab,\n",
    "    sample_rate=0.01,\n",
    "    valid_num_ngs=4,\n",
    "    test_num_ngs=9,\n",
    "    is_history_expanding=True,\n",
    "):\n",
    "    \"\"\"Create data for training, validation and testing from original dataset\n",
    "\n",
    "    Args:\n",
    "        reviews_file (str): Reviews dataset downloaded from former operations.\n",
    "        meta_file (str): Meta dataset downloaded from former operations.\n",
    "    \"\"\"\n",
    "    reviews_output = reviews_file\n",
    "    meta_output = meta_file\n",
    "    instance_output = _create_instance(reviews_output, meta_output)\n",
    "    _create_item2cate(instance_output)\n",
    "    sampled_instance_file = _get_sampled_data(instance_output, sample_rate=sample_rate)\n",
    "    preprocessed_output = _data_processing(sampled_instance_file)\n",
    "    if is_history_expanding:\n",
    "        _data_generating(preprocessed_output, train_file, valid_file, test_file)\n",
    "    else:\n",
    "        _data_generating_no_history_expanding(\n",
    "            preprocessed_output, train_file, valid_file, test_file\n",
    "        )\n",
    "    _create_vocab(train_file, user_vocab, item_vocab, cate_vocab)\n",
    "    _negative_sampling_offline(\n",
    "        sampled_instance_file, valid_file, test_file, valid_num_ngs, test_num_ngs\n",
    "    )"
   ]
  },
  {
   "cell_type": "code",
   "execution_count": 23,
   "id": "0f2bbc42",
   "metadata": {
    "ExecuteTime": {
     "end_time": "2022-01-04T01:56:26.091136Z",
     "start_time": "2022-01-04T01:56:01.747851Z"
    }
   },
   "outputs": [],
   "source": [
    "def _create_instance(reviews_file, meta_file):\n",
    "    logger.info(\"start create instances...\")\n",
    "    dirs, _ = os.path.split(reviews_file)\n",
    "    output_file = os.path.join(dirs, \"instance_output\")\n",
    "\n",
    "    f_reviews = open(reviews_file, \"r\")\n",
    "    user_dict = {}\n",
    "    item_list = []\n",
    "    for line in f_reviews:\n",
    "        line = line.strip()\n",
    "        reviews_things = line.split(\"\\t\")\n",
    "        if reviews_things[0] not in user_dict:\n",
    "            user_dict[reviews_things[0]] = []\n",
    "        user_dict[reviews_things[0]].append((line, float(reviews_things[-1])))\n",
    "        item_list.append(reviews_things[1])\n",
    "\n",
    "    f_meta = open(meta_file, \"r\")\n",
    "    meta_dict = {}\n",
    "    for line in f_meta:\n",
    "        line = line.strip()\n",
    "        meta_things = line.split(\"\\t\")\n",
    "        if meta_things[0] not in meta_dict:\n",
    "            meta_dict[meta_things[0]] = meta_things[1]\n",
    "\n",
    "    f_output = open(output_file, \"w\")\n",
    "    for user_behavior in user_dict:\n",
    "        sorted_user_behavior = sorted(user_dict[user_behavior], key=lambda x: x[1])\n",
    "        for line, _ in sorted_user_behavior:\n",
    "            user_things = line.split(\"\\t\")\n",
    "            asin = user_things[1]\n",
    "            if asin in meta_dict:\n",
    "                f_output.write(\"1\" + \"\\t\" + line + \"\\t\" + meta_dict[asin] + \"\\n\")\n",
    "            else:\n",
    "                f_output.write(\"1\" + \"\\t\" + line + \"\\t\" + \"default_cat\" + \"\\n\")\n",
    "\n",
    "    f_reviews.close()\n",
    "    f_meta.close()\n",
    "    f_output.close()\n",
    "    return output_file\n",
    "\n",
    "instance_output = _create_instance(reviews_file, meta_file)"
   ]
  },
  {
   "cell_type": "code",
   "execution_count": 9,
   "id": "dbfd49a5",
   "metadata": {
    "ExecuteTime": {
     "end_time": "2022-01-04T02:01:24.050054Z",
     "start_time": "2022-01-04T02:01:24.040081Z"
    }
   },
   "outputs": [],
   "source": [
    "instance_output = 'C:\\\\Users\\\\User\\\\Documents\\\\GitHub\\\\E-Sun 2021\\\\instance_output'"
   ]
  },
  {
   "cell_type": "code",
   "execution_count": 10,
   "id": "f65b731f",
   "metadata": {
    "ExecuteTime": {
     "end_time": "2022-01-04T02:01:32.667035Z",
     "start_time": "2022-01-04T02:01:24.322952Z"
    }
   },
   "outputs": [],
   "source": [
    "def _create_item2cate(instance_file):\n",
    "    logger.info(\"creating item2cate dict\")\n",
    "    global item2cate\n",
    "    instance_df = pd.read_csv(\n",
    "        instance_file,\n",
    "        sep=\"\\t\",\n",
    "        names=[\"label\", \"user_id\", \"item_id\", \"timestamp\", \"cate_id\"],\n",
    "    )\n",
    "    item2cate = instance_df.set_index(\"item_id\")[\"cate_id\"].to_dict()\n",
    "    \n",
    "_create_item2cate(instance_output)"
   ]
  },
  {
   "cell_type": "code",
   "execution_count": 25,
   "id": "66b6dadb",
   "metadata": {
    "ExecuteTime": {
     "end_time": "2022-01-04T01:56:52.011704Z",
     "start_time": "2022-01-04T01:56:35.558099Z"
    }
   },
   "outputs": [],
   "source": [
    "# Sample sample_rate proportion of shop_tag sample \n",
    "def _get_sampled_data(instance_file, sample_rate=0.7):\n",
    "    logger.info(\"getting sampled data...\")\n",
    "    global item2cate\n",
    "    output_file = instance_file + \"_\" + str(sample_rate)\n",
    "    columns = [\"label\", \"user_id\", \"item_id\", \"timestamp\", \"cate_id\"]\n",
    "    ns_df = pd.read_csv(instance_file, sep=\"\\t\", names=columns)\n",
    "    items_num = ns_df[\"item_id\"].nunique()\n",
    "    items_with_popular = list(ns_df[\"item_id\"])\n",
    "    items_sample, count = set(), 0\n",
    "    while count < int(items_num * sample_rate):\n",
    "        random_item = random.choice(items_with_popular)\n",
    "        if random_item not in items_sample:\n",
    "            items_sample.add(random_item)\n",
    "            count += 1\n",
    "    ns_df_sample = ns_df[ns_df[\"item_id\"].isin(items_sample)]\n",
    "    ns_df_sample.to_csv((output_file), sep=\"\\t\", index=None, header=None)\n",
    "    return output_file\n",
    "\n",
    "sampled_instance_file = _get_sampled_data(instance_output)"
   ]
  },
  {
   "cell_type": "code",
   "execution_count": 20,
   "id": "2124d3ef",
   "metadata": {
    "ExecuteTime": {
     "end_time": "2022-01-01T08:07:03.162089Z",
     "start_time": "2022-01-01T08:07:03.146132Z"
    }
   },
   "outputs": [],
   "source": [
    "sampled_instance_file = 'C:\\\\Users\\\\User\\\\Documents\\\\GitHub\\\\E-Sun 2021\\\\instance_output_0.7'"
   ]
  },
  {
   "cell_type": "code",
   "execution_count": 26,
   "id": "238adab6",
   "metadata": {
    "ExecuteTime": {
     "end_time": "2022-01-04T01:57:09.693028Z",
     "start_time": "2022-01-04T01:56:52.403223Z"
    }
   },
   "outputs": [],
   "source": [
    "def _data_processing(input_file):\n",
    "    logger.info(\"start data processing...\")\n",
    "    dirs, _ = os.path.split(input_file)\n",
    "    output_file = os.path.join(dirs, \"preprocessed_output\")\n",
    "\n",
    "    f_input = open(input_file, \"r\")\n",
    "    f_output = open(output_file, \"w\")\n",
    "    user_count = {}\n",
    "    for line in f_input:\n",
    "        line = line.strip()\n",
    "        user = line.split(\"\\t\")[1]\n",
    "        if user not in user_count:\n",
    "            user_count[user] = 0\n",
    "        user_count[user] += 1\n",
    "    f_input.seek(0)\n",
    "    i = 0\n",
    "    last_user = None\n",
    "    for line in f_input:\n",
    "        line = line.strip()\n",
    "        user = line.split(\"\\t\")[1]\n",
    "        if user == last_user:\n",
    "            if i < user_count[user] - 2:\n",
    "                f_output.write(\"train\" + \"\\t\" + line + \"\\n\")\n",
    "            elif i < user_count[user] - 1:\n",
    "                f_output.write(\"valid\" + \"\\t\" + line + \"\\n\")\n",
    "            else:\n",
    "                f_output.write(\"test\" + \"\\t\" + line + \"\\n\")\n",
    "        else:\n",
    "            last_user = user\n",
    "            i = 0\n",
    "            if i < user_count[user] - 2:\n",
    "                f_output.write(\"train\" + \"\\t\" + line + \"\\n\")\n",
    "            elif i < user_count[user] - 1:\n",
    "                f_output.write(\"valid\" + \"\\t\" + line + \"\\n\")\n",
    "            else:\n",
    "                f_output.write(\"test\" + \"\\t\" + line + \"\\n\")\n",
    "        i += 1\n",
    "    return output_file\n",
    "\n",
    "preprocessed_output = _data_processing(sampled_instance_file)"
   ]
  },
  {
   "cell_type": "code",
   "execution_count": 27,
   "id": "589b3bb0",
   "metadata": {
    "ExecuteTime": {
     "end_time": "2022-01-04T01:58:31.893317Z",
     "start_time": "2022-01-04T01:57:10.113454Z"
    }
   },
   "outputs": [],
   "source": [
    "def _data_generating(input_file, train_file, valid_file, test_file, min_sequence=1):\n",
    "    \"\"\"produce train, valid and test file from processed_output file\n",
    "    Each user's behavior sequence will be unfolded and produce multiple lines in trian file.\n",
    "    Like, user's behavior sequence: 12345, and this function will write into train file:\n",
    "    1, 12, 123, 1234, 12345\n",
    "    \"\"\"\n",
    "    f_input = open(input_file, \"r\")\n",
    "    f_train = open(train_file, \"w\")\n",
    "    f_valid = open(valid_file, \"w\")\n",
    "    f_test = open(test_file, \"w\")\n",
    "    logger.info(\"data generating...\")\n",
    "    last_user_id = None\n",
    "    for line in f_input:\n",
    "        line_split = line.strip().split(\"\\t\")\n",
    "        tfile = line_split[0]\n",
    "        label = int(line_split[1])\n",
    "        user_id = line_split[2]\n",
    "        movie_id = line_split[3]\n",
    "        date_time = line_split[4]\n",
    "        category = line_split[5]\n",
    "\n",
    "        if tfile == \"train\":\n",
    "            fo = f_train\n",
    "        elif tfile == \"valid\":\n",
    "            fo = f_valid\n",
    "        elif tfile == \"test\":\n",
    "            fo = f_test\n",
    "        if user_id != last_user_id:\n",
    "            movie_id_list = []\n",
    "            cate_list = []\n",
    "            dt_list = []\n",
    "        else:\n",
    "            history_clk_num = len(movie_id_list)\n",
    "            cat_str = \"\"\n",
    "            mid_str = \"\"\n",
    "            dt_str = \"\"\n",
    "            for c1 in cate_list:\n",
    "                cat_str += c1 + \",\"\n",
    "            for mid in movie_id_list:\n",
    "                mid_str += mid + \",\"\n",
    "            for dt_time in dt_list:\n",
    "                dt_str += dt_time + \",\"\n",
    "            if len(cat_str) > 0:\n",
    "                cat_str = cat_str[:-1]\n",
    "            if len(mid_str) > 0:\n",
    "                mid_str = mid_str[:-1]\n",
    "            if len(dt_str) > 0:\n",
    "                dt_str = dt_str[:-1]\n",
    "            if history_clk_num >= min_sequence:\n",
    "                fo.write(\n",
    "                    line_split[1]\n",
    "                    + \"\\t\"\n",
    "                    + user_id\n",
    "                    + \"\\t\"\n",
    "                    + movie_id\n",
    "                    + \"\\t\"\n",
    "                    + category\n",
    "                    + \"\\t\"\n",
    "                    + date_time\n",
    "                    + \"\\t\"\n",
    "                    + mid_str\n",
    "                    + \"\\t\"\n",
    "                    + cat_str\n",
    "                    + \"\\t\"\n",
    "                    + dt_str\n",
    "                    + \"\\n\"\n",
    "                )\n",
    "        last_user_id = user_id\n",
    "        if label:\n",
    "            movie_id_list.append(movie_id)\n",
    "            cate_list.append(category)\n",
    "            dt_list.append(date_time)\n",
    "            \n",
    "_data_generating(preprocessed_output, train_file, valid_file, test_file)\n",
    "# Create train, test, valid file"
   ]
  },
  {
   "cell_type": "code",
   "execution_count": 28,
   "id": "392df539",
   "metadata": {
    "ExecuteTime": {
     "end_time": "2022-01-04T01:59:29.569421Z",
     "start_time": "2022-01-04T01:58:32.300805Z"
    }
   },
   "outputs": [],
   "source": [
    "def _create_vocab(train_file, user_vocab, item_vocab, cate_vocab):\n",
    "\n",
    "    f_train = open(train_file, \"r\")\n",
    "\n",
    "    user_dict = {}\n",
    "    item_dict = {}\n",
    "    cat_dict = {}\n",
    "\n",
    "    logger.info(\"vocab generating...\")\n",
    "    for line in f_train:\n",
    "        arr = line.strip(\"\\n\").split(\"\\t\")\n",
    "        uid = arr[1]\n",
    "        mid = arr[2]\n",
    "        cat = arr[3]\n",
    "        mid_list = arr[5]\n",
    "        cat_list = arr[6]\n",
    "\n",
    "        if uid not in user_dict:\n",
    "            user_dict[uid] = 0\n",
    "        user_dict[uid] += 1\n",
    "        if mid not in item_dict:\n",
    "            item_dict[mid] = 0\n",
    "        item_dict[mid] += 1\n",
    "        if cat not in cat_dict:\n",
    "            cat_dict[cat] = 0\n",
    "        cat_dict[cat] += 1\n",
    "        if len(mid_list) == 0:\n",
    "            continue\n",
    "        for m in mid_list.split(\",\"):\n",
    "            if m not in item_dict:\n",
    "                item_dict[m] = 0\n",
    "            item_dict[m] += 1\n",
    "        for c in cat_list.split(\",\"):\n",
    "            if c not in cat_dict:\n",
    "                cat_dict[c] = 0\n",
    "            cat_dict[c] += 1\n",
    "\n",
    "    sorted_user_dict = sorted(user_dict.items(), key=lambda x: x[1], reverse=True)\n",
    "    sorted_item_dict = sorted(item_dict.items(), key=lambda x: x[1], reverse=True)\n",
    "    sorted_cat_dict = sorted(cat_dict.items(), key=lambda x: x[1], reverse=True)\n",
    "\n",
    "    uid_voc = {}\n",
    "    index = 0\n",
    "    for key, value in sorted_user_dict:\n",
    "        uid_voc[key] = index\n",
    "        index += 1\n",
    "\n",
    "    mid_voc = {}\n",
    "    mid_voc[\"default_mid\"] = 0\n",
    "    index = 1\n",
    "    for key, value in sorted_item_dict:\n",
    "        mid_voc[key] = index\n",
    "        index += 1\n",
    "\n",
    "    cat_voc = {}\n",
    "    cat_voc[\"default_cat\"] = 0\n",
    "    index = 1\n",
    "    for key, value in sorted_cat_dict:\n",
    "        cat_voc[key] = index\n",
    "        index += 1\n",
    "\n",
    "    cPickle.dump(uid_voc, open(user_vocab, \"wb\"))\n",
    "    cPickle.dump(mid_voc, open(item_vocab, \"wb\"))\n",
    "    cPickle.dump(cat_voc, open(cate_vocab, \"wb\"))\n",
    "\n",
    "\n",
    "_create_vocab(train_file, user_vocab, item_vocab, cate_vocab)    "
   ]
  },
  {
   "cell_type": "code",
   "execution_count": 29,
   "id": "98521386",
   "metadata": {
    "ExecuteTime": {
     "end_time": "2022-01-04T01:59:33.370900Z",
     "start_time": "2022-01-04T01:59:30.065109Z"
    }
   },
   "outputs": [],
   "source": [
    "columns = [\"label\", \"user_id\", \"item_id\", \"timestamp\", \"cate_id\"]\n",
    "ns_df = pd.read_csv(sampled_instance_file, sep=\"\\t\", names=columns)\n",
    "items_with_popular = list(ns_df[\"item_id\"])\n",
    "\n",
    "global item2cate\n"
   ]
  },
  {
   "cell_type": "code",
   "execution_count": 8,
   "id": "0c8fdbf1",
   "metadata": {
    "ExecuteTime": {
     "end_time": "2021-12-30T16:23:00.934037Z",
     "start_time": "2021-12-30T16:23:00.915090Z"
    }
   },
   "outputs": [
    {
     "data": {
      "text/plain": [
       "('C:\\\\Users\\\\User\\\\Documents\\\\GitHub\\\\E-Sun 2021\\\\test_data_4nd.txt',\n",
       " 'C:\\\\Users\\\\User\\\\Documents\\\\GitHub\\\\E-Sun 2021\\\\valid_data_4nd.txt')"
      ]
     },
     "execution_count": 8,
     "metadata": {},
     "output_type": "execute_result"
    }
   ],
   "source": [
    "test_file, valid_file"
   ]
  },
  {
   "cell_type": "code",
   "execution_count": 30,
   "id": "31b1b6b7",
   "metadata": {
    "ExecuteTime": {
     "end_time": "2022-01-04T01:59:51.589191Z",
     "start_time": "2022-01-04T01:59:40.770617Z"
    }
   },
   "outputs": [
    {
     "name": "stderr",
     "output_type": "stream",
     "text": [
      "100%|██████████| 485554/485554 [00:09<00:00, 49229.86it/s]\n"
     ]
    }
   ],
   "source": [
    "# test negative sampling\n",
    "logger.info(\"start test negative sampling\")\n",
    "with open(test_file, \"r\") as f:\n",
    "    test_lines = f.readlines()\n",
    "write_test = open('C:\\\\Users\\\\User\\\\Documents\\\\GitHub\\\\E-Sun 2021\\\\new_data_test.txt', \"w\")\n",
    "for line in tqdm(test_lines):\n",
    "    write_test.write(line)\n",
    "    words = line.strip().split(\"\\t\")\n",
    "    positive_item = words[2]\n",
    "    count = 0\n",
    "    neg_items = set()\n",
    "    while count < 4:\n",
    "        neg_item = random.choice(items_with_popular)\n",
    "        if neg_item == int(positive_item) or neg_item in neg_items:\n",
    "            continue\n",
    "        count += 1\n",
    "        neg_items.add(neg_item)\n",
    "        words[0] = \"0\"\n",
    "        words[2] = neg_item\n",
    "        words[2] = str(words[2])            \n",
    "        words[3] = item2cate[neg_item]\n",
    "        words[3] = str(words[3])\n",
    "        write_test.write(\"\\t\".join(words) + \"\\n\")\n"
   ]
  },
  {
   "cell_type": "code",
   "execution_count": 31,
   "id": "8b93d50c",
   "metadata": {
    "ExecuteTime": {
     "end_time": "2022-01-04T02:00:18.521356Z",
     "start_time": "2022-01-04T02:00:07.931857Z"
    }
   },
   "outputs": [
    {
     "name": "stderr",
     "output_type": "stream",
     "text": [
      "100%|██████████| 475986/475986 [00:09<00:00, 48557.38it/s]\n"
     ]
    }
   ],
   "source": [
    "# valid negative sampling\n",
    "logger.info(\"start valid negative sampling\")\n",
    "with open(valid_file, \"r\") as f:\n",
    "    valid_lines = f.readlines()\n",
    "write_valid = open('C:\\\\Users\\\\User\\\\Documents\\\\GitHub\\\\E-Sun 2021\\\\new_data_valid.txt', \"w\")\n",
    "for line in tqdm(valid_lines):\n",
    "    write_valid.write(line)\n",
    "    words = line.strip().split(\"\\t\")\n",
    "    positive_item = words[2]\n",
    "    count = 0\n",
    "    neg_items = set()\n",
    "    while count < 4:\n",
    "        neg_item = random.choice(items_with_popular)\n",
    "        if neg_item == int(positive_item) or neg_item in neg_items:\n",
    "            continue\n",
    "        count += 1\n",
    "        neg_items.add(neg_item)\n",
    "        words[0] = \"0\"\n",
    "        words[2] = neg_item\n",
    "        words[2] = str(words[2])\n",
    "        words[3] = item2cate[neg_item]\n",
    "        words[3] = str(words[3])\n",
    "        write_valid.write(\"\\t\".join(words) + \"\\n\")\n"
   ]
  },
  {
   "cell_type": "code",
   "execution_count": 28,
   "id": "ef02f750",
   "metadata": {
    "ExecuteTime": {
     "end_time": "2021-12-24T08:30:55.496801Z",
     "start_time": "2021-12-24T08:30:24.140990Z"
    }
   },
   "outputs": [
    {
     "name": "stderr",
     "output_type": "stream",
     "text": [
      "100%|██████████| 448936/448936 [00:10<00:00, 43837.30it/s]\n",
      "  0%|          | 0/464780 [00:15<?, ?it/s]\n"
     ]
    },
    {
     "ename": "KeyboardInterrupt",
     "evalue": "",
     "output_type": "error",
     "traceback": [
      "\u001b[1;31m---------------------------------------------------------------------------\u001b[0m",
      "\u001b[1;31mKeyboardInterrupt\u001b[0m                         Traceback (most recent call last)",
      "\u001b[1;32m~\\AppData\\Local\\Temp/ipykernel_6492/2492455701.py\u001b[0m in \u001b[0;36m<module>\u001b[1;34m\u001b[0m\n\u001b[0;32m     58\u001b[0m \u001b[1;33m\u001b[0m\u001b[0m\n\u001b[0;32m     59\u001b[0m _negative_sampling_offline(\n\u001b[1;32m---> 60\u001b[1;33m         \u001b[0msampled_instance_file\u001b[0m\u001b[1;33m,\u001b[0m \u001b[0mvalid_file\u001b[0m\u001b[1;33m,\u001b[0m \u001b[0mtest_file\u001b[0m\u001b[1;33m,\u001b[0m \u001b[0mvalid_num_ngs\u001b[0m\u001b[1;33m,\u001b[0m \u001b[0mtest_num_ngs\u001b[0m\u001b[1;33m\u001b[0m\u001b[1;33m\u001b[0m\u001b[0m\n\u001b[0m\u001b[0;32m     61\u001b[0m     )\n",
      "\u001b[1;32m~\\AppData\\Local\\Temp/ipykernel_6492/2492455701.py\u001b[0m in \u001b[0;36m_negative_sampling_offline\u001b[1;34m(instance_input_file, valid_file, test_file, valid_neg_nums, test_neg_nums)\u001b[0m\n\u001b[0;32m     45\u001b[0m         \u001b[0mneg_items\u001b[0m \u001b[1;33m=\u001b[0m \u001b[0mset\u001b[0m\u001b[1;33m(\u001b[0m\u001b[1;33m)\u001b[0m\u001b[1;33m\u001b[0m\u001b[1;33m\u001b[0m\u001b[0m\n\u001b[0;32m     46\u001b[0m         \u001b[1;32mwhile\u001b[0m \u001b[0mcount\u001b[0m \u001b[1;33m<\u001b[0m \u001b[0mtest_neg_nums\u001b[0m\u001b[1;33m:\u001b[0m\u001b[1;33m\u001b[0m\u001b[1;33m\u001b[0m\u001b[0m\n\u001b[1;32m---> 47\u001b[1;33m             \u001b[0mneg_item\u001b[0m \u001b[1;33m=\u001b[0m \u001b[0mrandom\u001b[0m\u001b[1;33m.\u001b[0m\u001b[0mchoice\u001b[0m\u001b[1;33m(\u001b[0m\u001b[0mitems_with_popular\u001b[0m\u001b[1;33m)\u001b[0m\u001b[1;33m\u001b[0m\u001b[1;33m\u001b[0m\u001b[0m\n\u001b[0m\u001b[0;32m     48\u001b[0m             \u001b[1;32mif\u001b[0m \u001b[0mneg_item\u001b[0m \u001b[1;33m==\u001b[0m \u001b[0mint\u001b[0m\u001b[1;33m(\u001b[0m\u001b[0mpositive_item\u001b[0m\u001b[1;33m)\u001b[0m \u001b[1;32mor\u001b[0m \u001b[0mneg_item\u001b[0m \u001b[1;32min\u001b[0m \u001b[0mneg_items\u001b[0m\u001b[1;33m:\u001b[0m\u001b[1;33m\u001b[0m\u001b[1;33m\u001b[0m\u001b[0m\n\u001b[0;32m     49\u001b[0m                 \u001b[1;32mcontinue\u001b[0m\u001b[1;33m\u001b[0m\u001b[1;33m\u001b[0m\u001b[0m\n",
      "\u001b[1;31mKeyboardInterrupt\u001b[0m: "
     ]
    }
   ],
   "source": [
    "def _negative_sampling_offline(\n",
    "    instance_input_file, valid_file, test_file, valid_neg_nums=4, test_neg_nums=4\n",
    "):\n",
    "\n",
    "    columns = [\"label\", \"user_id\", \"item_id\", \"timestamp\", \"cate_id\"]\n",
    "    ns_df = pd.read_csv(instance_input_file, sep=\"\\t\", names=columns)\n",
    "    items_with_popular = list(ns_df[\"item_id\"])\n",
    "\n",
    "    global item2cate\n",
    "\n",
    "    # valid negative sampling\n",
    "    logger.info(\"start valid negative sampling\")\n",
    "    with open(valid_file, \"r\") as f:\n",
    "        valid_lines = f.readlines()\n",
    "    write_valid = open(valid_file, \"w\")\n",
    "    for line in tqdm(valid_lines):\n",
    "        write_valid.write(line)\n",
    "        words = line.strip().split(\"\\t\")\n",
    "        positive_item = words[2]\n",
    "        count = 0\n",
    "        neg_items = set()\n",
    "        while count < valid_neg_nums:\n",
    "            neg_item = random.choice(items_with_popular)\n",
    "            if neg_item == int(positive_item) or neg_item in neg_items:\n",
    "                continue\n",
    "            count += 1\n",
    "            neg_items.add(neg_item)\n",
    "            words[0] = \"0\"\n",
    "            words[2] = neg_item\n",
    "            words[2] = str(words[2])\n",
    "            words[3] = item2cate[neg_item]\n",
    "            words[3] = str(words[3])\n",
    "            write_valid.write(\"\\t\".join(words) + \"\\n\")\n",
    "\n",
    "    # test negative sampling\n",
    "    logger.info(\"start test negative sampling\")\n",
    "    with open(test_file, \"r\") as f:\n",
    "        test_lines = f.readlines()\n",
    "    write_test = open(test_file, \"w\")\n",
    "    for line in tqdm(test_lines):\n",
    "        write_test.write(line)\n",
    "        words = line.strip().split(\"\\t\")\n",
    "        positive_item = words[2]\n",
    "        count = 0\n",
    "        neg_items = set()\n",
    "        while count < test_neg_nums:\n",
    "            neg_item = random.choice(items_with_popular)\n",
    "            if neg_item == int(positive_item) or neg_item in neg_items:\n",
    "                continue\n",
    "            count += 1\n",
    "            neg_items.add(neg_item)\n",
    "            words[0] = \"0\"\n",
    "            words[2] = neg_item\n",
    "            words[2] = str(words[2])            \n",
    "            words[3] = item2cate[neg_item]\n",
    "            words[3] = str(words[3])\n",
    "            write_test.write(\"\\t\".join(words) + \"\\n\")\n",
    "\n",
    "_negative_sampling_offline(\n",
    "        sampled_instance_file, valid_file, test_file, valid_num_ngs, test_num_ngs\n",
    "    )"
   ]
  },
  {
   "cell_type": "markdown",
   "id": "a60d825b",
   "metadata": {},
   "source": [
    "## Create Model"
   ]
  },
  {
   "cell_type": "markdown",
   "id": "f5e9509b",
   "metadata": {},
   "source": [
    "### Model parameter "
   ]
  },
  {
   "cell_type": "code",
   "execution_count": 11,
   "id": "3e3dfe1c",
   "metadata": {
    "ExecuteTime": {
     "end_time": "2022-01-04T02:01:32.884285Z",
     "start_time": "2022-01-04T02:01:32.870300Z"
    }
   },
   "outputs": [],
   "source": [
    "### NOTE:  \n",
    "### remember to use `_create_vocab(train_file, user_vocab, item_vocab, cate_vocab)` to generate the user_vocab, item_vocab and cate_vocab files, if you are using your own dataset rather than using our demo Amazon dataset.\n",
    "hparams = prepare_hparams(yaml_file, \n",
    "                          embed_l2=0., \n",
    "                          layer_l2=0., \n",
    "                          learning_rate=0.001,  # set to 0.01 if batch normalization is disable\n",
    "                          epochs=EPOCHS,\n",
    "                          batch_size=BATCH_SIZE,\n",
    "                          show_step=20,\n",
    "                          MODEL_DIR=os.path.join(data_path, \"model/\"),\n",
    "                          SUMMARIES_DIR=os.path.join(data_path, \"summary/\"),\n",
    "                          user_vocab=user_vocab,\n",
    "                          item_vocab=item_vocab,\n",
    "                          cate_vocab=cate_vocab,\n",
    "                          need_sample=True,\n",
    "                          train_num_ngs=train_num_ngs, # provides the number of negative instances for each positive instance for loss computation.\n",
    "            )"
   ]
  },
  {
   "cell_type": "code",
   "execution_count": 12,
   "id": "18993d39",
   "metadata": {
    "ExecuteTime": {
     "end_time": "2022-01-04T02:01:33.334194Z",
     "start_time": "2022-01-04T02:01:33.323216Z"
    }
   },
   "outputs": [],
   "source": [
    "input_creator = SequentialIterator\n",
    "#### uncomment this for the NextItNet model, because it needs a special data iterator for training\n",
    "#input_creator = NextItNetIterator"
   ]
  },
  {
   "cell_type": "code",
   "execution_count": 13,
   "id": "4551b970",
   "metadata": {
    "ExecuteTime": {
     "end_time": "2022-01-04T02:01:37.001878Z",
     "start_time": "2022-01-04T02:01:33.602415Z"
    }
   },
   "outputs": [
    {
     "name": "stderr",
     "output_type": "stream",
     "text": [
      "C:\\Users\\User\\.conda\\envs\\reco_base\\lib\\site-packages\\recommenders\\models\\deeprec\\models\\base_model.py:705: UserWarning: `tf.layers.batch_normalization` is deprecated and will be removed in a future version. Please use `tf.keras.layers.BatchNormalization` instead. In particular, `tf.control_dependencies(tf.GraphKeys.UPDATE_OPS)` should not be used (consult the `tf.keras.layers.BatchNormalization` documentation).\n",
      "  training=self.is_train_stage,\n",
      "C:\\Users\\User\\.conda\\envs\\reco_base\\lib\\site-packages\\keras\\legacy_tf_layers\\normalization.py:455: UserWarning: `layer.apply` is deprecated and will be removed in a future version. Please use `layer.__call__` method instead.\n",
      "  return layer.apply(inputs, training=training)\n"
     ]
    }
   ],
   "source": [
    "model = SeqModel(hparams, input_creator, seed=RANDOM_SEED)\n",
    "\n",
    "## sometimes we don't want to train a model from scratch\n",
    "## then we can load a pre-trained model like this: \n",
    "#model.load_model(r'your_model_path')"
   ]
  },
  {
   "cell_type": "code",
   "execution_count": 15,
   "id": "ccc36b47",
   "metadata": {
    "ExecuteTime": {
     "end_time": "2021-12-24T03:56:48.021547Z",
     "start_time": "2021-12-24T03:50:31.832741Z"
    }
   },
   "outputs": [
    {
     "name": "stdout",
     "output_type": "stream",
     "text": [
      "{'auc': 0.6643, 'logloss': 0.6931, 'mean_mrr': 0.6399, 'ndcg@2': 0.6206, 'ndcg@4': 0.7013, 'ndcg@6': 0.7305, 'group_auc': 0.7479}\n"
     ]
    }
   ],
   "source": [
    "# test_num_ngs is the number of negative lines after each positive line in your test_file\n",
    "print(model.run_eval(test_file, num_ngs=test_num_ngs)) "
   ]
  },
  {
   "cell_type": "markdown",
   "id": "81b68a40",
   "metadata": {},
   "source": [
    "### Train Model"
   ]
  },
  {
   "cell_type": "code",
   "execution_count": 14,
   "id": "06b97034",
   "metadata": {
    "ExecuteTime": {
     "end_time": "2022-01-04T02:01:37.221205Z",
     "start_time": "2022-01-04T02:01:37.207088Z"
    }
   },
   "outputs": [],
   "source": [
    "test_file = 'C:\\\\Users\\\\User\\\\Documents\\\\GitHub\\\\E-Sun 2021\\\\new_data_test.txt'\n",
    "valid_file = 'C:\\\\Users\\\\User\\\\Documents\\\\GitHub\\\\E-Sun 2021\\\\new_data_valid.txt'"
   ]
  },
  {
   "cell_type": "code",
   "execution_count": null,
   "id": "30013fda",
   "metadata": {
    "ExecuteTime": {
     "start_time": "2022-01-04T02:01:38.339Z"
    },
    "scrolled": true
   },
   "outputs": [
    {
     "name": "stdout",
     "output_type": "stream",
     "text": [
      "step 20 , total_loss: 1.5765, data_loss: 1.5765\n",
      "step 40 , total_loss: 1.5014, data_loss: 1.5014\n",
      "step 60 , total_loss: 1.3467, data_loss: 1.3467\n",
      "step 80 , total_loss: 1.1589, data_loss: 1.1589\n",
      "step 100 , total_loss: 1.0938, data_loss: 1.0938\n",
      "step 120 , total_loss: 0.9404, data_loss: 0.9404\n",
      "step 140 , total_loss: 0.9255, data_loss: 0.9255\n",
      "step 160 , total_loss: 0.8825, data_loss: 0.8825\n",
      "step 180 , total_loss: 0.9590, data_loss: 0.9590\n",
      "step 200 , total_loss: 0.9431, data_loss: 0.9431\n",
      "step 220 , total_loss: 0.8231, data_loss: 0.8231\n",
      "step 240 , total_loss: 0.8928, data_loss: 0.8928\n",
      "step 260 , total_loss: 0.8843, data_loss: 0.8843\n",
      "step 280 , total_loss: 0.8636, data_loss: 0.8636\n",
      "step 300 , total_loss: 0.8872, data_loss: 0.8872\n",
      "step 320 , total_loss: 0.8904, data_loss: 0.8904\n",
      "step 340 , total_loss: 0.9344, data_loss: 0.9344\n",
      "step 360 , total_loss: 0.9025, data_loss: 0.9025\n",
      "step 380 , total_loss: 0.9064, data_loss: 0.9064\n",
      "step 400 , total_loss: 0.8738, data_loss: 0.8738\n",
      "step 420 , total_loss: 0.8236, data_loss: 0.8236\n",
      "step 440 , total_loss: 0.7969, data_loss: 0.7969\n",
      "step 460 , total_loss: 0.7954, data_loss: 0.7954\n",
      "step 480 , total_loss: 0.7663, data_loss: 0.7663\n",
      "step 500 , total_loss: 0.8893, data_loss: 0.8893\n",
      "step 520 , total_loss: 0.8053, data_loss: 0.8053\n",
      "step 540 , total_loss: 0.8841, data_loss: 0.8841\n",
      "step 560 , total_loss: 0.8344, data_loss: 0.8344\n",
      "step 580 , total_loss: 0.7613, data_loss: 0.7613\n",
      "step 600 , total_loss: 0.6917, data_loss: 0.6917\n",
      "step 620 , total_loss: 0.7676, data_loss: 0.7676\n",
      "step 640 , total_loss: 0.7255, data_loss: 0.7255\n",
      "step 660 , total_loss: 0.7985, data_loss: 0.7985\n",
      "step 680 , total_loss: 0.7664, data_loss: 0.7664\n",
      "step 700 , total_loss: 0.7659, data_loss: 0.7659\n",
      "step 720 , total_loss: 0.8522, data_loss: 0.8522\n",
      "step 740 , total_loss: 0.8205, data_loss: 0.8205\n",
      "step 760 , total_loss: 0.7788, data_loss: 0.7788\n",
      "step 780 , total_loss: 0.7384, data_loss: 0.7384\n",
      "step 800 , total_loss: 0.7387, data_loss: 0.7387\n",
      "step 820 , total_loss: 0.7737, data_loss: 0.7737\n",
      "step 840 , total_loss: 0.7504, data_loss: 0.7504\n",
      "step 860 , total_loss: 0.7468, data_loss: 0.7468\n",
      "step 880 , total_loss: 0.7025, data_loss: 0.7025\n",
      "step 900 , total_loss: 0.7960, data_loss: 0.7960\n",
      "step 920 , total_loss: 0.7623, data_loss: 0.7623\n",
      "step 940 , total_loss: 0.7198, data_loss: 0.7198\n",
      "step 960 , total_loss: 0.8277, data_loss: 0.8277\n",
      "step 980 , total_loss: 0.8504, data_loss: 0.8504\n",
      "step 1000 , total_loss: 0.7979, data_loss: 0.7979\n",
      "step 1020 , total_loss: 0.7314, data_loss: 0.7314\n",
      "step 1040 , total_loss: 0.7732, data_loss: 0.7732\n",
      "step 1060 , total_loss: 0.7529, data_loss: 0.7529\n",
      "step 1080 , total_loss: 0.8158, data_loss: 0.8158\n",
      "step 1100 , total_loss: 0.7632, data_loss: 0.7632\n",
      "step 1120 , total_loss: 0.6197, data_loss: 0.6197\n",
      "step 1140 , total_loss: 0.7657, data_loss: 0.7657\n",
      "step 1160 , total_loss: 0.8744, data_loss: 0.8744\n",
      "step 1180 , total_loss: 0.7348, data_loss: 0.7348\n",
      "step 1200 , total_loss: 0.7709, data_loss: 0.7709\n",
      "step 1220 , total_loss: 0.7163, data_loss: 0.7163\n",
      "step 1240 , total_loss: 0.7366, data_loss: 0.7366\n",
      "step 1260 , total_loss: 0.7835, data_loss: 0.7835\n",
      "step 1280 , total_loss: 0.8026, data_loss: 0.8026\n",
      "step 1300 , total_loss: 0.8964, data_loss: 0.8964\n",
      "step 1320 , total_loss: 0.8116, data_loss: 0.8116\n",
      "step 1340 , total_loss: 0.7862, data_loss: 0.7862\n",
      "step 1360 , total_loss: 0.7490, data_loss: 0.7490\n",
      "step 1380 , total_loss: 0.7497, data_loss: 0.7497\n",
      "step 1400 , total_loss: 0.7966, data_loss: 0.7966\n",
      "step 1420 , total_loss: 0.7880, data_loss: 0.7880\n",
      "step 1440 , total_loss: 0.7650, data_loss: 0.7650\n",
      "step 1460 , total_loss: 0.7715, data_loss: 0.7715\n",
      "step 1480 , total_loss: 0.7507, data_loss: 0.7507\n",
      "step 1500 , total_loss: 0.8119, data_loss: 0.8119\n",
      "step 1520 , total_loss: 0.7477, data_loss: 0.7477\n",
      "step 1540 , total_loss: 0.7812, data_loss: 0.7812\n",
      "step 1560 , total_loss: 0.7559, data_loss: 0.7559\n",
      "step 1580 , total_loss: 0.7017, data_loss: 0.7017\n",
      "step 1600 , total_loss: 0.7156, data_loss: 0.7156\n",
      "step 1620 , total_loss: 0.7898, data_loss: 0.7898\n",
      "step 1640 , total_loss: 0.7603, data_loss: 0.7603\n",
      "step 1660 , total_loss: 0.7450, data_loss: 0.7450\n",
      "step 1680 , total_loss: 0.8121, data_loss: 0.8121\n",
      "step 1700 , total_loss: 0.8179, data_loss: 0.8179\n",
      "step 1720 , total_loss: 0.7518, data_loss: 0.7518\n",
      "step 1740 , total_loss: 0.7522, data_loss: 0.7522\n",
      "step 1760 , total_loss: 0.7414, data_loss: 0.7414\n",
      "step 1780 , total_loss: 0.8162, data_loss: 0.8162\n",
      "step 1800 , total_loss: 0.7398, data_loss: 0.7398\n",
      "step 1820 , total_loss: 0.8420, data_loss: 0.8420\n",
      "step 1840 , total_loss: 0.7760, data_loss: 0.7760\n",
      "step 1860 , total_loss: 0.7330, data_loss: 0.7330\n",
      "step 1880 , total_loss: 0.7533, data_loss: 0.7533\n",
      "step 1900 , total_loss: 0.7510, data_loss: 0.7510\n",
      "step 1920 , total_loss: 0.7567, data_loss: 0.7567\n",
      "step 1940 , total_loss: 0.7625, data_loss: 0.7625\n",
      "step 1960 , total_loss: 0.7623, data_loss: 0.7623\n",
      "step 1980 , total_loss: 0.7820, data_loss: 0.7820\n",
      "step 2000 , total_loss: 0.7104, data_loss: 0.7104\n",
      "step 2020 , total_loss: 0.7014, data_loss: 0.7014\n",
      "step 2040 , total_loss: 0.7933, data_loss: 0.7933\n",
      "step 2060 , total_loss: 0.7131, data_loss: 0.7131\n",
      "step 2080 , total_loss: 0.7367, data_loss: 0.7367\n",
      "step 2100 , total_loss: 0.7413, data_loss: 0.7413\n",
      "step 2120 , total_loss: 0.7410, data_loss: 0.7410\n",
      "step 2140 , total_loss: 0.7647, data_loss: 0.7647\n",
      "step 2160 , total_loss: 0.6964, data_loss: 0.6964\n",
      "step 2180 , total_loss: 0.7500, data_loss: 0.7500\n",
      "step 2200 , total_loss: 0.6837, data_loss: 0.6837\n",
      "step 2220 , total_loss: 0.6957, data_loss: 0.6957\n",
      "step 2240 , total_loss: 0.7570, data_loss: 0.7570\n",
      "step 2260 , total_loss: 0.7149, data_loss: 0.7149\n",
      "step 2280 , total_loss: 0.7780, data_loss: 0.7780\n",
      "step 2300 , total_loss: 0.6757, data_loss: 0.6757\n",
      "step 2320 , total_loss: 0.7450, data_loss: 0.7450\n",
      "step 2340 , total_loss: 0.7867, data_loss: 0.7867\n",
      "step 2360 , total_loss: 0.7385, data_loss: 0.7385\n",
      "step 2380 , total_loss: 0.8217, data_loss: 0.8217\n",
      "step 2400 , total_loss: 0.8084, data_loss: 0.8084\n",
      "step 2420 , total_loss: 0.8538, data_loss: 0.8538\n",
      "step 2440 , total_loss: 0.7595, data_loss: 0.7595\n",
      "step 2460 , total_loss: 0.8268, data_loss: 0.8268\n",
      "step 2480 , total_loss: 0.7708, data_loss: 0.7708\n",
      "step 2500 , total_loss: 0.7759, data_loss: 0.7759\n",
      "step 2520 , total_loss: 0.7742, data_loss: 0.7742\n",
      "step 2540 , total_loss: 0.7091, data_loss: 0.7091\n",
      "step 2560 , total_loss: 0.7441, data_loss: 0.7441\n",
      "step 2580 , total_loss: 0.7329, data_loss: 0.7329\n",
      "step 2600 , total_loss: 0.8333, data_loss: 0.8333\n",
      "step 2620 , total_loss: 0.7625, data_loss: 0.7625\n",
      "step 2640 , total_loss: 0.7415, data_loss: 0.7415\n",
      "step 2660 , total_loss: 0.6812, data_loss: 0.6812\n",
      "step 2680 , total_loss: 0.7305, data_loss: 0.7305\n",
      "step 2700 , total_loss: 0.7823, data_loss: 0.7823\n",
      "step 2720 , total_loss: 0.7494, data_loss: 0.7494\n",
      "step 2740 , total_loss: 0.7260, data_loss: 0.7260\n",
      "step 2760 , total_loss: 0.7773, data_loss: 0.7773\n",
      "step 2780 , total_loss: 0.6983, data_loss: 0.6983\n",
      "step 2800 , total_loss: 0.7507, data_loss: 0.7507\n",
      "step 2820 , total_loss: 0.6960, data_loss: 0.6960\n",
      "step 2840 , total_loss: 0.7182, data_loss: 0.7182\n",
      "step 2860 , total_loss: 0.7096, data_loss: 0.7096\n",
      "step 2880 , total_loss: 0.7474, data_loss: 0.7474\n",
      "step 2900 , total_loss: 0.7845, data_loss: 0.7845\n",
      "step 2920 , total_loss: 0.7815, data_loss: 0.7815\n",
      "step 2940 , total_loss: 0.7430, data_loss: 0.7430\n",
      "step 2960 , total_loss: 0.6877, data_loss: 0.6877\n",
      "step 2980 , total_loss: 0.6492, data_loss: 0.6492\n",
      "step 3000 , total_loss: 0.6503, data_loss: 0.6503\n",
      "step 3020 , total_loss: 0.7809, data_loss: 0.7809\n",
      "step 3040 , total_loss: 0.7620, data_loss: 0.7620\n",
      "step 3060 , total_loss: 0.7020, data_loss: 0.7020\n",
      "step 3080 , total_loss: 0.7523, data_loss: 0.7523\n",
      "step 3100 , total_loss: 0.6756, data_loss: 0.6756\n",
      "step 3120 , total_loss: 0.7044, data_loss: 0.7044\n",
      "step 3140 , total_loss: 0.7031, data_loss: 0.7031\n",
      "step 3160 , total_loss: 0.7573, data_loss: 0.7573\n",
      "step 3180 , total_loss: 0.7366, data_loss: 0.7366\n",
      "step 3200 , total_loss: 0.7614, data_loss: 0.7614\n",
      "step 3220 , total_loss: 0.7725, data_loss: 0.7725\n",
      "step 3240 , total_loss: 0.7980, data_loss: 0.7980\n",
      "step 3260 , total_loss: 0.7201, data_loss: 0.7201\n",
      "step 3280 , total_loss: 0.8174, data_loss: 0.8174\n",
      "step 3300 , total_loss: 0.7069, data_loss: 0.7069\n"
     ]
    },
    {
     "name": "stdout",
     "output_type": "stream",
     "text": [
      "step 3320 , total_loss: 0.7586, data_loss: 0.7586\n",
      "step 3340 , total_loss: 0.7108, data_loss: 0.7108\n",
      "step 3360 , total_loss: 0.6491, data_loss: 0.6491\n",
      "step 3380 , total_loss: 0.7160, data_loss: 0.7160\n",
      "step 3400 , total_loss: 0.7646, data_loss: 0.7646\n",
      "step 3420 , total_loss: 0.7031, data_loss: 0.7031\n",
      "step 3440 , total_loss: 0.7372, data_loss: 0.7372\n",
      "step 3460 , total_loss: 0.8225, data_loss: 0.8225\n",
      "step 3480 , total_loss: 0.7735, data_loss: 0.7735\n",
      "step 3500 , total_loss: 0.7244, data_loss: 0.7244\n",
      "step 3520 , total_loss: 0.8708, data_loss: 0.8708\n",
      "step 3540 , total_loss: 0.6734, data_loss: 0.6734\n",
      "step 3560 , total_loss: 0.7770, data_loss: 0.7770\n",
      "step 3580 , total_loss: 0.7313, data_loss: 0.7313\n",
      "step 3600 , total_loss: 0.7784, data_loss: 0.7784\n",
      "step 3620 , total_loss: 0.7959, data_loss: 0.7959\n",
      "step 3640 , total_loss: 0.7524, data_loss: 0.7524\n",
      "step 3660 , total_loss: 0.7861, data_loss: 0.7861\n",
      "step 3680 , total_loss: 0.6563, data_loss: 0.6563\n",
      "step 3700 , total_loss: 0.6980, data_loss: 0.6980\n",
      "step 3720 , total_loss: 0.7133, data_loss: 0.7133\n",
      "step 3740 , total_loss: 0.7190, data_loss: 0.7190\n",
      "step 3760 , total_loss: 0.6832, data_loss: 0.6832\n",
      "step 3780 , total_loss: 0.6960, data_loss: 0.6960\n",
      "step 3800 , total_loss: 0.7236, data_loss: 0.7236\n",
      "step 3820 , total_loss: 0.7954, data_loss: 0.7954\n",
      "step 3840 , total_loss: 0.6840, data_loss: 0.6840\n",
      "step 3860 , total_loss: 0.7363, data_loss: 0.7363\n",
      "step 3880 , total_loss: 0.8273, data_loss: 0.8273\n",
      "step 3900 , total_loss: 0.7683, data_loss: 0.7683\n",
      "step 3920 , total_loss: 0.7947, data_loss: 0.7947\n",
      "step 3940 , total_loss: 0.7244, data_loss: 0.7244\n",
      "step 3960 , total_loss: 0.8221, data_loss: 0.8221\n",
      "step 3980 , total_loss: 0.7485, data_loss: 0.7485\n",
      "step 4000 , total_loss: 0.6418, data_loss: 0.6418\n",
      "step 4020 , total_loss: 0.7862, data_loss: 0.7862\n",
      "step 4040 , total_loss: 0.7273, data_loss: 0.7273\n",
      "step 4060 , total_loss: 0.7406, data_loss: 0.7406\n",
      "step 4080 , total_loss: 0.7378, data_loss: 0.7378\n",
      "step 4100 , total_loss: 0.7650, data_loss: 0.7650\n",
      "step 4120 , total_loss: 0.7625, data_loss: 0.7625\n",
      "step 4140 , total_loss: 0.7746, data_loss: 0.7746\n",
      "step 4160 , total_loss: 0.7107, data_loss: 0.7107\n",
      "step 4180 , total_loss: 0.7049, data_loss: 0.7049\n",
      "step 4200 , total_loss: 0.6631, data_loss: 0.6631\n",
      "step 4220 , total_loss: 0.7806, data_loss: 0.7806\n",
      "step 4240 , total_loss: 0.6880, data_loss: 0.6880\n",
      "step 4260 , total_loss: 0.7786, data_loss: 0.7786\n",
      "step 4280 , total_loss: 0.7794, data_loss: 0.7794\n",
      "step 4300 , total_loss: 0.7502, data_loss: 0.7502\n",
      "step 4320 , total_loss: 0.7396, data_loss: 0.7396\n",
      "step 4340 , total_loss: 0.7617, data_loss: 0.7617\n",
      "step 4360 , total_loss: 0.7580, data_loss: 0.7580\n",
      "step 4380 , total_loss: 0.7050, data_loss: 0.7050\n",
      "step 4400 , total_loss: 0.6522, data_loss: 0.6522\n",
      "step 4420 , total_loss: 0.7080, data_loss: 0.7080\n",
      "step 4440 , total_loss: 0.7867, data_loss: 0.7867\n",
      "step 4460 , total_loss: 0.7450, data_loss: 0.7450\n",
      "step 4480 , total_loss: 0.7407, data_loss: 0.7407\n",
      "step 4500 , total_loss: 0.7326, data_loss: 0.7326\n",
      "step 4520 , total_loss: 0.7592, data_loss: 0.7592\n",
      "step 4540 , total_loss: 0.6929, data_loss: 0.6929\n",
      "step 4560 , total_loss: 0.7409, data_loss: 0.7409\n",
      "step 4580 , total_loss: 0.7926, data_loss: 0.7926\n",
      "step 4600 , total_loss: 0.7072, data_loss: 0.7072\n",
      "step 4620 , total_loss: 0.7286, data_loss: 0.7286\n",
      "step 4640 , total_loss: 0.7493, data_loss: 0.7493\n",
      "step 4660 , total_loss: 0.7622, data_loss: 0.7622\n",
      "step 4680 , total_loss: 0.7203, data_loss: 0.7203\n",
      "step 4700 , total_loss: 0.6403, data_loss: 0.6403\n",
      "step 4720 , total_loss: 0.7218, data_loss: 0.7218\n",
      "step 4740 , total_loss: 0.7211, data_loss: 0.7211\n",
      "step 4760 , total_loss: 0.6962, data_loss: 0.6962\n",
      "step 4780 , total_loss: 0.7884, data_loss: 0.7884\n",
      "step 4800 , total_loss: 0.7409, data_loss: 0.7409\n",
      "step 4820 , total_loss: 0.6950, data_loss: 0.6950\n",
      "step 4840 , total_loss: 0.8499, data_loss: 0.8499\n",
      "step 4860 , total_loss: 0.7042, data_loss: 0.7042\n",
      "step 4880 , total_loss: 0.7220, data_loss: 0.7220\n",
      "step 4900 , total_loss: 0.6779, data_loss: 0.6779\n",
      "step 4920 , total_loss: 0.7739, data_loss: 0.7739\n",
      "step 4940 , total_loss: 0.6871, data_loss: 0.6871\n",
      "step 4960 , total_loss: 0.7263, data_loss: 0.7263\n",
      "step 4980 , total_loss: 0.7366, data_loss: 0.7366\n",
      "step 5000 , total_loss: 0.7566, data_loss: 0.7566\n",
      "step 5020 , total_loss: 0.6913, data_loss: 0.6913\n",
      "step 5040 , total_loss: 0.7227, data_loss: 0.7227\n",
      "step 5060 , total_loss: 0.6523, data_loss: 0.6523\n",
      "step 5080 , total_loss: 0.7460, data_loss: 0.7460\n",
      "step 5100 , total_loss: 0.6804, data_loss: 0.6804\n",
      "step 5120 , total_loss: 0.7508, data_loss: 0.7508\n",
      "step 5140 , total_loss: 0.7711, data_loss: 0.7711\n",
      "step 5160 , total_loss: 0.7198, data_loss: 0.7198\n",
      "step 5180 , total_loss: 0.6808, data_loss: 0.6808\n",
      "step 5200 , total_loss: 0.8106, data_loss: 0.8106\n",
      "step 5220 , total_loss: 0.7262, data_loss: 0.7262\n",
      "step 5240 , total_loss: 0.7290, data_loss: 0.7290\n",
      "step 5260 , total_loss: 0.7060, data_loss: 0.7060\n",
      "step 5280 , total_loss: 0.7468, data_loss: 0.7468\n",
      "step 5300 , total_loss: 0.6585, data_loss: 0.6585\n",
      "step 5320 , total_loss: 0.7832, data_loss: 0.7832\n",
      "step 5340 , total_loss: 0.7522, data_loss: 0.7522\n",
      "step 5360 , total_loss: 0.7400, data_loss: 0.7400\n",
      "step 5380 , total_loss: 0.6656, data_loss: 0.6656\n",
      "step 5400 , total_loss: 0.7158, data_loss: 0.7158\n",
      "step 5420 , total_loss: 0.7448, data_loss: 0.7448\n",
      "step 5440 , total_loss: 0.6978, data_loss: 0.6978\n",
      "step 5460 , total_loss: 0.7599, data_loss: 0.7599\n",
      "step 5480 , total_loss: 0.7880, data_loss: 0.7880\n",
      "step 5500 , total_loss: 0.7528, data_loss: 0.7528\n",
      "step 5520 , total_loss: 0.8135, data_loss: 0.8135\n",
      "step 5540 , total_loss: 0.7328, data_loss: 0.7328\n",
      "step 5560 , total_loss: 0.7531, data_loss: 0.7531\n",
      "step 5580 , total_loss: 0.7315, data_loss: 0.7315\n",
      "step 5600 , total_loss: 0.7958, data_loss: 0.7958\n",
      "step 5620 , total_loss: 0.7499, data_loss: 0.7499\n",
      "step 5640 , total_loss: 0.6964, data_loss: 0.6964\n",
      "step 5660 , total_loss: 0.6993, data_loss: 0.6993\n",
      "step 5680 , total_loss: 0.7140, data_loss: 0.7140\n",
      "step 5700 , total_loss: 0.7668, data_loss: 0.7668\n",
      "step 5720 , total_loss: 0.7130, data_loss: 0.7130\n",
      "step 5740 , total_loss: 0.7597, data_loss: 0.7597\n",
      "step 5760 , total_loss: 0.7830, data_loss: 0.7830\n",
      "step 5780 , total_loss: 0.7516, data_loss: 0.7516\n",
      "step 5800 , total_loss: 0.6583, data_loss: 0.6583\n",
      "step 5820 , total_loss: 0.7286, data_loss: 0.7286\n",
      "step 5840 , total_loss: 0.6763, data_loss: 0.6763\n",
      "step 5860 , total_loss: 0.6646, data_loss: 0.6646\n",
      "step 5880 , total_loss: 0.6936, data_loss: 0.6936\n",
      "step 5900 , total_loss: 0.7376, data_loss: 0.7376\n",
      "step 5920 , total_loss: 0.6725, data_loss: 0.6725\n",
      "step 5940 , total_loss: 0.7756, data_loss: 0.7756\n",
      "step 5960 , total_loss: 0.7223, data_loss: 0.7223\n",
      "step 5980 , total_loss: 0.8002, data_loss: 0.8002\n",
      "step 6000 , total_loss: 0.7238, data_loss: 0.7238\n",
      "step 6020 , total_loss: 0.6782, data_loss: 0.6782\n",
      "step 6040 , total_loss: 0.7023, data_loss: 0.7023\n",
      "step 6060 , total_loss: 0.7508, data_loss: 0.7508\n",
      "step 6080 , total_loss: 0.7858, data_loss: 0.7858\n",
      "step 6100 , total_loss: 0.7523, data_loss: 0.7523\n",
      "step 6120 , total_loss: 0.7191, data_loss: 0.7191\n",
      "step 6140 , total_loss: 0.7814, data_loss: 0.7814\n",
      "step 6160 , total_loss: 0.6808, data_loss: 0.6808\n",
      "step 6180 , total_loss: 0.7592, data_loss: 0.7592\n",
      "step 6200 , total_loss: 0.6980, data_loss: 0.6980\n",
      "step 6220 , total_loss: 0.7182, data_loss: 0.7182\n",
      "step 6240 , total_loss: 0.7383, data_loss: 0.7383\n",
      "step 6260 , total_loss: 0.7137, data_loss: 0.7137\n",
      "step 6280 , total_loss: 0.7158, data_loss: 0.7158\n",
      "step 6300 , total_loss: 0.7645, data_loss: 0.7645\n",
      "step 6320 , total_loss: 0.7704, data_loss: 0.7704\n",
      "step 6340 , total_loss: 0.7858, data_loss: 0.7858\n",
      "step 6360 , total_loss: 0.6422, data_loss: 0.6422\n",
      "step 6380 , total_loss: 0.6653, data_loss: 0.6653\n",
      "step 6400 , total_loss: 0.7003, data_loss: 0.7003\n",
      "step 6420 , total_loss: 0.8134, data_loss: 0.8134\n",
      "step 6440 , total_loss: 0.7367, data_loss: 0.7367\n",
      "step 6460 , total_loss: 0.6785, data_loss: 0.6785\n",
      "step 6480 , total_loss: 0.6445, data_loss: 0.6445\n",
      "step 6500 , total_loss: 0.7088, data_loss: 0.7088\n",
      "step 6520 , total_loss: 0.7591, data_loss: 0.7591\n",
      "step 6540 , total_loss: 0.7328, data_loss: 0.7328\n",
      "step 6560 , total_loss: 0.7460, data_loss: 0.7460\n",
      "step 6580 , total_loss: 0.6689, data_loss: 0.6689\n"
     ]
    },
    {
     "name": "stdout",
     "output_type": "stream",
     "text": [
      "step 6600 , total_loss: 0.7850, data_loss: 0.7850\n",
      "step 6620 , total_loss: 0.7626, data_loss: 0.7626\n",
      "step 6640 , total_loss: 0.6997, data_loss: 0.6997\n",
      "step 6660 , total_loss: 0.7324, data_loss: 0.7324\n",
      "step 6680 , total_loss: 0.8156, data_loss: 0.8156\n",
      "step 6700 , total_loss: 0.7182, data_loss: 0.7182\n",
      "step 6720 , total_loss: 0.6777, data_loss: 0.6777\n",
      "step 6740 , total_loss: 0.6832, data_loss: 0.6832\n",
      "step 6760 , total_loss: 0.8385, data_loss: 0.8385\n",
      "step 6780 , total_loss: 0.7056, data_loss: 0.7056\n",
      "step 6800 , total_loss: 0.7103, data_loss: 0.7103\n",
      "step 6820 , total_loss: 0.7230, data_loss: 0.7230\n",
      "step 6840 , total_loss: 0.7761, data_loss: 0.7761\n",
      "step 6860 , total_loss: 0.6922, data_loss: 0.6922\n",
      "step 6880 , total_loss: 0.7190, data_loss: 0.7190\n",
      "step 6900 , total_loss: 0.7451, data_loss: 0.7451\n",
      "step 6920 , total_loss: 0.7624, data_loss: 0.7624\n",
      "step 6940 , total_loss: 0.7315, data_loss: 0.7315\n",
      "step 6960 , total_loss: 0.7272, data_loss: 0.7272\n",
      "step 6980 , total_loss: 0.7634, data_loss: 0.7634\n",
      "step 7000 , total_loss: 0.6465, data_loss: 0.6465\n",
      "step 7020 , total_loss: 0.7083, data_loss: 0.7083\n",
      "step 7040 , total_loss: 0.7408, data_loss: 0.7408\n",
      "step 7060 , total_loss: 0.6555, data_loss: 0.6555\n",
      "step 7080 , total_loss: 0.7171, data_loss: 0.7171\n",
      "step 7100 , total_loss: 0.7442, data_loss: 0.7442\n",
      "step 7120 , total_loss: 0.7371, data_loss: 0.7371\n",
      "step 7140 , total_loss: 0.7476, data_loss: 0.7476\n",
      "step 7160 , total_loss: 0.7035, data_loss: 0.7035\n",
      "step 7180 , total_loss: 0.7355, data_loss: 0.7355\n",
      "step 7200 , total_loss: 0.7107, data_loss: 0.7107\n",
      "step 7220 , total_loss: 0.6987, data_loss: 0.6987\n",
      "step 7240 , total_loss: 0.6920, data_loss: 0.6920\n",
      "step 7260 , total_loss: 0.7403, data_loss: 0.7403\n",
      "step 7280 , total_loss: 0.7107, data_loss: 0.7107\n",
      "step 7300 , total_loss: 0.6969, data_loss: 0.6969\n",
      "step 7320 , total_loss: 0.6937, data_loss: 0.6937\n",
      "step 7340 , total_loss: 0.7719, data_loss: 0.7719\n",
      "step 7360 , total_loss: 0.6841, data_loss: 0.6841\n",
      "step 7380 , total_loss: 0.7798, data_loss: 0.7798\n",
      "step 7400 , total_loss: 0.7574, data_loss: 0.7574\n",
      "step 7420 , total_loss: 0.6732, data_loss: 0.6732\n",
      "step 7440 , total_loss: 0.7288, data_loss: 0.7288\n",
      "step 7460 , total_loss: 0.7940, data_loss: 0.7940\n",
      "step 7480 , total_loss: 0.8007, data_loss: 0.8007\n",
      "step 7500 , total_loss: 0.6765, data_loss: 0.6765\n",
      "step 7520 , total_loss: 0.6614, data_loss: 0.6614\n",
      "step 7540 , total_loss: 0.7167, data_loss: 0.7167\n",
      "step 7560 , total_loss: 0.7394, data_loss: 0.7394\n",
      "step 7580 , total_loss: 0.6660, data_loss: 0.6660\n",
      "step 7600 , total_loss: 0.6685, data_loss: 0.6685\n",
      "step 7620 , total_loss: 0.7606, data_loss: 0.7606\n",
      "step 7640 , total_loss: 0.6800, data_loss: 0.6800\n",
      "step 7660 , total_loss: 0.6893, data_loss: 0.6893\n",
      "step 7680 , total_loss: 0.7156, data_loss: 0.7156\n",
      "step 7700 , total_loss: 0.7220, data_loss: 0.7220\n",
      "step 7720 , total_loss: 0.6687, data_loss: 0.6687\n",
      "step 7740 , total_loss: 0.8260, data_loss: 0.8260\n",
      "step 7760 , total_loss: 0.6794, data_loss: 0.6794\n",
      "step 7780 , total_loss: 0.6686, data_loss: 0.6686\n",
      "step 7800 , total_loss: 0.7434, data_loss: 0.7434\n",
      "step 7820 , total_loss: 0.7164, data_loss: 0.7164\n",
      "step 7840 , total_loss: 0.7925, data_loss: 0.7925\n",
      "step 7860 , total_loss: 0.7363, data_loss: 0.7363\n",
      "step 7880 , total_loss: 0.7467, data_loss: 0.7467\n",
      "step 7900 , total_loss: 0.7216, data_loss: 0.7216\n",
      "step 7920 , total_loss: 0.7037, data_loss: 0.7037\n",
      "step 7940 , total_loss: 0.7286, data_loss: 0.7286\n",
      "step 7960 , total_loss: 0.7209, data_loss: 0.7209\n",
      "step 7980 , total_loss: 0.7953, data_loss: 0.7953\n",
      "step 8000 , total_loss: 0.8103, data_loss: 0.8103\n",
      "step 8020 , total_loss: 0.7634, data_loss: 0.7634\n",
      "step 8040 , total_loss: 0.6399, data_loss: 0.6399\n",
      "step 8060 , total_loss: 0.6555, data_loss: 0.6555\n",
      "step 8080 , total_loss: 0.7394, data_loss: 0.7394\n",
      "step 8100 , total_loss: 0.6958, data_loss: 0.6958\n",
      "step 8120 , total_loss: 0.8065, data_loss: 0.8065\n",
      "step 8140 , total_loss: 0.7124, data_loss: 0.7124\n",
      "step 8160 , total_loss: 0.7681, data_loss: 0.7681\n",
      "step 8180 , total_loss: 0.7273, data_loss: 0.7273\n",
      "step 8200 , total_loss: 0.7699, data_loss: 0.7699\n",
      "step 8220 , total_loss: 0.7010, data_loss: 0.7010\n",
      "step 8240 , total_loss: 0.7029, data_loss: 0.7029\n",
      "step 8260 , total_loss: 0.7202, data_loss: 0.7202\n",
      "step 8280 , total_loss: 0.7413, data_loss: 0.7413\n",
      "step 8300 , total_loss: 0.7190, data_loss: 0.7190\n",
      "step 8320 , total_loss: 0.8014, data_loss: 0.8014\n",
      "step 8340 , total_loss: 0.7342, data_loss: 0.7342\n",
      "step 8360 , total_loss: 0.7129, data_loss: 0.7129\n",
      "step 8380 , total_loss: 0.6892, data_loss: 0.6892\n",
      "step 8400 , total_loss: 0.6574, data_loss: 0.6574\n",
      "step 8420 , total_loss: 0.7998, data_loss: 0.7998\n",
      "step 8440 , total_loss: 0.6414, data_loss: 0.6414\n",
      "step 8460 , total_loss: 0.7632, data_loss: 0.7632\n",
      "step 8480 , total_loss: 0.7441, data_loss: 0.7441\n",
      "step 8500 , total_loss: 0.7554, data_loss: 0.7554\n",
      "step 8520 , total_loss: 0.6951, data_loss: 0.6951\n",
      "step 8540 , total_loss: 0.6716, data_loss: 0.6716\n",
      "step 8560 , total_loss: 0.6605, data_loss: 0.6605\n",
      "step 8580 , total_loss: 0.7924, data_loss: 0.7924\n",
      "step 8600 , total_loss: 0.7553, data_loss: 0.7553\n",
      "step 8620 , total_loss: 0.6786, data_loss: 0.6786\n",
      "step 8640 , total_loss: 0.7439, data_loss: 0.7439\n",
      "step 8660 , total_loss: 0.7772, data_loss: 0.7772\n",
      "step 8680 , total_loss: 0.6914, data_loss: 0.6914\n",
      "step 8700 , total_loss: 0.7363, data_loss: 0.7363\n",
      "step 8720 , total_loss: 0.8019, data_loss: 0.8019\n",
      "step 8740 , total_loss: 0.7278, data_loss: 0.7278\n",
      "step 8760 , total_loss: 0.6764, data_loss: 0.6764\n",
      "step 8780 , total_loss: 0.7403, data_loss: 0.7403\n",
      "step 8800 , total_loss: 0.7827, data_loss: 0.7827\n",
      "step 8820 , total_loss: 0.6544, data_loss: 0.6544\n",
      "step 8840 , total_loss: 0.7069, data_loss: 0.7069\n",
      "step 8860 , total_loss: 0.7086, data_loss: 0.7086\n",
      "step 8880 , total_loss: 0.7761, data_loss: 0.7761\n",
      "step 8900 , total_loss: 0.7509, data_loss: 0.7509\n",
      "step 8920 , total_loss: 0.7451, data_loss: 0.7451\n",
      "step 8940 , total_loss: 0.6436, data_loss: 0.6436\n",
      "step 8960 , total_loss: 0.7037, data_loss: 0.7037\n",
      "step 8980 , total_loss: 0.7538, data_loss: 0.7538\n",
      "step 9000 , total_loss: 0.7536, data_loss: 0.7536\n",
      "step 9020 , total_loss: 0.7682, data_loss: 0.7682\n",
      "step 9040 , total_loss: 0.7102, data_loss: 0.7102\n",
      "step 9060 , total_loss: 0.7061, data_loss: 0.7061\n",
      "step 9080 , total_loss: 0.7290, data_loss: 0.7290\n",
      "step 9100 , total_loss: 0.8003, data_loss: 0.8003\n",
      "step 9120 , total_loss: 0.7802, data_loss: 0.7802\n",
      "step 9140 , total_loss: 0.7233, data_loss: 0.7233\n",
      "step 9160 , total_loss: 0.7272, data_loss: 0.7272\n",
      "step 9180 , total_loss: 0.7317, data_loss: 0.7317\n",
      "step 9200 , total_loss: 0.7228, data_loss: 0.7228\n",
      "step 9220 , total_loss: 0.6365, data_loss: 0.6365\n",
      "step 9240 , total_loss: 0.7548, data_loss: 0.7548\n",
      "step 9260 , total_loss: 0.6668, data_loss: 0.6668\n",
      "step 9280 , total_loss: 0.7535, data_loss: 0.7535\n",
      "step 9300 , total_loss: 0.6964, data_loss: 0.6964\n",
      "step 9320 , total_loss: 0.7134, data_loss: 0.7134\n",
      "step 9340 , total_loss: 0.6938, data_loss: 0.6938\n",
      "step 9360 , total_loss: 0.6488, data_loss: 0.6488\n",
      "step 9380 , total_loss: 0.6368, data_loss: 0.6368\n",
      "step 9400 , total_loss: 0.7025, data_loss: 0.7025\n",
      "step 9420 , total_loss: 0.7199, data_loss: 0.7199\n",
      "step 9440 , total_loss: 0.7976, data_loss: 0.7976\n",
      "step 9460 , total_loss: 0.8081, data_loss: 0.8081\n",
      "step 9480 , total_loss: 0.7389, data_loss: 0.7389\n",
      "step 9500 , total_loss: 0.7449, data_loss: 0.7449\n",
      "step 9520 , total_loss: 0.7063, data_loss: 0.7063\n",
      "step 9540 , total_loss: 0.6870, data_loss: 0.6870\n",
      "step 9560 , total_loss: 0.7192, data_loss: 0.7192\n",
      "step 9580 , total_loss: 0.7825, data_loss: 0.7825\n",
      "step 9600 , total_loss: 0.6745, data_loss: 0.6745\n",
      "step 9620 , total_loss: 0.6599, data_loss: 0.6599\n",
      "step 9640 , total_loss: 0.7407, data_loss: 0.7407\n",
      "step 9660 , total_loss: 0.7230, data_loss: 0.7230\n",
      "step 9680 , total_loss: 0.7068, data_loss: 0.7068\n",
      "step 9700 , total_loss: 0.7076, data_loss: 0.7076\n",
      "step 9720 , total_loss: 0.8015, data_loss: 0.8015\n",
      "step 9740 , total_loss: 0.7173, data_loss: 0.7173\n",
      "step 9760 , total_loss: 0.6346, data_loss: 0.6346\n",
      "step 9780 , total_loss: 0.7093, data_loss: 0.7093\n",
      "step 9800 , total_loss: 0.6970, data_loss: 0.6970\n",
      "step 9820 , total_loss: 0.7452, data_loss: 0.7452\n",
      "step 9840 , total_loss: 0.6913, data_loss: 0.6913\n",
      "step 9860 , total_loss: 0.7127, data_loss: 0.7127\n"
     ]
    },
    {
     "name": "stdout",
     "output_type": "stream",
     "text": [
      "step 9880 , total_loss: 0.7114, data_loss: 0.7114\n",
      "step 9900 , total_loss: 0.6920, data_loss: 0.6920\n",
      "step 9920 , total_loss: 0.7287, data_loss: 0.7287\n",
      "step 9940 , total_loss: 0.6799, data_loss: 0.6799\n",
      "step 9960 , total_loss: 0.7323, data_loss: 0.7323\n",
      "step 9980 , total_loss: 0.7282, data_loss: 0.7282\n",
      "step 10000 , total_loss: 0.8101, data_loss: 0.8101\n",
      "step 10020 , total_loss: 0.7144, data_loss: 0.7144\n",
      "step 10040 , total_loss: 0.7321, data_loss: 0.7321\n",
      "step 10060 , total_loss: 0.6935, data_loss: 0.6935\n",
      "step 10080 , total_loss: 0.7237, data_loss: 0.7237\n",
      "step 10100 , total_loss: 0.7492, data_loss: 0.7492\n",
      "step 10120 , total_loss: 0.6952, data_loss: 0.6952\n",
      "step 10140 , total_loss: 0.8411, data_loss: 0.8411\n",
      "step 10160 , total_loss: 0.7163, data_loss: 0.7163\n",
      "step 10180 , total_loss: 0.7161, data_loss: 0.7161\n",
      "step 10200 , total_loss: 0.7764, data_loss: 0.7764\n",
      "step 10220 , total_loss: 0.7117, data_loss: 0.7117\n",
      "step 10240 , total_loss: 0.7090, data_loss: 0.7090\n",
      "step 10260 , total_loss: 0.7692, data_loss: 0.7692\n",
      "step 10280 , total_loss: 0.6808, data_loss: 0.6808\n",
      "step 10300 , total_loss: 0.5889, data_loss: 0.5889\n",
      "step 10320 , total_loss: 0.7358, data_loss: 0.7358\n",
      "step 10340 , total_loss: 0.7972, data_loss: 0.7972\n",
      "step 10360 , total_loss: 0.6879, data_loss: 0.6879\n",
      "step 10380 , total_loss: 0.7286, data_loss: 0.7286\n",
      "step 10400 , total_loss: 0.8212, data_loss: 0.8212\n",
      "step 10420 , total_loss: 0.7258, data_loss: 0.7258\n",
      "step 10440 , total_loss: 0.6953, data_loss: 0.6953\n",
      "step 10460 , total_loss: 0.7749, data_loss: 0.7749\n",
      "step 10480 , total_loss: 0.6820, data_loss: 0.6820\n",
      "step 10500 , total_loss: 0.7184, data_loss: 0.7184\n",
      "step 10520 , total_loss: 0.6696, data_loss: 0.6696\n",
      "step 10540 , total_loss: 0.6316, data_loss: 0.6316\n",
      "step 10560 , total_loss: 0.7326, data_loss: 0.7326\n",
      "step 10580 , total_loss: 0.6652, data_loss: 0.6652\n",
      "step 10600 , total_loss: 0.7682, data_loss: 0.7682\n",
      "step 10620 , total_loss: 0.7581, data_loss: 0.7581\n",
      "step 10640 , total_loss: 0.7462, data_loss: 0.7462\n",
      "step 10660 , total_loss: 0.7238, data_loss: 0.7238\n",
      "step 10680 , total_loss: 0.7736, data_loss: 0.7736\n",
      "step 10700 , total_loss: 0.7707, data_loss: 0.7707\n",
      "step 10720 , total_loss: 0.6936, data_loss: 0.6936\n",
      "step 10740 , total_loss: 0.6324, data_loss: 0.6324\n",
      "step 10760 , total_loss: 0.7125, data_loss: 0.7125\n",
      "step 10780 , total_loss: 0.7287, data_loss: 0.7287\n",
      "step 10800 , total_loss: 0.7027, data_loss: 0.7027\n",
      "step 10820 , total_loss: 0.7412, data_loss: 0.7412\n",
      "step 10840 , total_loss: 0.7639, data_loss: 0.7639\n",
      "step 10860 , total_loss: 0.7435, data_loss: 0.7435\n",
      "step 10880 , total_loss: 0.7168, data_loss: 0.7168\n",
      "step 10900 , total_loss: 0.7190, data_loss: 0.7190\n",
      "step 10920 , total_loss: 0.7432, data_loss: 0.7432\n",
      "step 10940 , total_loss: 0.7276, data_loss: 0.7276\n",
      "step 10960 , total_loss: 0.6893, data_loss: 0.6893\n",
      "step 10980 , total_loss: 0.8221, data_loss: 0.8221\n",
      "step 11000 , total_loss: 0.6393, data_loss: 0.6393\n",
      "step 11020 , total_loss: 0.6636, data_loss: 0.6636\n",
      "step 11040 , total_loss: 0.7332, data_loss: 0.7332\n",
      "step 11060 , total_loss: 0.6965, data_loss: 0.6965\n",
      "step 11080 , total_loss: 0.7646, data_loss: 0.7646\n",
      "step 11100 , total_loss: 0.6919, data_loss: 0.6919\n",
      "step 11120 , total_loss: 0.6441, data_loss: 0.6441\n",
      "step 11140 , total_loss: 0.6904, data_loss: 0.6904\n",
      "step 11160 , total_loss: 0.7001, data_loss: 0.7001\n",
      "step 11180 , total_loss: 0.7312, data_loss: 0.7312\n",
      "step 11200 , total_loss: 0.6888, data_loss: 0.6888\n",
      "step 11220 , total_loss: 0.8076, data_loss: 0.8076\n",
      "step 11240 , total_loss: 0.7262, data_loss: 0.7262\n",
      "step 11260 , total_loss: 0.8320, data_loss: 0.8320\n",
      "step 11280 , total_loss: 0.8050, data_loss: 0.8050\n",
      "step 11300 , total_loss: 0.7669, data_loss: 0.7669\n",
      "step 11320 , total_loss: 0.7334, data_loss: 0.7334\n",
      "step 11340 , total_loss: 0.7416, data_loss: 0.7416\n",
      "step 11360 , total_loss: 0.7314, data_loss: 0.7314\n",
      "step 11380 , total_loss: 0.6719, data_loss: 0.6719\n",
      "step 11400 , total_loss: 0.7064, data_loss: 0.7064\n",
      "step 11420 , total_loss: 0.8122, data_loss: 0.8122\n",
      "step 11440 , total_loss: 0.7623, data_loss: 0.7623\n",
      "step 11460 , total_loss: 0.6982, data_loss: 0.6982\n",
      "step 11480 , total_loss: 0.7112, data_loss: 0.7112\n",
      "step 11500 , total_loss: 0.6814, data_loss: 0.6814\n",
      "step 11520 , total_loss: 0.6827, data_loss: 0.6827\n",
      "step 11540 , total_loss: 0.6777, data_loss: 0.6777\n",
      "step 11560 , total_loss: 0.7251, data_loss: 0.7251\n",
      "step 11580 , total_loss: 0.7703, data_loss: 0.7703\n",
      "step 11600 , total_loss: 0.7465, data_loss: 0.7465\n",
      "step 11620 , total_loss: 0.7498, data_loss: 0.7498\n",
      "step 11640 , total_loss: 0.6722, data_loss: 0.6722\n",
      "step 11660 , total_loss: 0.6698, data_loss: 0.6698\n",
      "step 11680 , total_loss: 0.8214, data_loss: 0.8214\n",
      "step 11700 , total_loss: 0.7564, data_loss: 0.7564\n",
      "step 11720 , total_loss: 0.7305, data_loss: 0.7305\n",
      "step 11740 , total_loss: 0.7817, data_loss: 0.7817\n",
      "step 11760 , total_loss: 0.6966, data_loss: 0.6966\n",
      "step 11780 , total_loss: 0.7588, data_loss: 0.7588\n",
      "step 11800 , total_loss: 0.7585, data_loss: 0.7585\n",
      "step 11820 , total_loss: 0.7170, data_loss: 0.7170\n",
      "step 11840 , total_loss: 0.7360, data_loss: 0.7360\n",
      "step 11860 , total_loss: 0.6904, data_loss: 0.6904\n",
      "step 11880 , total_loss: 0.7332, data_loss: 0.7332\n",
      "step 11900 , total_loss: 0.7379, data_loss: 0.7379\n",
      "step 11920 , total_loss: 0.6738, data_loss: 0.6738\n",
      "step 11940 , total_loss: 0.7319, data_loss: 0.7319\n",
      "step 11960 , total_loss: 0.6808, data_loss: 0.6808\n",
      "step 11980 , total_loss: 0.6965, data_loss: 0.6965\n",
      "step 12000 , total_loss: 0.7426, data_loss: 0.7426\n",
      "step 12020 , total_loss: 0.7275, data_loss: 0.7275\n",
      "step 12040 , total_loss: 0.7504, data_loss: 0.7504\n",
      "step 12060 , total_loss: 0.6875, data_loss: 0.6875\n",
      "step 12080 , total_loss: 0.7405, data_loss: 0.7405\n",
      "step 12100 , total_loss: 0.6885, data_loss: 0.6885\n",
      "step 12120 , total_loss: 0.7452, data_loss: 0.7452\n",
      "step 12140 , total_loss: 0.7258, data_loss: 0.7258\n",
      "step 12160 , total_loss: 0.6857, data_loss: 0.6857\n",
      "step 12180 , total_loss: 0.7651, data_loss: 0.7651\n",
      "step 12200 , total_loss: 0.7015, data_loss: 0.7015\n",
      "step 12220 , total_loss: 0.7042, data_loss: 0.7042\n",
      "step 12240 , total_loss: 0.7424, data_loss: 0.7424\n",
      "step 12260 , total_loss: 0.7254, data_loss: 0.7254\n",
      "step 12280 , total_loss: 0.7304, data_loss: 0.7304\n",
      "step 12300 , total_loss: 0.6462, data_loss: 0.6462\n",
      "step 12320 , total_loss: 0.6745, data_loss: 0.6745\n",
      "step 12340 , total_loss: 0.7334, data_loss: 0.7334\n",
      "step 12360 , total_loss: 0.6948, data_loss: 0.6948\n",
      "step 12380 , total_loss: 0.7611, data_loss: 0.7611\n",
      "step 12400 , total_loss: 0.7011, data_loss: 0.7011\n",
      "step 12420 , total_loss: 0.7810, data_loss: 0.7810\n",
      "step 12440 , total_loss: 0.6997, data_loss: 0.6997\n",
      "step 12460 , total_loss: 0.6901, data_loss: 0.6901\n",
      "step 12480 , total_loss: 0.7049, data_loss: 0.7049\n",
      "step 12500 , total_loss: 0.6780, data_loss: 0.6780\n",
      "step 12520 , total_loss: 0.6701, data_loss: 0.6701\n",
      "step 12540 , total_loss: 0.7324, data_loss: 0.7324\n",
      "step 12560 , total_loss: 0.6914, data_loss: 0.6914\n",
      "step 12580 , total_loss: 0.7441, data_loss: 0.7441\n",
      "step 12600 , total_loss: 0.7551, data_loss: 0.7551\n",
      "step 12620 , total_loss: 0.7604, data_loss: 0.7604\n",
      "step 12640 , total_loss: 0.8802, data_loss: 0.8802\n",
      "step 12660 , total_loss: 0.7578, data_loss: 0.7578\n",
      "step 12680 , total_loss: 0.6639, data_loss: 0.6639\n",
      "step 12700 , total_loss: 0.7254, data_loss: 0.7254\n",
      "step 12720 , total_loss: 0.6791, data_loss: 0.6791\n",
      "step 12740 , total_loss: 0.7312, data_loss: 0.7312\n",
      "step 12760 , total_loss: 0.7177, data_loss: 0.7177\n",
      "step 12780 , total_loss: 0.7075, data_loss: 0.7075\n",
      "step 12800 , total_loss: 0.7922, data_loss: 0.7922\n",
      "step 12820 , total_loss: 0.7867, data_loss: 0.7867\n",
      "step 12840 , total_loss: 0.7385, data_loss: 0.7385\n",
      "step 12860 , total_loss: 0.7126, data_loss: 0.7126\n",
      "step 12880 , total_loss: 0.7680, data_loss: 0.7680\n",
      "step 12900 , total_loss: 0.6835, data_loss: 0.6835\n",
      "step 12920 , total_loss: 0.8057, data_loss: 0.8057\n",
      "step 12940 , total_loss: 0.7487, data_loss: 0.7487\n",
      "step 12960 , total_loss: 0.6994, data_loss: 0.6994\n",
      "step 12980 , total_loss: 0.7740, data_loss: 0.7740\n",
      "step 13000 , total_loss: 0.6996, data_loss: 0.6996\n",
      "step 13020 , total_loss: 0.7416, data_loss: 0.7416\n",
      "step 13040 , total_loss: 0.7097, data_loss: 0.7097\n",
      "step 13060 , total_loss: 0.7445, data_loss: 0.7445\n",
      "step 13080 , total_loss: 0.8110, data_loss: 0.8110\n"
     ]
    },
    {
     "name": "stdout",
     "output_type": "stream",
     "text": [
      "step 13100 , total_loss: 0.7461, data_loss: 0.7461\n",
      "step 13120 , total_loss: 0.7410, data_loss: 0.7410\n",
      "step 13140 , total_loss: 0.6236, data_loss: 0.6236\n",
      "step 13160 , total_loss: 0.7281, data_loss: 0.7281\n",
      "step 13180 , total_loss: 0.6747, data_loss: 0.6747\n",
      "step 13200 , total_loss: 0.7718, data_loss: 0.7718\n",
      "step 13220 , total_loss: 0.6881, data_loss: 0.6881\n",
      "step 13240 , total_loss: 0.6920, data_loss: 0.6920\n",
      "step 13260 , total_loss: 0.6693, data_loss: 0.6693\n",
      "step 13280 , total_loss: 0.7153, data_loss: 0.7153\n",
      "step 13300 , total_loss: 0.7240, data_loss: 0.7240\n",
      "step 13320 , total_loss: 0.6310, data_loss: 0.6310\n",
      "step 13340 , total_loss: 0.7137, data_loss: 0.7137\n",
      "step 13360 , total_loss: 0.7379, data_loss: 0.7379\n",
      "step 13380 , total_loss: 0.7625, data_loss: 0.7625\n",
      "step 13400 , total_loss: 0.7550, data_loss: 0.7550\n",
      "step 13420 , total_loss: 0.7068, data_loss: 0.7068\n",
      "step 13440 , total_loss: 0.6856, data_loss: 0.6856\n",
      "step 13460 , total_loss: 0.7860, data_loss: 0.7860\n",
      "step 13480 , total_loss: 0.6690, data_loss: 0.6690\n",
      "step 13500 , total_loss: 0.6462, data_loss: 0.6462\n",
      "step 13520 , total_loss: 0.6836, data_loss: 0.6836\n",
      "step 13540 , total_loss: 0.6563, data_loss: 0.6563\n",
      "step 13560 , total_loss: 0.7307, data_loss: 0.7307\n",
      "step 13580 , total_loss: 0.7127, data_loss: 0.7127\n",
      "step 13600 , total_loss: 0.7705, data_loss: 0.7705\n",
      "step 13620 , total_loss: 0.7498, data_loss: 0.7498\n",
      "step 13640 , total_loss: 0.7464, data_loss: 0.7464\n",
      "step 13660 , total_loss: 0.7116, data_loss: 0.7116\n",
      "step 13680 , total_loss: 0.6630, data_loss: 0.6630\n",
      "step 13700 , total_loss: 0.6928, data_loss: 0.6928\n",
      "step 13720 , total_loss: 0.7868, data_loss: 0.7868\n",
      "step 13740 , total_loss: 0.7751, data_loss: 0.7751\n",
      "step 13760 , total_loss: 0.7131, data_loss: 0.7131\n",
      "step 13780 , total_loss: 0.7698, data_loss: 0.7698\n",
      "step 13800 , total_loss: 0.7855, data_loss: 0.7855\n",
      "step 13820 , total_loss: 0.7467, data_loss: 0.7467\n",
      "step 13840 , total_loss: 0.7533, data_loss: 0.7533\n",
      "step 13860 , total_loss: 0.7636, data_loss: 0.7636\n",
      "step 13880 , total_loss: 0.6830, data_loss: 0.6830\n",
      "step 13900 , total_loss: 0.7106, data_loss: 0.7106\n",
      "step 13920 , total_loss: 0.7446, data_loss: 0.7446\n",
      "step 13940 , total_loss: 0.6887, data_loss: 0.6887\n",
      "step 13960 , total_loss: 0.7259, data_loss: 0.7259\n",
      "step 13980 , total_loss: 0.7668, data_loss: 0.7668\n",
      "step 14000 , total_loss: 0.7097, data_loss: 0.7097\n",
      "step 14020 , total_loss: 0.7912, data_loss: 0.7912\n",
      "step 14040 , total_loss: 0.7457, data_loss: 0.7457\n",
      "step 14060 , total_loss: 0.6637, data_loss: 0.6637\n",
      "step 14080 , total_loss: 0.7349, data_loss: 0.7349\n",
      "step 14100 , total_loss: 0.7087, data_loss: 0.7087\n",
      "step 14120 , total_loss: 0.7943, data_loss: 0.7943\n",
      "step 14140 , total_loss: 0.7262, data_loss: 0.7262\n",
      "step 14160 , total_loss: 0.7585, data_loss: 0.7585\n",
      "step 14180 , total_loss: 0.6833, data_loss: 0.6833\n",
      "step 14200 , total_loss: 0.7889, data_loss: 0.7889\n",
      "step 14220 , total_loss: 0.7150, data_loss: 0.7150\n",
      "step 14240 , total_loss: 0.6958, data_loss: 0.6958\n",
      "step 14260 , total_loss: 0.6938, data_loss: 0.6938\n",
      "step 14280 , total_loss: 0.6750, data_loss: 0.6750\n",
      "step 14300 , total_loss: 0.7036, data_loss: 0.7036\n",
      "step 14320 , total_loss: 0.7280, data_loss: 0.7280\n",
      "step 14340 , total_loss: 0.7236, data_loss: 0.7236\n",
      "step 14360 , total_loss: 0.7384, data_loss: 0.7384\n",
      "step 14380 , total_loss: 0.7300, data_loss: 0.7300\n",
      "step 14400 , total_loss: 0.7194, data_loss: 0.7194\n",
      "step 14420 , total_loss: 0.7581, data_loss: 0.7581\n",
      "step 14440 , total_loss: 0.6979, data_loss: 0.6979\n",
      "step 14460 , total_loss: 0.7822, data_loss: 0.7822\n",
      "step 14480 , total_loss: 0.7400, data_loss: 0.7400\n",
      "step 14500 , total_loss: 0.7548, data_loss: 0.7548\n",
      "step 14520 , total_loss: 0.7430, data_loss: 0.7430\n",
      "step 14540 , total_loss: 0.7415, data_loss: 0.7415\n",
      "step 14560 , total_loss: 0.7348, data_loss: 0.7348\n",
      "step 14580 , total_loss: 0.7428, data_loss: 0.7428\n",
      "step 14600 , total_loss: 0.6845, data_loss: 0.6845\n",
      "step 14620 , total_loss: 0.6613, data_loss: 0.6613\n",
      "step 14640 , total_loss: 0.7746, data_loss: 0.7746\n",
      "step 14660 , total_loss: 0.6982, data_loss: 0.6982\n",
      "step 14680 , total_loss: 0.7270, data_loss: 0.7270\n",
      "step 14700 , total_loss: 0.7093, data_loss: 0.7093\n",
      "step 14720 , total_loss: 0.7410, data_loss: 0.7410\n",
      "step 14740 , total_loss: 0.6812, data_loss: 0.6812\n",
      "step 14760 , total_loss: 0.6707, data_loss: 0.6707\n",
      "step 14780 , total_loss: 0.7548, data_loss: 0.7548\n",
      "step 14800 , total_loss: 0.7280, data_loss: 0.7280\n",
      "step 14820 , total_loss: 0.7101, data_loss: 0.7101\n",
      "step 14840 , total_loss: 0.7852, data_loss: 0.7852\n",
      "step 14860 , total_loss: 0.7489, data_loss: 0.7489\n",
      "step 14880 , total_loss: 0.7124, data_loss: 0.7124\n",
      "step 14900 , total_loss: 0.7416, data_loss: 0.7416\n",
      "step 14920 , total_loss: 0.6645, data_loss: 0.6645\n",
      "step 14940 , total_loss: 0.7843, data_loss: 0.7843\n",
      "step 14960 , total_loss: 0.7660, data_loss: 0.7660\n",
      "step 14980 , total_loss: 0.7261, data_loss: 0.7261\n",
      "step 15000 , total_loss: 0.7803, data_loss: 0.7803\n",
      "step 15020 , total_loss: 0.7263, data_loss: 0.7263\n",
      "step 15040 , total_loss: 0.7002, data_loss: 0.7002\n",
      "step 15060 , total_loss: 0.6965, data_loss: 0.6965\n",
      "step 15080 , total_loss: 0.7432, data_loss: 0.7432\n",
      "step 15100 , total_loss: 0.7135, data_loss: 0.7135\n",
      "step 15120 , total_loss: 0.7156, data_loss: 0.7156\n",
      "step 15140 , total_loss: 0.7087, data_loss: 0.7087\n",
      "step 15160 , total_loss: 0.6424, data_loss: 0.6424\n",
      "step 15180 , total_loss: 0.7250, data_loss: 0.7250\n",
      "step 15200 , total_loss: 0.7860, data_loss: 0.7860\n",
      "step 15220 , total_loss: 0.7044, data_loss: 0.7044\n",
      "step 15240 , total_loss: 0.6913, data_loss: 0.6913\n",
      "step 15260 , total_loss: 0.7525, data_loss: 0.7525\n",
      "step 15280 , total_loss: 0.6933, data_loss: 0.6933\n",
      "step 15300 , total_loss: 0.7386, data_loss: 0.7386\n",
      "step 15320 , total_loss: 0.7139, data_loss: 0.7139\n",
      "step 15340 , total_loss: 0.7806, data_loss: 0.7806\n",
      "step 15360 , total_loss: 0.6786, data_loss: 0.6786\n",
      "step 15380 , total_loss: 0.7582, data_loss: 0.7582\n",
      "step 15400 , total_loss: 0.7545, data_loss: 0.7545\n",
      "step 15420 , total_loss: 0.6518, data_loss: 0.6518\n",
      "step 15440 , total_loss: 0.7070, data_loss: 0.7070\n",
      "step 15460 , total_loss: 0.7306, data_loss: 0.7306\n",
      "step 15480 , total_loss: 0.6831, data_loss: 0.6831\n",
      "step 15500 , total_loss: 0.7359, data_loss: 0.7359\n",
      "step 15520 , total_loss: 0.7957, data_loss: 0.7957\n",
      "step 15540 , total_loss: 0.6795, data_loss: 0.6795\n",
      "step 15560 , total_loss: 0.7507, data_loss: 0.7507\n",
      "step 15580 , total_loss: 0.6627, data_loss: 0.6627\n",
      "step 15600 , total_loss: 0.7587, data_loss: 0.7587\n",
      "step 15620 , total_loss: 0.7454, data_loss: 0.7454\n",
      "step 15640 , total_loss: 0.6944, data_loss: 0.6944\n",
      "step 15660 , total_loss: 0.7461, data_loss: 0.7461\n",
      "step 15680 , total_loss: 0.7110, data_loss: 0.7110\n",
      "step 15700 , total_loss: 0.6941, data_loss: 0.6941\n",
      "step 15720 , total_loss: 0.8752, data_loss: 0.8752\n",
      "step 15740 , total_loss: 0.7716, data_loss: 0.7716\n",
      "step 15760 , total_loss: 0.7237, data_loss: 0.7237\n",
      "step 15780 , total_loss: 0.6657, data_loss: 0.6657\n",
      "step 15800 , total_loss: 0.7520, data_loss: 0.7520\n",
      "step 15820 , total_loss: 0.7748, data_loss: 0.7748\n",
      "step 15840 , total_loss: 0.7368, data_loss: 0.7368\n",
      "step 15860 , total_loss: 0.7344, data_loss: 0.7344\n",
      "step 15880 , total_loss: 0.7993, data_loss: 0.7993\n",
      "step 15900 , total_loss: 0.7394, data_loss: 0.7394\n",
      "step 15920 , total_loss: 0.7394, data_loss: 0.7394\n",
      "step 15940 , total_loss: 0.6473, data_loss: 0.6473\n",
      "step 15960 , total_loss: 0.6712, data_loss: 0.6712\n",
      "step 15980 , total_loss: 0.8297, data_loss: 0.8297\n",
      "step 16000 , total_loss: 0.7138, data_loss: 0.7138\n",
      "step 16020 , total_loss: 0.7285, data_loss: 0.7285\n",
      "step 16040 , total_loss: 0.6972, data_loss: 0.6972\n",
      "step 16060 , total_loss: 0.7501, data_loss: 0.7501\n",
      "step 16080 , total_loss: 0.7245, data_loss: 0.7245\n",
      "step 16100 , total_loss: 0.7017, data_loss: 0.7017\n",
      "step 16120 , total_loss: 0.7171, data_loss: 0.7171\n",
      "step 16140 , total_loss: 0.6485, data_loss: 0.6485\n",
      "step 16160 , total_loss: 0.7804, data_loss: 0.7804\n",
      "step 16180 , total_loss: 0.6905, data_loss: 0.6905\n",
      "step 16200 , total_loss: 0.7897, data_loss: 0.7897\n",
      "step 16220 , total_loss: 0.7448, data_loss: 0.7448\n",
      "step 16240 , total_loss: 0.6943, data_loss: 0.6943\n",
      "step 16260 , total_loss: 0.6841, data_loss: 0.6841\n",
      "step 16280 , total_loss: 0.6518, data_loss: 0.6518\n",
      "step 16300 , total_loss: 0.6953, data_loss: 0.6953\n"
     ]
    },
    {
     "name": "stdout",
     "output_type": "stream",
     "text": [
      "step 16320 , total_loss: 0.6737, data_loss: 0.6737\n",
      "step 16340 , total_loss: 0.6927, data_loss: 0.6927\n",
      "step 16360 , total_loss: 0.7385, data_loss: 0.7385\n",
      "step 16380 , total_loss: 0.7865, data_loss: 0.7865\n",
      "step 16400 , total_loss: 0.7937, data_loss: 0.7937\n",
      "step 16420 , total_loss: 0.6439, data_loss: 0.6439\n",
      "step 16440 , total_loss: 0.6879, data_loss: 0.6879\n",
      "step 16460 , total_loss: 0.7138, data_loss: 0.7138\n",
      "step 16480 , total_loss: 0.7305, data_loss: 0.7305\n",
      "step 16500 , total_loss: 0.7010, data_loss: 0.7010\n",
      "step 16520 , total_loss: 0.7363, data_loss: 0.7363\n",
      "step 16540 , total_loss: 0.7143, data_loss: 0.7143\n",
      "step 16560 , total_loss: 0.7627, data_loss: 0.7627\n",
      "step 16580 , total_loss: 0.7238, data_loss: 0.7238\n",
      "step 16600 , total_loss: 0.7805, data_loss: 0.7805\n",
      "step 16620 , total_loss: 0.7893, data_loss: 0.7893\n",
      "step 16640 , total_loss: 0.7456, data_loss: 0.7456\n",
      "step 16660 , total_loss: 0.7589, data_loss: 0.7589\n",
      "step 16680 , total_loss: 0.7557, data_loss: 0.7557\n",
      "step 16700 , total_loss: 0.7513, data_loss: 0.7513\n",
      "step 16720 , total_loss: 0.6091, data_loss: 0.6091\n",
      "step 16740 , total_loss: 0.7316, data_loss: 0.7316\n",
      "step 16760 , total_loss: 0.7409, data_loss: 0.7409\n",
      "step 16780 , total_loss: 0.6978, data_loss: 0.6978\n",
      "step 16800 , total_loss: 0.6533, data_loss: 0.6533\n",
      "step 16820 , total_loss: 0.7483, data_loss: 0.7483\n",
      "step 16840 , total_loss: 0.7430, data_loss: 0.7430\n",
      "step 16860 , total_loss: 0.7239, data_loss: 0.7239\n",
      "step 16880 , total_loss: 0.6914, data_loss: 0.6914\n",
      "step 16900 , total_loss: 0.7963, data_loss: 0.7963\n",
      "step 16920 , total_loss: 0.7094, data_loss: 0.7094\n",
      "step 16940 , total_loss: 0.8191, data_loss: 0.8191\n",
      "step 16960 , total_loss: 0.7334, data_loss: 0.7334\n",
      "step 16980 , total_loss: 0.6608, data_loss: 0.6608\n",
      "step 17000 , total_loss: 0.7265, data_loss: 0.7265\n",
      "step 17020 , total_loss: 0.7813, data_loss: 0.7813\n",
      "step 17040 , total_loss: 0.7283, data_loss: 0.7283\n",
      "step 17060 , total_loss: 0.8299, data_loss: 0.8299\n",
      "step 17080 , total_loss: 0.7640, data_loss: 0.7640\n",
      "step 17100 , total_loss: 0.7274, data_loss: 0.7274\n",
      "step 17120 , total_loss: 0.6921, data_loss: 0.6921\n",
      "step 17140 , total_loss: 0.7827, data_loss: 0.7827\n",
      "step 17160 , total_loss: 0.7008, data_loss: 0.7008\n",
      "step 17180 , total_loss: 0.7401, data_loss: 0.7401\n",
      "step 17200 , total_loss: 0.8321, data_loss: 0.8321\n",
      "step 17220 , total_loss: 0.7061, data_loss: 0.7061\n",
      "step 17240 , total_loss: 0.7791, data_loss: 0.7791\n",
      "step 17260 , total_loss: 0.6993, data_loss: 0.6993\n",
      "step 17280 , total_loss: 0.7095, data_loss: 0.7095\n",
      "step 17300 , total_loss: 0.6234, data_loss: 0.6234\n",
      "step 17320 , total_loss: 0.7484, data_loss: 0.7484\n",
      "step 17340 , total_loss: 0.7659, data_loss: 0.7659\n",
      "step 17360 , total_loss: 0.6321, data_loss: 0.6321\n",
      "step 17380 , total_loss: 0.7275, data_loss: 0.7275\n",
      "step 17400 , total_loss: 0.6780, data_loss: 0.6780\n",
      "step 17420 , total_loss: 0.7534, data_loss: 0.7534\n",
      "step 17440 , total_loss: 0.7820, data_loss: 0.7820\n",
      "step 17460 , total_loss: 0.7196, data_loss: 0.7196\n",
      "step 17480 , total_loss: 0.7269, data_loss: 0.7269\n",
      "step 17500 , total_loss: 0.6374, data_loss: 0.6374\n",
      "step 17520 , total_loss: 0.7765, data_loss: 0.7765\n",
      "step 17540 , total_loss: 0.7696, data_loss: 0.7696\n",
      "step 17560 , total_loss: 0.7466, data_loss: 0.7466\n",
      "step 17580 , total_loss: 0.6941, data_loss: 0.6941\n",
      "step 17600 , total_loss: 0.7278, data_loss: 0.7278\n",
      "step 17620 , total_loss: 0.6752, data_loss: 0.6752\n",
      "step 17640 , total_loss: 0.7520, data_loss: 0.7520\n",
      "step 17660 , total_loss: 0.7261, data_loss: 0.7261\n",
      "step 17680 , total_loss: 0.7616, data_loss: 0.7616\n",
      "step 17700 , total_loss: 0.6749, data_loss: 0.6749\n",
      "step 17720 , total_loss: 0.7356, data_loss: 0.7356\n",
      "step 17740 , total_loss: 0.7432, data_loss: 0.7432\n",
      "step 17760 , total_loss: 0.7395, data_loss: 0.7395\n",
      "step 17780 , total_loss: 0.7134, data_loss: 0.7134\n",
      "step 17800 , total_loss: 0.6868, data_loss: 0.6868\n",
      "step 17820 , total_loss: 0.6934, data_loss: 0.6934\n",
      "step 17840 , total_loss: 0.7276, data_loss: 0.7276\n",
      "step 17860 , total_loss: 0.7080, data_loss: 0.7080\n",
      "step 17880 , total_loss: 0.7842, data_loss: 0.7842\n",
      "step 17900 , total_loss: 0.7462, data_loss: 0.7462\n",
      "step 17920 , total_loss: 0.7376, data_loss: 0.7376\n",
      "step 17940 , total_loss: 0.8367, data_loss: 0.8367\n",
      "step 17960 , total_loss: 0.7896, data_loss: 0.7896\n",
      "step 17980 , total_loss: 0.7802, data_loss: 0.7802\n",
      "step 18000 , total_loss: 0.7222, data_loss: 0.7222\n",
      "step 18020 , total_loss: 0.7800, data_loss: 0.7800\n",
      "step 18040 , total_loss: 0.7147, data_loss: 0.7147\n",
      "step 18060 , total_loss: 0.7180, data_loss: 0.7180\n",
      "step 18080 , total_loss: 0.7536, data_loss: 0.7536\n",
      "step 18100 , total_loss: 0.7880, data_loss: 0.7880\n",
      "step 18120 , total_loss: 0.7525, data_loss: 0.7525\n",
      "step 18140 , total_loss: 0.7222, data_loss: 0.7222\n",
      "step 18160 , total_loss: 0.7396, data_loss: 0.7396\n",
      "step 18180 , total_loss: 0.6529, data_loss: 0.6529\n",
      "step 18200 , total_loss: 0.7450, data_loss: 0.7450\n",
      "step 18220 , total_loss: 0.6750, data_loss: 0.6750\n",
      "step 18240 , total_loss: 0.7082, data_loss: 0.7082\n",
      "step 18260 , total_loss: 0.7120, data_loss: 0.7120\n",
      "step 18280 , total_loss: 0.7684, data_loss: 0.7684\n",
      "step 18300 , total_loss: 0.7170, data_loss: 0.7170\n",
      "step 18320 , total_loss: 0.7350, data_loss: 0.7350\n",
      "step 18340 , total_loss: 0.6941, data_loss: 0.6941\n",
      "step 18360 , total_loss: 0.6644, data_loss: 0.6644\n",
      "step 18380 , total_loss: 0.6897, data_loss: 0.6897\n",
      "step 18400 , total_loss: 0.7165, data_loss: 0.7165\n",
      "step 18420 , total_loss: 0.7460, data_loss: 0.7460\n",
      "step 18440 , total_loss: 0.7329, data_loss: 0.7329\n",
      "step 18460 , total_loss: 0.7501, data_loss: 0.7501\n",
      "step 18480 , total_loss: 0.6711, data_loss: 0.6711\n",
      "step 18500 , total_loss: 0.8165, data_loss: 0.8165\n",
      "step 18520 , total_loss: 0.6388, data_loss: 0.6388\n",
      "step 18540 , total_loss: 0.7480, data_loss: 0.7480\n",
      "step 18560 , total_loss: 0.7166, data_loss: 0.7166\n",
      "step 18580 , total_loss: 0.7144, data_loss: 0.7144\n",
      "step 18600 , total_loss: 0.7177, data_loss: 0.7177\n",
      "step 18620 , total_loss: 0.7171, data_loss: 0.7171\n",
      "step 18640 , total_loss: 0.6624, data_loss: 0.6624\n",
      "step 18660 , total_loss: 0.7324, data_loss: 0.7324\n",
      "step 18680 , total_loss: 0.6803, data_loss: 0.6803\n",
      "step 18700 , total_loss: 0.7336, data_loss: 0.7336\n",
      "step 18720 , total_loss: 0.7883, data_loss: 0.7883\n",
      "step 18740 , total_loss: 0.7005, data_loss: 0.7005\n",
      "step 18760 , total_loss: 0.7441, data_loss: 0.7441\n",
      "step 18780 , total_loss: 0.7503, data_loss: 0.7503\n",
      "step 18800 , total_loss: 0.7941, data_loss: 0.7941\n",
      "step 18820 , total_loss: 0.7476, data_loss: 0.7476\n",
      "step 18840 , total_loss: 0.7175, data_loss: 0.7175\n",
      "step 18860 , total_loss: 0.7509, data_loss: 0.7509\n",
      "step 18880 , total_loss: 0.7799, data_loss: 0.7799\n",
      "step 18900 , total_loss: 0.6757, data_loss: 0.6757\n",
      "step 18920 , total_loss: 0.7527, data_loss: 0.7527\n",
      "step 18940 , total_loss: 0.7225, data_loss: 0.7225\n",
      "step 18960 , total_loss: 0.7339, data_loss: 0.7339\n",
      "step 18980 , total_loss: 0.7176, data_loss: 0.7176\n",
      "step 19000 , total_loss: 0.6452, data_loss: 0.6452\n",
      "step 19020 , total_loss: 0.7165, data_loss: 0.7165\n",
      "step 19040 , total_loss: 0.7157, data_loss: 0.7157\n",
      "step 19060 , total_loss: 0.7128, data_loss: 0.7128\n",
      "step 19080 , total_loss: 0.6672, data_loss: 0.6672\n",
      "step 19100 , total_loss: 0.6627, data_loss: 0.6627\n",
      "step 19120 , total_loss: 0.6961, data_loss: 0.6961\n",
      "step 19140 , total_loss: 0.7545, data_loss: 0.7545\n",
      "step 19160 , total_loss: 0.6729, data_loss: 0.6729\n",
      "step 19180 , total_loss: 0.7817, data_loss: 0.7817\n",
      "step 19200 , total_loss: 0.7035, data_loss: 0.7035\n",
      "step 19220 , total_loss: 0.6934, data_loss: 0.6934\n",
      "step 19240 , total_loss: 0.7421, data_loss: 0.7421\n",
      "step 19260 , total_loss: 0.7184, data_loss: 0.7184\n",
      "step 19280 , total_loss: 0.6799, data_loss: 0.6799\n",
      "step 19300 , total_loss: 0.6906, data_loss: 0.6906\n",
      "step 19320 , total_loss: 0.7253, data_loss: 0.7253\n",
      "step 19340 , total_loss: 0.6750, data_loss: 0.6750\n",
      "step 19360 , total_loss: 0.7133, data_loss: 0.7133\n",
      "step 19380 , total_loss: 0.7853, data_loss: 0.7853\n",
      "step 19400 , total_loss: 0.7201, data_loss: 0.7201\n",
      "step 19420 , total_loss: 0.7505, data_loss: 0.7505\n",
      "step 19440 , total_loss: 0.6845, data_loss: 0.6845\n",
      "step 19460 , total_loss: 0.7274, data_loss: 0.7274\n",
      "step 19480 , total_loss: 0.7123, data_loss: 0.7123\n",
      "step 19500 , total_loss: 0.8165, data_loss: 0.8165\n",
      "step 19520 , total_loss: 0.7185, data_loss: 0.7185\n"
     ]
    },
    {
     "name": "stdout",
     "output_type": "stream",
     "text": [
      "step 19540 , total_loss: 0.7172, data_loss: 0.7172\n",
      "step 19560 , total_loss: 0.7554, data_loss: 0.7554\n",
      "step 19580 , total_loss: 0.6959, data_loss: 0.6959\n",
      "step 19600 , total_loss: 0.6569, data_loss: 0.6569\n",
      "step 19620 , total_loss: 0.7478, data_loss: 0.7478\n",
      "step 19640 , total_loss: 0.7529, data_loss: 0.7529\n",
      "step 19660 , total_loss: 0.7791, data_loss: 0.7791\n",
      "step 19680 , total_loss: 0.7598, data_loss: 0.7598\n",
      "step 19700 , total_loss: 0.7368, data_loss: 0.7368\n",
      "step 19720 , total_loss: 0.6633, data_loss: 0.6633\n",
      "step 19740 , total_loss: 0.6399, data_loss: 0.6399\n",
      "step 19760 , total_loss: 0.7127, data_loss: 0.7127\n",
      "step 19780 , total_loss: 0.7397, data_loss: 0.7397\n",
      "step 19800 , total_loss: 0.7346, data_loss: 0.7346\n",
      "step 19820 , total_loss: 0.7813, data_loss: 0.7813\n",
      "step 19840 , total_loss: 0.7672, data_loss: 0.7672\n",
      "step 19860 , total_loss: 0.7388, data_loss: 0.7388\n",
      "step 19880 , total_loss: 0.6889, data_loss: 0.6889\n",
      "step 19900 , total_loss: 0.7614, data_loss: 0.7614\n",
      "step 19920 , total_loss: 0.7416, data_loss: 0.7416\n",
      "step 19940 , total_loss: 0.7401, data_loss: 0.7401\n",
      "step 19960 , total_loss: 0.7431, data_loss: 0.7431\n",
      "step 19980 , total_loss: 0.7846, data_loss: 0.7846\n",
      "step 20000 , total_loss: 0.7555, data_loss: 0.7555\n",
      "step 20020 , total_loss: 0.7588, data_loss: 0.7588\n",
      "step 20040 , total_loss: 0.7071, data_loss: 0.7071\n",
      "step 20060 , total_loss: 0.7240, data_loss: 0.7240\n",
      "step 20080 , total_loss: 0.7232, data_loss: 0.7232\n",
      "step 20100 , total_loss: 0.7679, data_loss: 0.7679\n",
      "step 20120 , total_loss: 0.7288, data_loss: 0.7288\n",
      "step 20140 , total_loss: 0.7200, data_loss: 0.7200\n",
      "step 20160 , total_loss: 0.6392, data_loss: 0.6392\n",
      "step 20180 , total_loss: 0.7323, data_loss: 0.7323\n",
      "step 20200 , total_loss: 0.6827, data_loss: 0.6827\n",
      "step 20220 , total_loss: 0.6893, data_loss: 0.6893\n",
      "step 20240 , total_loss: 0.6907, data_loss: 0.6907\n",
      "step 20260 , total_loss: 0.7448, data_loss: 0.7448\n",
      "step 20280 , total_loss: 0.6728, data_loss: 0.6728\n",
      "step 20300 , total_loss: 0.7805, data_loss: 0.7805\n",
      "step 20320 , total_loss: 0.6826, data_loss: 0.6826\n",
      "step 20340 , total_loss: 0.7510, data_loss: 0.7510\n",
      "step 20360 , total_loss: 0.6866, data_loss: 0.6866\n",
      "step 20380 , total_loss: 0.7038, data_loss: 0.7038\n",
      "step 20400 , total_loss: 0.6463, data_loss: 0.6463\n",
      "step 20420 , total_loss: 0.8126, data_loss: 0.8126\n",
      "step 20440 , total_loss: 0.6939, data_loss: 0.6939\n",
      "step 20460 , total_loss: 0.7359, data_loss: 0.7359\n",
      "step 20480 , total_loss: 0.6625, data_loss: 0.6625\n",
      "step 20500 , total_loss: 0.7231, data_loss: 0.7231\n",
      "step 20520 , total_loss: 0.6670, data_loss: 0.6670\n",
      "step 20540 , total_loss: 0.6415, data_loss: 0.6415\n",
      "step 20560 , total_loss: 0.7692, data_loss: 0.7692\n",
      "step 20580 , total_loss: 0.6665, data_loss: 0.6665\n",
      "step 20600 , total_loss: 0.7569, data_loss: 0.7569\n",
      "step 20620 , total_loss: 0.7692, data_loss: 0.7692\n",
      "step 20640 , total_loss: 0.7091, data_loss: 0.7091\n",
      "step 20660 , total_loss: 0.7687, data_loss: 0.7687\n",
      "step 20680 , total_loss: 0.7620, data_loss: 0.7620\n",
      "step 20700 , total_loss: 0.7176, data_loss: 0.7176\n",
      "step 20720 , total_loss: 0.7174, data_loss: 0.7174\n",
      "step 20740 , total_loss: 0.6674, data_loss: 0.6674\n",
      "step 20760 , total_loss: 0.6632, data_loss: 0.6632\n",
      "step 20780 , total_loss: 0.6814, data_loss: 0.6814\n",
      "step 20800 , total_loss: 0.7253, data_loss: 0.7253\n",
      "step 20820 , total_loss: 0.7429, data_loss: 0.7429\n",
      "step 20840 , total_loss: 0.7813, data_loss: 0.7813\n",
      "step 20860 , total_loss: 0.7056, data_loss: 0.7056\n",
      "step 20880 , total_loss: 0.6466, data_loss: 0.6466\n",
      "step 20900 , total_loss: 0.7117, data_loss: 0.7117\n",
      "step 20920 , total_loss: 0.6377, data_loss: 0.6377\n",
      "step 20940 , total_loss: 0.8003, data_loss: 0.8003\n",
      "step 20960 , total_loss: 0.7288, data_loss: 0.7288\n",
      "step 20980 , total_loss: 0.8074, data_loss: 0.8074\n",
      "step 21000 , total_loss: 0.6659, data_loss: 0.6659\n",
      "step 21020 , total_loss: 0.6748, data_loss: 0.6748\n",
      "step 21040 , total_loss: 0.6627, data_loss: 0.6627\n",
      "step 21060 , total_loss: 0.6969, data_loss: 0.6969\n",
      "step 21080 , total_loss: 0.7312, data_loss: 0.7312\n",
      "step 21100 , total_loss: 0.6954, data_loss: 0.6954\n",
      "step 21120 , total_loss: 0.7250, data_loss: 0.7250\n",
      "step 21140 , total_loss: 0.6595, data_loss: 0.6595\n",
      "step 21160 , total_loss: 0.7768, data_loss: 0.7768\n",
      "step 21180 , total_loss: 0.7283, data_loss: 0.7283\n",
      "step 21200 , total_loss: 0.7625, data_loss: 0.7625\n",
      "step 21220 , total_loss: 0.7303, data_loss: 0.7303\n",
      "step 21240 , total_loss: 0.7173, data_loss: 0.7173\n",
      "step 21260 , total_loss: 0.6995, data_loss: 0.6995\n",
      "step 21280 , total_loss: 0.7406, data_loss: 0.7406\n",
      "step 21300 , total_loss: 0.7202, data_loss: 0.7202\n",
      "step 21320 , total_loss: 0.7009, data_loss: 0.7009\n",
      "step 21340 , total_loss: 0.8409, data_loss: 0.8409\n",
      "step 21360 , total_loss: 0.7292, data_loss: 0.7292\n",
      "step 21380 , total_loss: 0.6790, data_loss: 0.6790\n",
      "step 21400 , total_loss: 0.7310, data_loss: 0.7310\n",
      "step 21420 , total_loss: 0.6794, data_loss: 0.6794\n",
      "step 21440 , total_loss: 0.6605, data_loss: 0.6605\n",
      "step 21460 , total_loss: 0.7037, data_loss: 0.7037\n",
      "step 21480 , total_loss: 0.7715, data_loss: 0.7715\n",
      "step 21500 , total_loss: 0.7179, data_loss: 0.7179\n",
      "step 21520 , total_loss: 0.7624, data_loss: 0.7624\n",
      "step 21540 , total_loss: 0.6739, data_loss: 0.6739\n",
      "step 21560 , total_loss: 0.6717, data_loss: 0.6717\n",
      "step 21580 , total_loss: 0.6762, data_loss: 0.6762\n",
      "step 21600 , total_loss: 0.6984, data_loss: 0.6984\n",
      "step 21620 , total_loss: 0.6935, data_loss: 0.6935\n",
      "step 21640 , total_loss: 0.6573, data_loss: 0.6573\n",
      "step 21660 , total_loss: 0.7722, data_loss: 0.7722\n",
      "step 21680 , total_loss: 0.5771, data_loss: 0.5771\n",
      "step 21700 , total_loss: 0.7339, data_loss: 0.7339\n",
      "step 21720 , total_loss: 0.7249, data_loss: 0.7249\n",
      "step 21740 , total_loss: 0.7447, data_loss: 0.7447\n",
      "step 21760 , total_loss: 0.7884, data_loss: 0.7884\n",
      "step 21780 , total_loss: 0.6547, data_loss: 0.6547\n",
      "step 21800 , total_loss: 0.7400, data_loss: 0.7400\n",
      "step 21820 , total_loss: 0.6617, data_loss: 0.6617\n",
      "step 21840 , total_loss: 0.6463, data_loss: 0.6463\n",
      "step 21860 , total_loss: 0.7698, data_loss: 0.7698\n",
      "step 21880 , total_loss: 0.8259, data_loss: 0.8259\n",
      "step 21900 , total_loss: 0.7655, data_loss: 0.7655\n",
      "step 21920 , total_loss: 0.7705, data_loss: 0.7705\n",
      "step 21940 , total_loss: 0.6587, data_loss: 0.6587\n",
      "step 21960 , total_loss: 0.6703, data_loss: 0.6703\n",
      "step 21980 , total_loss: 0.7245, data_loss: 0.7245\n",
      "step 22000 , total_loss: 0.7210, data_loss: 0.7210\n",
      "step 22020 , total_loss: 0.7424, data_loss: 0.7424\n",
      "step 22040 , total_loss: 0.6667, data_loss: 0.6667\n",
      "step 22060 , total_loss: 0.6879, data_loss: 0.6879\n",
      "step 22080 , total_loss: 0.7365, data_loss: 0.7365\n",
      "step 22100 , total_loss: 0.6964, data_loss: 0.6964\n",
      "step 22120 , total_loss: 0.7277, data_loss: 0.7277\n",
      "step 22140 , total_loss: 0.6865, data_loss: 0.6865\n",
      "step 22160 , total_loss: 0.6945, data_loss: 0.6945\n",
      "step 22180 , total_loss: 0.7808, data_loss: 0.7808\n",
      "step 22200 , total_loss: 0.7702, data_loss: 0.7702\n",
      "step 22220 , total_loss: 0.7569, data_loss: 0.7569\n",
      "step 22240 , total_loss: 0.6994, data_loss: 0.6994\n",
      "step 22260 , total_loss: 0.7510, data_loss: 0.7510\n",
      "step 22280 , total_loss: 0.7358, data_loss: 0.7358\n",
      "step 22300 , total_loss: 0.7426, data_loss: 0.7426\n",
      "step 22320 , total_loss: 0.7295, data_loss: 0.7295\n",
      "step 22340 , total_loss: 0.7573, data_loss: 0.7573\n",
      "step 22360 , total_loss: 0.7313, data_loss: 0.7313\n",
      "step 22380 , total_loss: 0.7565, data_loss: 0.7565\n",
      "step 22400 , total_loss: 0.6883, data_loss: 0.6883\n",
      "step 22420 , total_loss: 0.6817, data_loss: 0.6817\n",
      "step 22440 , total_loss: 0.7303, data_loss: 0.7303\n",
      "step 22460 , total_loss: 0.7313, data_loss: 0.7313\n",
      "step 22480 , total_loss: 0.7349, data_loss: 0.7349\n",
      "step 22500 , total_loss: 0.7756, data_loss: 0.7756\n",
      "step 22520 , total_loss: 0.7238, data_loss: 0.7238\n",
      "step 22540 , total_loss: 0.7729, data_loss: 0.7729\n",
      "step 22560 , total_loss: 0.6750, data_loss: 0.6750\n",
      "step 22580 , total_loss: 0.6559, data_loss: 0.6559\n",
      "step 22600 , total_loss: 0.6528, data_loss: 0.6528\n",
      "step 22620 , total_loss: 0.6934, data_loss: 0.6934\n",
      "step 22640 , total_loss: 0.7841, data_loss: 0.7841\n",
      "step 22660 , total_loss: 0.7129, data_loss: 0.7129\n",
      "step 22680 , total_loss: 0.7383, data_loss: 0.7383\n",
      "step 22700 , total_loss: 0.7560, data_loss: 0.7560\n",
      "step 22720 , total_loss: 0.7367, data_loss: 0.7367\n",
      "step 22740 , total_loss: 0.6775, data_loss: 0.6775\n"
     ]
    },
    {
     "name": "stdout",
     "output_type": "stream",
     "text": [
      "step 22760 , total_loss: 0.6994, data_loss: 0.6994\n",
      "step 22780 , total_loss: 0.6989, data_loss: 0.6989\n",
      "step 22800 , total_loss: 0.7606, data_loss: 0.7606\n",
      "step 22820 , total_loss: 0.7238, data_loss: 0.7238\n",
      "step 22840 , total_loss: 0.7399, data_loss: 0.7399\n",
      "step 22860 , total_loss: 0.6865, data_loss: 0.6865\n",
      "step 22880 , total_loss: 0.6818, data_loss: 0.6818\n",
      "step 22900 , total_loss: 0.8060, data_loss: 0.8060\n",
      "step 22920 , total_loss: 0.7608, data_loss: 0.7608\n",
      "step 22940 , total_loss: 0.6658, data_loss: 0.6658\n",
      "step 22960 , total_loss: 0.7652, data_loss: 0.7652\n",
      "step 22980 , total_loss: 0.6608, data_loss: 0.6608\n",
      "step 23000 , total_loss: 0.6601, data_loss: 0.6601\n",
      "step 23020 , total_loss: 0.7778, data_loss: 0.7778\n",
      "step 23040 , total_loss: 0.7918, data_loss: 0.7918\n",
      "step 23060 , total_loss: 0.7389, data_loss: 0.7389\n",
      "step 23080 , total_loss: 0.7330, data_loss: 0.7330\n",
      "step 23100 , total_loss: 0.6853, data_loss: 0.6853\n",
      "step 23120 , total_loss: 0.6803, data_loss: 0.6803\n",
      "step 23140 , total_loss: 0.7580, data_loss: 0.7580\n",
      "step 23160 , total_loss: 0.6788, data_loss: 0.6788\n",
      "step 23180 , total_loss: 0.6909, data_loss: 0.6909\n",
      "step 23200 , total_loss: 0.7117, data_loss: 0.7117\n",
      "step 23220 , total_loss: 0.6876, data_loss: 0.6876\n",
      "step 23240 , total_loss: 0.7402, data_loss: 0.7402\n",
      "step 23260 , total_loss: 0.7821, data_loss: 0.7821\n",
      "step 23280 , total_loss: 0.7428, data_loss: 0.7428\n",
      "step 23300 , total_loss: 0.7253, data_loss: 0.7253\n",
      "step 23320 , total_loss: 0.7385, data_loss: 0.7385\n",
      "step 23340 , total_loss: 0.7636, data_loss: 0.7636\n",
      "step 23360 , total_loss: 0.7539, data_loss: 0.7539\n",
      "step 23380 , total_loss: 0.6942, data_loss: 0.6942\n",
      "step 23400 , total_loss: 0.7913, data_loss: 0.7913\n",
      "step 23420 , total_loss: 0.7819, data_loss: 0.7819\n",
      "step 23440 , total_loss: 0.6679, data_loss: 0.6679\n",
      "step 23460 , total_loss: 0.7478, data_loss: 0.7478\n",
      "step 23480 , total_loss: 0.6496, data_loss: 0.6496\n",
      "step 23500 , total_loss: 0.7353, data_loss: 0.7353\n",
      "step 23520 , total_loss: 0.7403, data_loss: 0.7403\n",
      "step 23540 , total_loss: 0.7425, data_loss: 0.7425\n",
      "step 23560 , total_loss: 0.7030, data_loss: 0.7030\n",
      "step 23580 , total_loss: 0.7326, data_loss: 0.7326\n",
      "step 23600 , total_loss: 0.7211, data_loss: 0.7211\n",
      "step 23620 , total_loss: 0.6967, data_loss: 0.6967\n",
      "step 23640 , total_loss: 0.7495, data_loss: 0.7495\n",
      "step 23660 , total_loss: 0.7400, data_loss: 0.7400\n",
      "step 23680 , total_loss: 0.6030, data_loss: 0.6030\n",
      "step 23700 , total_loss: 0.8341, data_loss: 0.8341\n",
      "step 23720 , total_loss: 0.8462, data_loss: 0.8462\n",
      "step 23740 , total_loss: 0.7290, data_loss: 0.7290\n",
      "step 23760 , total_loss: 0.6875, data_loss: 0.6875\n",
      "step 23780 , total_loss: 0.6946, data_loss: 0.6946\n",
      "step 23800 , total_loss: 0.7293, data_loss: 0.7293\n",
      "step 23820 , total_loss: 0.7506, data_loss: 0.7506\n",
      "step 23840 , total_loss: 0.7783, data_loss: 0.7783\n",
      "step 23860 , total_loss: 0.7205, data_loss: 0.7205\n",
      "step 23880 , total_loss: 0.6460, data_loss: 0.6460\n",
      "step 23900 , total_loss: 0.7769, data_loss: 0.7769\n",
      "step 23920 , total_loss: 0.7113, data_loss: 0.7113\n",
      "step 23940 , total_loss: 0.7881, data_loss: 0.7881\n",
      "step 23960 , total_loss: 0.6965, data_loss: 0.6965\n",
      "step 23980 , total_loss: 0.7213, data_loss: 0.7213\n",
      "step 24000 , total_loss: 0.6994, data_loss: 0.6994\n",
      "step 24020 , total_loss: 0.6958, data_loss: 0.6958\n",
      "step 24040 , total_loss: 0.7497, data_loss: 0.7497\n",
      "step 24060 , total_loss: 0.7367, data_loss: 0.7367\n",
      "step 24080 , total_loss: 0.7507, data_loss: 0.7507\n",
      "step 24100 , total_loss: 0.7722, data_loss: 0.7722\n",
      "step 24120 , total_loss: 0.6762, data_loss: 0.6762\n",
      "step 24140 , total_loss: 0.6268, data_loss: 0.6268\n",
      "step 24160 , total_loss: 0.7033, data_loss: 0.7033\n",
      "step 24180 , total_loss: 0.7311, data_loss: 0.7311\n",
      "step 24200 , total_loss: 0.7060, data_loss: 0.7060\n",
      "step 24220 , total_loss: 0.7099, data_loss: 0.7099\n",
      "step 24240 , total_loss: 0.7746, data_loss: 0.7746\n",
      "step 24260 , total_loss: 0.6788, data_loss: 0.6788\n",
      "step 24280 , total_loss: 0.7264, data_loss: 0.7264\n",
      "step 24300 , total_loss: 0.7508, data_loss: 0.7508\n",
      "step 24320 , total_loss: 0.6993, data_loss: 0.6993\n",
      "step 24340 , total_loss: 0.6309, data_loss: 0.6309\n",
      "step 24360 , total_loss: 0.7256, data_loss: 0.7256\n",
      "step 24380 , total_loss: 0.7456, data_loss: 0.7456\n",
      "step 24400 , total_loss: 0.7532, data_loss: 0.7532\n",
      "step 24420 , total_loss: 0.6819, data_loss: 0.6819\n",
      "step 24440 , total_loss: 0.6913, data_loss: 0.6913\n",
      "step 24460 , total_loss: 0.7079, data_loss: 0.7079\n",
      "step 24480 , total_loss: 0.6965, data_loss: 0.6965\n",
      "step 24500 , total_loss: 0.7292, data_loss: 0.7292\n",
      "step 24520 , total_loss: 0.7258, data_loss: 0.7258\n",
      "step 24540 , total_loss: 0.6585, data_loss: 0.6585\n",
      "step 24560 , total_loss: 0.6839, data_loss: 0.6839\n",
      "step 24580 , total_loss: 0.7074, data_loss: 0.7074\n",
      "step 24600 , total_loss: 0.6925, data_loss: 0.6925\n",
      "step 24620 , total_loss: 0.7721, data_loss: 0.7721\n",
      "eval valid at epoch 1: auc:0.8761,logloss:1.0835,mean_mrr:0.8202,ndcg@2:0.8062,ndcg@4:0.8595,ndcg@6:0.8657,group_auc:0.8744\n",
      "step 20 , total_loss: 0.7679, data_loss: 0.7679\n",
      "step 40 , total_loss: 0.7360, data_loss: 0.7360\n",
      "step 60 , total_loss: 0.7382, data_loss: 0.7382\n",
      "step 80 , total_loss: 0.7183, data_loss: 0.7183\n",
      "step 100 , total_loss: 0.7038, data_loss: 0.7038\n",
      "step 120 , total_loss: 0.7667, data_loss: 0.7667\n",
      "step 140 , total_loss: 0.7369, data_loss: 0.7369\n",
      "step 160 , total_loss: 0.7452, data_loss: 0.7452\n",
      "step 180 , total_loss: 0.6853, data_loss: 0.6853\n",
      "step 200 , total_loss: 0.6704, data_loss: 0.6704\n",
      "step 220 , total_loss: 0.6289, data_loss: 0.6289\n",
      "step 240 , total_loss: 0.7067, data_loss: 0.7067\n",
      "step 260 , total_loss: 0.7029, data_loss: 0.7029\n",
      "step 280 , total_loss: 0.8232, data_loss: 0.8232\n",
      "step 300 , total_loss: 0.6848, data_loss: 0.6848\n",
      "step 320 , total_loss: 0.6975, data_loss: 0.6975\n",
      "step 340 , total_loss: 0.6815, data_loss: 0.6815\n",
      "step 360 , total_loss: 0.7298, data_loss: 0.7298\n",
      "step 380 , total_loss: 0.7523, data_loss: 0.7523\n",
      "step 400 , total_loss: 0.6878, data_loss: 0.6878\n",
      "step 420 , total_loss: 0.7848, data_loss: 0.7848\n",
      "step 440 , total_loss: 0.7337, data_loss: 0.7337\n",
      "step 460 , total_loss: 0.6352, data_loss: 0.6352\n",
      "step 480 , total_loss: 0.6827, data_loss: 0.6827\n",
      "step 500 , total_loss: 0.7196, data_loss: 0.7196\n",
      "step 520 , total_loss: 0.6965, data_loss: 0.6965\n",
      "step 540 , total_loss: 0.7076, data_loss: 0.7076\n",
      "step 560 , total_loss: 0.7632, data_loss: 0.7632\n",
      "step 580 , total_loss: 0.7084, data_loss: 0.7084\n",
      "step 600 , total_loss: 0.8300, data_loss: 0.8300\n",
      "step 620 , total_loss: 0.7346, data_loss: 0.7346\n",
      "step 640 , total_loss: 0.7469, data_loss: 0.7469\n",
      "step 660 , total_loss: 0.7316, data_loss: 0.7316\n",
      "step 680 , total_loss: 0.7891, data_loss: 0.7891\n",
      "step 700 , total_loss: 0.7296, data_loss: 0.7296\n",
      "step 720 , total_loss: 0.7586, data_loss: 0.7586\n",
      "step 740 , total_loss: 0.7167, data_loss: 0.7167\n",
      "step 760 , total_loss: 0.7142, data_loss: 0.7142\n",
      "step 780 , total_loss: 0.7476, data_loss: 0.7476\n",
      "step 800 , total_loss: 0.7044, data_loss: 0.7044\n",
      "step 820 , total_loss: 0.6628, data_loss: 0.6628\n",
      "step 840 , total_loss: 0.7761, data_loss: 0.7761\n",
      "step 860 , total_loss: 0.7078, data_loss: 0.7078\n",
      "step 880 , total_loss: 0.6446, data_loss: 0.6446\n",
      "step 900 , total_loss: 0.7843, data_loss: 0.7843\n",
      "step 920 , total_loss: 0.7157, data_loss: 0.7157\n",
      "step 940 , total_loss: 0.7423, data_loss: 0.7423\n",
      "step 960 , total_loss: 0.7001, data_loss: 0.7001\n",
      "step 980 , total_loss: 0.6392, data_loss: 0.6392\n",
      "step 1000 , total_loss: 0.6786, data_loss: 0.6786\n",
      "step 1020 , total_loss: 0.7611, data_loss: 0.7611\n",
      "step 1040 , total_loss: 0.7252, data_loss: 0.7252\n",
      "step 1060 , total_loss: 0.7508, data_loss: 0.7508\n",
      "step 1080 , total_loss: 0.6867, data_loss: 0.6867\n",
      "step 1100 , total_loss: 0.6965, data_loss: 0.6965\n",
      "step 1120 , total_loss: 0.6706, data_loss: 0.6706\n",
      "step 1140 , total_loss: 0.6828, data_loss: 0.6828\n",
      "step 1160 , total_loss: 0.7979, data_loss: 0.7979\n",
      "step 1180 , total_loss: 0.7362, data_loss: 0.7362\n",
      "step 1200 , total_loss: 0.7077, data_loss: 0.7077\n",
      "step 1220 , total_loss: 0.6660, data_loss: 0.6660\n",
      "step 1240 , total_loss: 0.7490, data_loss: 0.7490\n",
      "step 1260 , total_loss: 0.6809, data_loss: 0.6809\n",
      "step 1280 , total_loss: 0.7414, data_loss: 0.7414\n",
      "step 1300 , total_loss: 0.6887, data_loss: 0.6887\n",
      "step 1320 , total_loss: 0.6898, data_loss: 0.6898\n",
      "step 1340 , total_loss: 0.7503, data_loss: 0.7503\n"
     ]
    },
    {
     "name": "stdout",
     "output_type": "stream",
     "text": [
      "step 1360 , total_loss: 0.6845, data_loss: 0.6845\n",
      "step 1380 , total_loss: 0.6617, data_loss: 0.6617\n",
      "step 1400 , total_loss: 0.7912, data_loss: 0.7912\n",
      "step 1420 , total_loss: 0.8132, data_loss: 0.8132\n",
      "step 1440 , total_loss: 0.6800, data_loss: 0.6800\n",
      "step 1460 , total_loss: 0.6834, data_loss: 0.6834\n",
      "step 1480 , total_loss: 0.6938, data_loss: 0.6938\n",
      "step 1500 , total_loss: 0.7384, data_loss: 0.7384\n",
      "step 1520 , total_loss: 0.7463, data_loss: 0.7463\n",
      "step 1540 , total_loss: 0.6653, data_loss: 0.6653\n",
      "step 1560 , total_loss: 0.7624, data_loss: 0.7624\n",
      "step 1580 , total_loss: 0.6881, data_loss: 0.6881\n",
      "step 1600 , total_loss: 0.7325, data_loss: 0.7325\n"
     ]
    }
   ],
   "source": [
    "with Timer() as train_time:\n",
    "    model = model.fit(train_file, valid_file, valid_num_ngs=valid_num_ngs) \n",
    "\n",
    "# valid_num_ngs is the number of negative lines after each positive line in your valid_file \n",
    "# we will evaluate the performance of model on valid_file every epoch\n",
    "print('Time cost for training is {0:.2f} mins'.format(train_time.interval/60.0))\n",
    "# dt = 15, sample_rate = 0.5, 34460 steps 1 epoch \n",
    "# dt = 12, sample_rate = 0.4, 10420 steps 1 epoch\n",
    "# dt = 9, sample_rate = 0.45, \n",
    "# dt = 9, sample_rate = 0.4, 12580 steps 1 epoch\n",
    "# dt = 12, sample_rate = 0.7, 24620 steps 1epoch 6hr"
   ]
  },
  {
   "cell_type": "markdown",
   "id": "9a5b6965",
   "metadata": {},
   "source": [
    "### Evaluate Model"
   ]
  },
  {
   "cell_type": "code",
   "execution_count": 21,
   "id": "b11faca6",
   "metadata": {
    "ExecuteTime": {
     "end_time": "2021-12-25T08:12:06.274916Z",
     "start_time": "2021-12-25T08:12:06.251976Z"
    }
   },
   "outputs": [
    {
     "ename": "NameError",
     "evalue": "name 'model' is not defined",
     "output_type": "error",
     "traceback": [
      "\u001b[1;31m---------------------------------------------------------------------------\u001b[0m",
      "\u001b[1;31mNameError\u001b[0m                                 Traceback (most recent call last)",
      "\u001b[1;32m~\\AppData\\Local\\Temp/ipykernel_13604/2943221844.py\u001b[0m in \u001b[0;36m<module>\u001b[1;34m\u001b[0m\n\u001b[1;32m----> 1\u001b[1;33m \u001b[0mres_syn\u001b[0m \u001b[1;33m=\u001b[0m \u001b[0mmodel\u001b[0m\u001b[1;33m.\u001b[0m\u001b[0mrun_eval\u001b[0m\u001b[1;33m(\u001b[0m\u001b[0mtest_file\u001b[0m\u001b[1;33m,\u001b[0m \u001b[0mnum_ngs\u001b[0m\u001b[1;33m=\u001b[0m\u001b[1;36m5\u001b[0m\u001b[1;33m)\u001b[0m\u001b[1;33m\u001b[0m\u001b[1;33m\u001b[0m\u001b[0m\n\u001b[0m\u001b[0;32m      2\u001b[0m \u001b[0mprint\u001b[0m\u001b[1;33m(\u001b[0m\u001b[0mres_syn\u001b[0m\u001b[1;33m)\u001b[0m\u001b[1;33m\u001b[0m\u001b[1;33m\u001b[0m\u001b[0m\n",
      "\u001b[1;31mNameError\u001b[0m: name 'model' is not defined"
     ]
    }
   ],
   "source": [
    "res_syn = model.run_eval(test_file, num_ngs=5)\n",
    "print(res_syn)"
   ]
  },
  {
   "cell_type": "code",
   "execution_count": null,
   "id": "4d7b6d4e",
   "metadata": {},
   "outputs": [],
   "source": [
    "sb.glue(\"res_syn\", res_syn)"
   ]
  },
  {
   "cell_type": "code",
   "execution_count": 17,
   "id": "49c4056e",
   "metadata": {
    "ExecuteTime": {
     "end_time": "2022-01-04T01:19:22.201083Z",
     "start_time": "2022-01-04T01:15:14.382399Z"
    }
   },
   "outputs": [
    {
     "ename": "KeyboardInterrupt",
     "evalue": "",
     "output_type": "error",
     "traceback": [
      "\u001b[1;31m---------------------------------------------------------------------------\u001b[0m",
      "\u001b[1;31mKeyboardInterrupt\u001b[0m                         Traceback (most recent call last)",
      "\u001b[1;32m~\\AppData\\Local\\Temp/ipykernel_15480/402995143.py\u001b[0m in \u001b[0;36m<module>\u001b[1;34m\u001b[0m\n\u001b[0;32m      1\u001b[0m \u001b[1;31m#  get the full prediction scores rather than evaluation metrics, we can do this:\u001b[0m\u001b[1;33m\u001b[0m\u001b[1;33m\u001b[0m\u001b[1;33m\u001b[0m\u001b[0m\n\u001b[1;32m----> 2\u001b[1;33m \u001b[0mmodel\u001b[0m \u001b[1;33m=\u001b[0m \u001b[0mmodel\u001b[0m\u001b[1;33m.\u001b[0m\u001b[0mpredict\u001b[0m\u001b[1;33m(\u001b[0m\u001b[0mtest_file\u001b[0m\u001b[1;33m,\u001b[0m \u001b[0moutput_file\u001b[0m\u001b[1;33m)\u001b[0m\u001b[1;33m\u001b[0m\u001b[1;33m\u001b[0m\u001b[0m\n\u001b[0m",
      "\u001b[1;32m~\\.conda\\envs\\reco_base\\lib\\site-packages\\recommenders\\models\\deeprec\\models\\sequential\\sequential_base_model.py\u001b[0m in \u001b[0;36mpredict\u001b[1;34m(self, infile_name, outfile_name)\u001b[0m\n\u001b[0;32m    242\u001b[0m             ):\n\u001b[0;32m    243\u001b[0m                 \u001b[1;32mif\u001b[0m \u001b[0mbatch_data_input\u001b[0m\u001b[1;33m:\u001b[0m\u001b[1;33m\u001b[0m\u001b[1;33m\u001b[0m\u001b[0m\n\u001b[1;32m--> 244\u001b[1;33m                     \u001b[0mstep_pred\u001b[0m \u001b[1;33m=\u001b[0m \u001b[0mself\u001b[0m\u001b[1;33m.\u001b[0m\u001b[0minfer\u001b[0m\u001b[1;33m(\u001b[0m\u001b[0mload_sess\u001b[0m\u001b[1;33m,\u001b[0m \u001b[0mbatch_data_input\u001b[0m\u001b[1;33m)\u001b[0m\u001b[1;33m\u001b[0m\u001b[1;33m\u001b[0m\u001b[0m\n\u001b[0m\u001b[0;32m    245\u001b[0m                     \u001b[0mstep_pred\u001b[0m \u001b[1;33m=\u001b[0m \u001b[0mnp\u001b[0m\u001b[1;33m.\u001b[0m\u001b[0mreshape\u001b[0m\u001b[1;33m(\u001b[0m\u001b[0mstep_pred\u001b[0m\u001b[1;33m,\u001b[0m \u001b[1;33m-\u001b[0m\u001b[1;36m1\u001b[0m\u001b[1;33m)\u001b[0m\u001b[1;33m\u001b[0m\u001b[1;33m\u001b[0m\u001b[0m\n\u001b[0;32m    246\u001b[0m                     \u001b[0mwt\u001b[0m\u001b[1;33m.\u001b[0m\u001b[0mwrite\u001b[0m\u001b[1;33m(\u001b[0m\u001b[1;34m\"\\n\"\u001b[0m\u001b[1;33m.\u001b[0m\u001b[0mjoin\u001b[0m\u001b[1;33m(\u001b[0m\u001b[0mmap\u001b[0m\u001b[1;33m(\u001b[0m\u001b[0mstr\u001b[0m\u001b[1;33m,\u001b[0m \u001b[0mstep_pred\u001b[0m\u001b[1;33m)\u001b[0m\u001b[1;33m)\u001b[0m\u001b[1;33m)\u001b[0m\u001b[1;33m\u001b[0m\u001b[1;33m\u001b[0m\u001b[0m\n",
      "\u001b[1;32m~\\.conda\\envs\\reco_base\\lib\\site-packages\\recommenders\\models\\deeprec\\models\\base_model.py\u001b[0m in \u001b[0;36minfer\u001b[1;34m(self, sess, feed_dict)\u001b[0m\n\u001b[0;32m    414\u001b[0m         \u001b[0mfeed_dict\u001b[0m\u001b[1;33m[\u001b[0m\u001b[0mself\u001b[0m\u001b[1;33m.\u001b[0m\u001b[0mlayer_keeps\u001b[0m\u001b[1;33m]\u001b[0m \u001b[1;33m=\u001b[0m \u001b[0mself\u001b[0m\u001b[1;33m.\u001b[0m\u001b[0mkeep_prob_test\u001b[0m\u001b[1;33m\u001b[0m\u001b[1;33m\u001b[0m\u001b[0m\n\u001b[0;32m    415\u001b[0m         \u001b[0mfeed_dict\u001b[0m\u001b[1;33m[\u001b[0m\u001b[0mself\u001b[0m\u001b[1;33m.\u001b[0m\u001b[0mis_train_stage\u001b[0m\u001b[1;33m]\u001b[0m \u001b[1;33m=\u001b[0m \u001b[1;32mFalse\u001b[0m\u001b[1;33m\u001b[0m\u001b[1;33m\u001b[0m\u001b[0m\n\u001b[1;32m--> 416\u001b[1;33m         \u001b[1;32mreturn\u001b[0m \u001b[0msess\u001b[0m\u001b[1;33m.\u001b[0m\u001b[0mrun\u001b[0m\u001b[1;33m(\u001b[0m\u001b[1;33m[\u001b[0m\u001b[0mself\u001b[0m\u001b[1;33m.\u001b[0m\u001b[0mpred\u001b[0m\u001b[1;33m]\u001b[0m\u001b[1;33m,\u001b[0m \u001b[0mfeed_dict\u001b[0m\u001b[1;33m=\u001b[0m\u001b[0mfeed_dict\u001b[0m\u001b[1;33m)\u001b[0m\u001b[1;33m\u001b[0m\u001b[1;33m\u001b[0m\u001b[0m\n\u001b[0m\u001b[0;32m    417\u001b[0m \u001b[1;33m\u001b[0m\u001b[0m\n\u001b[0;32m    418\u001b[0m     \u001b[1;32mdef\u001b[0m \u001b[0mload_model\u001b[0m\u001b[1;33m(\u001b[0m\u001b[0mself\u001b[0m\u001b[1;33m,\u001b[0m \u001b[0mmodel_path\u001b[0m\u001b[1;33m=\u001b[0m\u001b[1;32mNone\u001b[0m\u001b[1;33m)\u001b[0m\u001b[1;33m:\u001b[0m\u001b[1;33m\u001b[0m\u001b[1;33m\u001b[0m\u001b[0m\n",
      "\u001b[1;32m~\\.conda\\envs\\reco_base\\lib\\site-packages\\tensorflow\\python\\client\\session.py\u001b[0m in \u001b[0;36mrun\u001b[1;34m(self, fetches, feed_dict, options, run_metadata)\u001b[0m\n\u001b[0;32m    969\u001b[0m     \u001b[1;32mtry\u001b[0m\u001b[1;33m:\u001b[0m\u001b[1;33m\u001b[0m\u001b[1;33m\u001b[0m\u001b[0m\n\u001b[0;32m    970\u001b[0m       result = self._run(None, fetches, feed_dict, options_ptr,\n\u001b[1;32m--> 971\u001b[1;33m                          run_metadata_ptr)\n\u001b[0m\u001b[0;32m    972\u001b[0m       \u001b[1;32mif\u001b[0m \u001b[0mrun_metadata\u001b[0m\u001b[1;33m:\u001b[0m\u001b[1;33m\u001b[0m\u001b[1;33m\u001b[0m\u001b[0m\n\u001b[0;32m    973\u001b[0m         \u001b[0mproto_data\u001b[0m \u001b[1;33m=\u001b[0m \u001b[0mtf_session\u001b[0m\u001b[1;33m.\u001b[0m\u001b[0mTF_GetBuffer\u001b[0m\u001b[1;33m(\u001b[0m\u001b[0mrun_metadata_ptr\u001b[0m\u001b[1;33m)\u001b[0m\u001b[1;33m\u001b[0m\u001b[1;33m\u001b[0m\u001b[0m\n",
      "\u001b[1;32m~\\.conda\\envs\\reco_base\\lib\\site-packages\\tensorflow\\python\\client\\session.py\u001b[0m in \u001b[0;36m_run\u001b[1;34m(self, handle, fetches, feed_dict, options, run_metadata)\u001b[0m\n\u001b[0;32m   1192\u001b[0m     \u001b[1;32mif\u001b[0m \u001b[0mfinal_fetches\u001b[0m \u001b[1;32mor\u001b[0m \u001b[0mfinal_targets\u001b[0m \u001b[1;32mor\u001b[0m \u001b[1;33m(\u001b[0m\u001b[0mhandle\u001b[0m \u001b[1;32mand\u001b[0m \u001b[0mfeed_dict_tensor\u001b[0m\u001b[1;33m)\u001b[0m\u001b[1;33m:\u001b[0m\u001b[1;33m\u001b[0m\u001b[1;33m\u001b[0m\u001b[0m\n\u001b[0;32m   1193\u001b[0m       results = self._do_run(handle, final_targets, final_fetches,\n\u001b[1;32m-> 1194\u001b[1;33m                              feed_dict_tensor, options, run_metadata)\n\u001b[0m\u001b[0;32m   1195\u001b[0m     \u001b[1;32melse\u001b[0m\u001b[1;33m:\u001b[0m\u001b[1;33m\u001b[0m\u001b[1;33m\u001b[0m\u001b[0m\n\u001b[0;32m   1196\u001b[0m       \u001b[0mresults\u001b[0m \u001b[1;33m=\u001b[0m \u001b[1;33m[\u001b[0m\u001b[1;33m]\u001b[0m\u001b[1;33m\u001b[0m\u001b[1;33m\u001b[0m\u001b[0m\n",
      "\u001b[1;32m~\\.conda\\envs\\reco_base\\lib\\site-packages\\tensorflow\\python\\client\\session.py\u001b[0m in \u001b[0;36m_do_run\u001b[1;34m(self, handle, target_list, fetch_list, feed_dict, options, run_metadata)\u001b[0m\n\u001b[0;32m   1372\u001b[0m     \u001b[1;32mif\u001b[0m \u001b[0mhandle\u001b[0m \u001b[1;32mis\u001b[0m \u001b[1;32mNone\u001b[0m\u001b[1;33m:\u001b[0m\u001b[1;33m\u001b[0m\u001b[1;33m\u001b[0m\u001b[0m\n\u001b[0;32m   1373\u001b[0m       return self._do_call(_run_fn, feeds, fetches, targets, options,\n\u001b[1;32m-> 1374\u001b[1;33m                            run_metadata)\n\u001b[0m\u001b[0;32m   1375\u001b[0m     \u001b[1;32melse\u001b[0m\u001b[1;33m:\u001b[0m\u001b[1;33m\u001b[0m\u001b[1;33m\u001b[0m\u001b[0m\n\u001b[0;32m   1376\u001b[0m       \u001b[1;32mreturn\u001b[0m \u001b[0mself\u001b[0m\u001b[1;33m.\u001b[0m\u001b[0m_do_call\u001b[0m\u001b[1;33m(\u001b[0m\u001b[0m_prun_fn\u001b[0m\u001b[1;33m,\u001b[0m \u001b[0mhandle\u001b[0m\u001b[1;33m,\u001b[0m \u001b[0mfeeds\u001b[0m\u001b[1;33m,\u001b[0m \u001b[0mfetches\u001b[0m\u001b[1;33m)\u001b[0m\u001b[1;33m\u001b[0m\u001b[1;33m\u001b[0m\u001b[0m\n",
      "\u001b[1;32m~\\.conda\\envs\\reco_base\\lib\\site-packages\\tensorflow\\python\\client\\session.py\u001b[0m in \u001b[0;36m_do_call\u001b[1;34m(self, fn, *args)\u001b[0m\n\u001b[0;32m   1378\u001b[0m   \u001b[1;32mdef\u001b[0m \u001b[0m_do_call\u001b[0m\u001b[1;33m(\u001b[0m\u001b[0mself\u001b[0m\u001b[1;33m,\u001b[0m \u001b[0mfn\u001b[0m\u001b[1;33m,\u001b[0m \u001b[1;33m*\u001b[0m\u001b[0margs\u001b[0m\u001b[1;33m)\u001b[0m\u001b[1;33m:\u001b[0m\u001b[1;33m\u001b[0m\u001b[1;33m\u001b[0m\u001b[0m\n\u001b[0;32m   1379\u001b[0m     \u001b[1;32mtry\u001b[0m\u001b[1;33m:\u001b[0m\u001b[1;33m\u001b[0m\u001b[1;33m\u001b[0m\u001b[0m\n\u001b[1;32m-> 1380\u001b[1;33m       \u001b[1;32mreturn\u001b[0m \u001b[0mfn\u001b[0m\u001b[1;33m(\u001b[0m\u001b[1;33m*\u001b[0m\u001b[0margs\u001b[0m\u001b[1;33m)\u001b[0m\u001b[1;33m\u001b[0m\u001b[1;33m\u001b[0m\u001b[0m\n\u001b[0m\u001b[0;32m   1381\u001b[0m     \u001b[1;32mexcept\u001b[0m \u001b[0merrors\u001b[0m\u001b[1;33m.\u001b[0m\u001b[0mOpError\u001b[0m \u001b[1;32mas\u001b[0m \u001b[0me\u001b[0m\u001b[1;33m:\u001b[0m\u001b[1;33m\u001b[0m\u001b[1;33m\u001b[0m\u001b[0m\n\u001b[0;32m   1382\u001b[0m       \u001b[0mmessage\u001b[0m \u001b[1;33m=\u001b[0m \u001b[0mcompat\u001b[0m\u001b[1;33m.\u001b[0m\u001b[0mas_text\u001b[0m\u001b[1;33m(\u001b[0m\u001b[0me\u001b[0m\u001b[1;33m.\u001b[0m\u001b[0mmessage\u001b[0m\u001b[1;33m)\u001b[0m\u001b[1;33m\u001b[0m\u001b[1;33m\u001b[0m\u001b[0m\n",
      "\u001b[1;32m~\\.conda\\envs\\reco_base\\lib\\site-packages\\tensorflow\\python\\client\\session.py\u001b[0m in \u001b[0;36m_run_fn\u001b[1;34m(feed_dict, fetch_list, target_list, options, run_metadata)\u001b[0m\n\u001b[0;32m   1362\u001b[0m       \u001b[0mself\u001b[0m\u001b[1;33m.\u001b[0m\u001b[0m_extend_graph\u001b[0m\u001b[1;33m(\u001b[0m\u001b[1;33m)\u001b[0m\u001b[1;33m\u001b[0m\u001b[1;33m\u001b[0m\u001b[0m\n\u001b[0;32m   1363\u001b[0m       return self._call_tf_sessionrun(options, feed_dict, fetch_list,\n\u001b[1;32m-> 1364\u001b[1;33m                                       target_list, run_metadata)\n\u001b[0m\u001b[0;32m   1365\u001b[0m \u001b[1;33m\u001b[0m\u001b[0m\n\u001b[0;32m   1366\u001b[0m     \u001b[1;32mdef\u001b[0m \u001b[0m_prun_fn\u001b[0m\u001b[1;33m(\u001b[0m\u001b[0mhandle\u001b[0m\u001b[1;33m,\u001b[0m \u001b[0mfeed_dict\u001b[0m\u001b[1;33m,\u001b[0m \u001b[0mfetch_list\u001b[0m\u001b[1;33m)\u001b[0m\u001b[1;33m:\u001b[0m\u001b[1;33m\u001b[0m\u001b[1;33m\u001b[0m\u001b[0m\n",
      "\u001b[1;32m~\\.conda\\envs\\reco_base\\lib\\site-packages\\tensorflow\\python\\client\\session.py\u001b[0m in \u001b[0;36m_call_tf_sessionrun\u001b[1;34m(self, options, feed_dict, fetch_list, target_list, run_metadata)\u001b[0m\n\u001b[0;32m   1456\u001b[0m     return tf_session.TF_SessionRun_wrapper(self._session, options, feed_dict,\n\u001b[0;32m   1457\u001b[0m                                             \u001b[0mfetch_list\u001b[0m\u001b[1;33m,\u001b[0m \u001b[0mtarget_list\u001b[0m\u001b[1;33m,\u001b[0m\u001b[1;33m\u001b[0m\u001b[1;33m\u001b[0m\u001b[0m\n\u001b[1;32m-> 1458\u001b[1;33m                                             run_metadata)\n\u001b[0m\u001b[0;32m   1459\u001b[0m \u001b[1;33m\u001b[0m\u001b[0m\n\u001b[0;32m   1460\u001b[0m   \u001b[1;32mdef\u001b[0m \u001b[0m_call_tf_sessionprun\u001b[0m\u001b[1;33m(\u001b[0m\u001b[0mself\u001b[0m\u001b[1;33m,\u001b[0m \u001b[0mhandle\u001b[0m\u001b[1;33m,\u001b[0m \u001b[0mfeed_dict\u001b[0m\u001b[1;33m,\u001b[0m \u001b[0mfetch_list\u001b[0m\u001b[1;33m)\u001b[0m\u001b[1;33m:\u001b[0m\u001b[1;33m\u001b[0m\u001b[1;33m\u001b[0m\u001b[0m\n",
      "\u001b[1;31mKeyboardInterrupt\u001b[0m: "
     ]
    }
   ],
   "source": [
    "#  get the full prediction scores rather than evaluation metrics, we can do this:\n",
    "model = model.predict(test_file, output_file)"
   ]
  },
  {
   "cell_type": "markdown",
   "id": "ce6a5ae6",
   "metadata": {},
   "source": [
    "### Load saved model "
   ]
  },
  {
   "cell_type": "code",
   "execution_count": 14,
   "id": "ded6fdb1",
   "metadata": {
    "ExecuteTime": {
     "end_time": "2022-01-04T01:21:07.888253Z",
     "start_time": "2022-01-04T01:21:04.258810Z"
    }
   },
   "outputs": [
    {
     "name": "stderr",
     "output_type": "stream",
     "text": [
      "C:\\Users\\User\\.conda\\envs\\reco_base\\lib\\site-packages\\recommenders\\models\\deeprec\\models\\base_model.py:705: UserWarning: `tf.layers.batch_normalization` is deprecated and will be removed in a future version. Please use `tf.keras.layers.BatchNormalization` instead. In particular, `tf.control_dependencies(tf.GraphKeys.UPDATE_OPS)` should not be used (consult the `tf.keras.layers.BatchNormalization` documentation).\n",
      "  training=self.is_train_stage,\n",
      "C:\\Users\\User\\.conda\\envs\\reco_base\\lib\\site-packages\\keras\\legacy_tf_layers\\normalization.py:455: UserWarning: `layer.apply` is deprecated and will be removed in a future version. Please use `layer.__call__` method instead.\n",
      "  return layer.apply(inputs, training=training)\n"
     ]
    },
    {
     "name": "stdout",
     "output_type": "stream",
     "text": [
      "loading saved model in C:\\Users\\User\\Documents\\GitHub\\E-Sun 2021\\model/best_model\n"
     ]
    }
   ],
   "source": [
    "model_best_trained = SeqModel(hparams, input_creator, seed=RANDOM_SEED)\n",
    "path_best_trained = os.path.join(hparams.MODEL_DIR, \"best_model\")\n",
    "print('loading saved model in {0}'.format(path_best_trained))\n",
    "model_best_trained.load_model(path_best_trained)"
   ]
  },
  {
   "cell_type": "code",
   "execution_count": 34,
   "id": "fbe548a3",
   "metadata": {
    "ExecuteTime": {
     "end_time": "2022-01-01T08:21:34.231271Z",
     "start_time": "2022-01-01T08:14:10.536920Z"
    }
   },
   "outputs": [
    {
     "data": {
      "text/plain": [
       "{'auc': 0.8915,\n",
       " 'logloss': 5.3552,\n",
       " 'mean_mrr': 0.8211,\n",
       " 'ndcg@2': 0.8049,\n",
       " 'ndcg@4': 0.8583,\n",
       " 'ndcg@6': 0.8663,\n",
       " 'group_auc': 0.8713}"
      ]
     },
     "execution_count": 34,
     "metadata": {},
     "output_type": "execute_result"
    }
   ],
   "source": [
    "model_best_trained.run_eval(test_file, num_ngs=4)"
   ]
  },
  {
   "cell_type": "code",
   "execution_count": 15,
   "id": "7fce6ff1",
   "metadata": {
    "ExecuteTime": {
     "end_time": "2022-01-04T01:27:08.857595Z",
     "start_time": "2022-01-04T01:21:09.519642Z"
    },
    "scrolled": true
   },
   "outputs": [
    {
     "data": {
      "text/plain": [
       "<recommenders.models.deeprec.models.sequential.sli_rec.SLI_RECModel at 0x1cefc502408>"
      ]
     },
     "execution_count": 15,
     "metadata": {},
     "output_type": "execute_result"
    }
   ],
   "source": [
    "model_best_trained.predict(test_file, output_file)"
   ]
  },
  {
   "cell_type": "markdown",
   "id": "6542bfbd",
   "metadata": {},
   "source": [
    "### Transform into Top 3 items"
   ]
  },
  {
   "cell_type": "code",
   "execution_count": 16,
   "id": "72fd931e",
   "metadata": {
    "ExecuteTime": {
     "end_time": "2022-01-04T01:28:56.168420Z",
     "start_time": "2022-01-04T01:28:56.155835Z"
    }
   },
   "outputs": [],
   "source": [
    "sampled_instance_file = 'C:\\\\Users\\\\User\\\\Documents\\\\GitHub\\\\E-Sun 2021\\\\instance_output_0.5'"
   ]
  },
  {
   "cell_type": "code",
   "execution_count": 17,
   "id": "922cb230",
   "metadata": {
    "ExecuteTime": {
     "end_time": "2022-01-04T01:29:02.715895Z",
     "start_time": "2022-01-04T01:28:58.376587Z"
    }
   },
   "outputs": [],
   "source": [
    "columns = [\"label\", \"user_id\", \"item_id\", \"timestamp\", \"cate_id\"]\n",
    "ns_df = pd.read_csv(sampled_instance_file, sep=\"\\t\", names=columns)\n",
    "items_with_popular = list(ns_df[\"item_id\"])"
   ]
  },
  {
   "cell_type": "code",
   "execution_count": 18,
   "id": "3d1af099",
   "metadata": {
    "ExecuteTime": {
     "end_time": "2022-01-04T01:29:11.320738Z",
     "start_time": "2022-01-04T01:29:11.055519Z"
    }
   },
   "outputs": [],
   "source": [
    "ns_df = pd.read_csv(output_file, sep=\"\\t\", names=['score'], header=None)"
   ]
  },
  {
   "cell_type": "code",
   "execution_count": 19,
   "id": "79fba284",
   "metadata": {
    "ExecuteTime": {
     "end_time": "2022-01-04T01:29:26.891542Z",
     "start_time": "2022-01-04T01:29:19.626824Z"
    }
   },
   "outputs": [],
   "source": [
    "columns = [\"label\", \"user_id\", \"item_id\", \"timestamp\", \"cate_id\", \"history1\", \"history2\", \"history3\"]\n",
    "ns_df2 = pd.read_csv(test_file, sep=\"\\t\", names=columns, header=None)"
   ]
  },
  {
   "cell_type": "code",
   "execution_count": 20,
   "id": "630f3e41",
   "metadata": {
    "ExecuteTime": {
     "end_time": "2022-01-04T01:29:35.238295Z",
     "start_time": "2022-01-04T01:29:35.163342Z"
    }
   },
   "outputs": [],
   "source": [
    "ns_df2 = ns_df2.iloc[:,:3]"
   ]
  },
  {
   "cell_type": "code",
   "execution_count": 21,
   "id": "3eb92530",
   "metadata": {
    "ExecuteTime": {
     "end_time": "2022-01-04T01:29:43.516449Z",
     "start_time": "2022-01-04T01:29:43.501368Z"
    }
   },
   "outputs": [],
   "source": [
    "ns_df = pd.concat([ns_df, ns_df2], axis=1)"
   ]
  },
  {
   "cell_type": "code",
   "execution_count": 22,
   "id": "95a40a84",
   "metadata": {
    "ExecuteTime": {
     "end_time": "2022-01-04T01:29:51.846129Z",
     "start_time": "2022-01-04T01:29:51.831155Z"
    }
   },
   "outputs": [
    {
     "data": {
      "text/html": [
       "<div>\n",
       "<style scoped>\n",
       "    .dataframe tbody tr th:only-of-type {\n",
       "        vertical-align: middle;\n",
       "    }\n",
       "\n",
       "    .dataframe tbody tr th {\n",
       "        vertical-align: top;\n",
       "    }\n",
       "\n",
       "    .dataframe thead th {\n",
       "        text-align: right;\n",
       "    }\n",
       "</style>\n",
       "<table border=\"1\" class=\"dataframe\">\n",
       "  <thead>\n",
       "    <tr style=\"text-align: right;\">\n",
       "      <th></th>\n",
       "      <th>score</th>\n",
       "      <th>label</th>\n",
       "      <th>user_id</th>\n",
       "      <th>item_id</th>\n",
       "    </tr>\n",
       "  </thead>\n",
       "  <tbody>\n",
       "    <tr>\n",
       "      <th>0</th>\n",
       "      <td>0.999001</td>\n",
       "      <td>1</td>\n",
       "      <td>10267183</td>\n",
       "      <td>10</td>\n",
       "    </tr>\n",
       "    <tr>\n",
       "      <th>1</th>\n",
       "      <td>0.987493</td>\n",
       "      <td>0</td>\n",
       "      <td>10267183</td>\n",
       "      <td>2</td>\n",
       "    </tr>\n",
       "    <tr>\n",
       "      <th>2</th>\n",
       "      <td>0.731397</td>\n",
       "      <td>0</td>\n",
       "      <td>10267183</td>\n",
       "      <td>37</td>\n",
       "    </tr>\n",
       "    <tr>\n",
       "      <th>3</th>\n",
       "      <td>0.255462</td>\n",
       "      <td>0</td>\n",
       "      <td>10267183</td>\n",
       "      <td>48</td>\n",
       "    </tr>\n",
       "    <tr>\n",
       "      <th>4</th>\n",
       "      <td>0.441367</td>\n",
       "      <td>0</td>\n",
       "      <td>10267183</td>\n",
       "      <td>15</td>\n",
       "    </tr>\n",
       "    <tr>\n",
       "      <th>...</th>\n",
       "      <td>...</td>\n",
       "      <td>...</td>\n",
       "      <td>...</td>\n",
       "      <td>...</td>\n",
       "    </tr>\n",
       "    <tr>\n",
       "      <th>2407930</th>\n",
       "      <td>0.993562</td>\n",
       "      <td>1</td>\n",
       "      <td>10065096</td>\n",
       "      <td>48</td>\n",
       "    </tr>\n",
       "    <tr>\n",
       "      <th>2407931</th>\n",
       "      <td>0.948500</td>\n",
       "      <td>0</td>\n",
       "      <td>10065096</td>\n",
       "      <td>37</td>\n",
       "    </tr>\n",
       "    <tr>\n",
       "      <th>2407932</th>\n",
       "      <td>0.978269</td>\n",
       "      <td>0</td>\n",
       "      <td>10065096</td>\n",
       "      <td>2</td>\n",
       "    </tr>\n",
       "    <tr>\n",
       "      <th>2407933</th>\n",
       "      <td>0.951193</td>\n",
       "      <td>0</td>\n",
       "      <td>10065096</td>\n",
       "      <td>25</td>\n",
       "    </tr>\n",
       "    <tr>\n",
       "      <th>2407934</th>\n",
       "      <td>0.966506</td>\n",
       "      <td>0</td>\n",
       "      <td>10065096</td>\n",
       "      <td>15</td>\n",
       "    </tr>\n",
       "  </tbody>\n",
       "</table>\n",
       "<p>2407935 rows × 4 columns</p>\n",
       "</div>"
      ],
      "text/plain": [
       "            score  label   user_id  item_id\n",
       "0        0.999001      1  10267183       10\n",
       "1        0.987493      0  10267183        2\n",
       "2        0.731397      0  10267183       37\n",
       "3        0.255462      0  10267183       48\n",
       "4        0.441367      0  10267183       15\n",
       "...           ...    ...       ...      ...\n",
       "2407930  0.993562      1  10065096       48\n",
       "2407931  0.948500      0  10065096       37\n",
       "2407932  0.978269      0  10065096        2\n",
       "2407933  0.951193      0  10065096       25\n",
       "2407934  0.966506      0  10065096       15\n",
       "\n",
       "[2407935 rows x 4 columns]"
      ]
     },
     "execution_count": 22,
     "metadata": {},
     "output_type": "execute_result"
    }
   ],
   "source": [
    "ns_df"
   ]
  },
  {
   "cell_type": "code",
   "execution_count": 23,
   "id": "7cb3d8e6",
   "metadata": {
    "ExecuteTime": {
     "end_time": "2022-01-04T01:30:09.347546Z",
     "start_time": "2022-01-04T01:30:09.336571Z"
    }
   },
   "outputs": [],
   "source": [
    "def get_prediction_output(df):\n",
    "    sort_df = df.sort_values(by='score').iloc[-3:,:]\n",
    "    chid = df.user_id.unique()\n",
    "    top_3, top_2, top_1 = sort_df.item_id\n",
    "    data = {'chid':chid, 'top1':top_1, 'top2':top_2, 'top3':top_3}\n",
    "    df = pd.DataFrame(data)\n",
    "    return df   "
   ]
  },
  {
   "cell_type": "code",
   "execution_count": 24,
   "id": "55e5fddb",
   "metadata": {
    "ExecuteTime": {
     "end_time": "2022-01-04T01:34:28.698438Z",
     "start_time": "2022-01-04T01:30:17.704412Z"
    }
   },
   "outputs": [
    {
     "name": "stderr",
     "output_type": "stream",
     "text": [
      "100%|██████████| 481587/481587 [03:49<00:00, 2102.56it/s]\n"
     ]
    }
   ],
   "source": [
    "df_output = []\n",
    "# pd.DataFrame(columns=['chid', 'top1', 'top2', 'top3'])\n",
    "for dt, df in tqdm(ns_df.groupby('user_id')):\n",
    "    df_single_user = get_prediction_output(df=df)\n",
    "    df_output.append(df_single_user)\n",
    "df_output = pd.concat(df_output, axis=0)"
   ]
  },
  {
   "cell_type": "code",
   "execution_count": 25,
   "id": "68dfaba4",
   "metadata": {
    "ExecuteTime": {
     "end_time": "2022-01-04T01:35:05.898522Z",
     "start_time": "2022-01-04T01:34:37.144955Z"
    }
   },
   "outputs": [],
   "source": [
    "fields = ['chid']\n",
    "Full_ID_df = pd.read_csv('C:\\\\Users\\\\User\\\\Documents\\\\tbrain_cc_training_48tags_hash_final.csv',usecols=fields)"
   ]
  },
  {
   "cell_type": "code",
   "execution_count": 26,
   "id": "6f64b6d8",
   "metadata": {
    "ExecuteTime": {
     "end_time": "2022-01-04T01:35:17.113931Z",
     "start_time": "2022-01-04T01:35:14.279325Z"
    }
   },
   "outputs": [],
   "source": [
    "ID_diff = set(Full_ID_df.chid) - set(df_output.chid)"
   ]
  },
  {
   "cell_type": "markdown",
   "id": "bd4345aa",
   "metadata": {
    "ExecuteTime": {
     "end_time": "2021-12-28T09:11:31.001123Z",
     "start_time": "2021-12-28T09:11:30.982164Z"
    }
   },
   "source": [
    "random_number = [2, 10, 15, 37, 36, 39, 48]"
   ]
  },
  {
   "cell_type": "code",
   "execution_count": 27,
   "id": "940dd74d",
   "metadata": {
    "ExecuteTime": {
     "end_time": "2022-01-04T01:36:54.043168Z",
     "start_time": "2022-01-04T01:35:25.566390Z"
    }
   },
   "outputs": [
    {
     "name": "stderr",
     "output_type": "stream",
     "text": [
      "100%|██████████| 18413/18413 [01:28<00:00, 208.16it/s]\n"
     ]
    }
   ],
   "source": [
    "selection_shop_tag = [2, 10, 15, 36, 37, 39, 48]\n",
    "probs = [24/120, 24/120, 24/120, 14/120, 24/120, 7/120, 3/120]\n",
    "for ID in tqdm(ID_diff):\n",
    "    top_1, top_2, top_3 = np.random.choice(selection_shop_tag, size=3, replace=False, p=probs)\n",
    "    data = {'chid':[ID], 'top1':[top_1], 'top2':[top_2], 'top3':[top_3]}\n",
    "    df = pd.DataFrame(data, index=None)\n",
    "    df_output = pd.concat([df_output, df]) \n",
    "    "
   ]
  },
  {
   "cell_type": "code",
   "execution_count": 28,
   "id": "7aabc01a",
   "metadata": {
    "ExecuteTime": {
     "end_time": "2022-01-04T01:37:02.863207Z",
     "start_time": "2022-01-04T01:37:02.409979Z"
    }
   },
   "outputs": [],
   "source": [
    "df_output.to_csv(\"C:\\\\Users\\\\User\\\\Documents\\\\GitHub\\\\E-Sun 2021\\\\_4nd_extend_output.csv\", index=None, header=True, index_label=None)"
   ]
  },
  {
   "cell_type": "code",
   "execution_count": null,
   "id": "2ae42934",
   "metadata": {},
   "outputs": [],
   "source": []
  }
 ],
 "metadata": {
  "kernelspec": {
   "display_name": "Py3.7 (reco_base)",
   "language": "python",
   "name": "reco_base"
  },
  "language_info": {
   "codemirror_mode": {
    "name": "ipython",
    "version": 3
   },
   "file_extension": ".py",
   "mimetype": "text/x-python",
   "name": "python",
   "nbconvert_exporter": "python",
   "pygments_lexer": "ipython3",
   "version": "3.7.11"
  },
  "toc": {
   "base_numbering": 1,
   "nav_menu": {},
   "number_sections": true,
   "sideBar": true,
   "skip_h1_title": false,
   "title_cell": "Table of Contents",
   "title_sidebar": "Contents",
   "toc_cell": false,
   "toc_position": {
    "height": "calc(100% - 180px)",
    "left": "10px",
    "top": "150px",
    "width": "205.391px"
   },
   "toc_section_display": true,
   "toc_window_display": true
  },
  "varInspector": {
   "cols": {
    "lenName": 16,
    "lenType": 16,
    "lenVar": 40
   },
   "kernels_config": {
    "python": {
     "delete_cmd_postfix": "",
     "delete_cmd_prefix": "del ",
     "library": "var_list.py",
     "varRefreshCmd": "print(var_dic_list())"
    },
    "r": {
     "delete_cmd_postfix": ") ",
     "delete_cmd_prefix": "rm(",
     "library": "var_list.r",
     "varRefreshCmd": "cat(var_dic_list()) "
    }
   },
   "position": {
    "height": "248.844px",
    "left": "1504px",
    "right": "20px",
    "top": "119px",
    "width": "350px"
   },
   "types_to_exclude": [
    "module",
    "function",
    "builtin_function_or_method",
    "instance",
    "_Feature"
   ],
   "window_display": true
  }
 },
 "nbformat": 4,
 "nbformat_minor": 5
}
